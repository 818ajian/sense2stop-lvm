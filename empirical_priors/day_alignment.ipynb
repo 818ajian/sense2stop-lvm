{
 "cells": [
  {
   "cell_type": "code",
   "execution_count": 31,
   "metadata": {
    "collapsed": true
   },
   "outputs": [],
   "source": [
    "import pandas as pd\n",
    "import numpy as np\n",
    "import datetime as datetime\n",
    "import os\n",
    "import os.path"
   ]
  },
  {
   "cell_type": "code",
   "execution_count": 32,
   "metadata": {
    "collapsed": false
   },
   "outputs": [],
   "source": [
    "# read data\n",
    "alignment = pd.read_csv(\"alignment_user.csv\")"
   ]
  },
  {
   "cell_type": "code",
   "execution_count": 33,
   "metadata": {
    "collapsed": false
   },
   "outputs": [],
   "source": [
    "all_participant_ids = list(range(201,238))\n",
    "\n",
    "col_names = ['participant_id', 'mean', 'stdev', 'max', 'min', 'entries']\n",
    "df = pd.DataFrame(columns = col_names)\n",
    "alignments = []\n",
    "\n",
    "# user analysis\n",
    "for participant_id in all_participant_ids:\n",
    "    current = alignment[alignment.participant_id == participant_id]\n",
    "    if current.shape[0] == 0:\n",
    "        continue\n",
    "    summary = current.describe()\n",
    "    \n",
    "    # summary statistics for each user\n",
    "    current_user = {'participant_id': participant_id, 'mean': summary['alignment']['mean'],\n",
    "                   'stdev': summary['alignment']['std'], 'min': summary['alignment']['min'],\n",
    "                   'max': summary['alignment']['max'], 'entries': int(summary['alignment']['count'])}\n",
    "    alignments.append(summary['alignment']['mean'])\n",
    "    df.loc[len(df)] = current_user"
   ]
  },
  {
   "cell_type": "code",
   "execution_count": 34,
   "metadata": {
    "collapsed": false
   },
   "outputs": [
    {
     "name": "stdout",
     "output_type": "stream",
     "text": [
      "Added to allignment file!\n"
     ]
    }
   ],
   "source": [
    "# write the summaries to a csv file\n",
    "save_dir = '/Users/jasonma/dropbox/research/sense2stop-lvm/empirical_priors/'\n",
    "save_filename = 'alignment_summary.csv'\n",
    "if os.path.isfile(save_dir + save_filename):\n",
    "    append_write = 'a'  # append if already exists\n",
    "    header_binary = False\n",
    "else:\n",
    "    append_write = 'w'  # make a new file if not\n",
    "    header_binary = True\n",
    "temp_csv_file = open(save_dir+save_filename, append_write)\n",
    "df.to_csv(temp_csv_file, header=header_binary, index=False)\n",
    "temp_csv_file.close()\n",
    "print('Added to allignment file!')"
   ]
  },
  {
   "cell_type": "code",
   "execution_count": 36,
   "metadata": {
    "collapsed": false
   },
   "outputs": [
    {
     "name": "stdout",
     "output_type": "stream",
     "text": [
      "Statistics for alignment across users:\n",
      "the mean is 11.499475901756185\n",
      "the variance is 2.5936834475187878\n"
     ]
    }
   ],
   "source": [
    "# across user analysis\n",
    "print(\"Statistics for alignment across users:\")\n",
    "print(\"the mean is {}\".format(np.mean(alignments)))\n",
    "print(\"the variance is {}\".format(np.var(alignments)))"
   ]
  },
  {
   "cell_type": "code",
   "execution_count": null,
   "metadata": {
    "collapsed": true
   },
   "outputs": [],
   "source": []
  }
 ],
 "metadata": {
  "kernelspec": {
   "display_name": "Python 3",
   "language": "python",
   "name": "python3"
  },
  "language_info": {
   "codemirror_mode": {
    "name": "ipython",
    "version": 3
   },
   "file_extension": ".py",
   "mimetype": "text/x-python",
   "name": "python",
   "nbconvert_exporter": "python",
   "pygments_lexer": "ipython3",
   "version": "3.6.2"
  }
 },
 "nbformat": 4,
 "nbformat_minor": 2
}
