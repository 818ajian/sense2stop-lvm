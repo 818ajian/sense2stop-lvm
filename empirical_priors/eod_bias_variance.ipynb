{
 "cells": [
  {
   "cell_type": "code",
   "execution_count": 1,
   "metadata": {
    "collapsed": true
   },
   "outputs": [],
   "source": [
    "import pandas as pd\n",
    "import numpy as np\n",
    "import datetime as datetime"
   ]
  },
  {
   "cell_type": "code",
   "execution_count": 2,
   "metadata": {
    "collapsed": true
   },
   "outputs": [],
   "source": [
    "keys = ['8to9', '9to10', '10to11', '11to12','12to13','13to14','14to15','15to16','16to17','17to18','18to19','19to20']\n",
    "contingent_keys = {'Less than 5 minutes': 3, '5 to 15 minutes': 10, '15 to 30 minutes': 23, 'More than 30 minutes': 30}"
   ]
  },
  {
   "cell_type": "code",
   "execution_count": 3,
   "metadata": {
    "collapsed": false
   },
   "outputs": [],
   "source": [
    "# read data\n",
    "contingent_ema = pd.read_csv('eventcontingent-ema.csv')\n",
    "eod_ema = pd.read_csv('eod-ema.csv')\n",
    "\n",
    "contingent_ema_alternative = pd.read_csv('eventcontingent-ema-alternative.csv')\n",
    "eod_ema_alternative = pd.read_csv('eod-ema-alternative.csv')\n",
    "\n",
    "contingent_ema_backup = pd.read_csv('eventcontingent-ema-backup.csv')\n",
    "eod_ema_backup = pd.read_csv('eod-ema-backup.csv')"
   ]
  },
  {
   "cell_type": "code",
   "execution_count": 4,
   "metadata": {
    "collapsed": false
   },
   "outputs": [],
   "source": [
    "def eod_bias_variance(contingent_ema, eod_ema, window):\n",
    "    '''\n",
    "    treating the contingent ema as 'ground truth', compute the eod_ema's bias and variance. Takes \n",
    "    the window of time within which bias is computed as a parameter. Events that fall outside of the window\n",
    "    is counted as missed.\n",
    "    '''\n",
    "    \n",
    "    contingent_events = {} # store contingent events by participant\n",
    "    total_contingent_events = 0 # track the total number of contingent events\n",
    "    # store contingent events\n",
    "    for index, row in contingent_ema.iterrows():\n",
    "        if row['status'] == \"MISSED\":\n",
    "            continue\n",
    "        \n",
    "        try:\n",
    "            time = datetime.datetime.strptime(row['date'], '%m/%d/%y %H:%M')\n",
    "        except:\n",
    "            time = datetime.datetime.strptime(row['date'], '%Y-%m-%d %H:%M:%S')\n",
    "        date = (time.year, time.month, time.day) # granularize time to day\n",
    "        if row['participant_id'] not in contingent_events:\n",
    "            contingent_events[row['participant_id']] = {}\n",
    "        if date not in contingent_events[row['participant_id']]:\n",
    "            contingent_events[row['participant_id']][date] = set() # make the date key\n",
    "        offset = contingent_keys[row['when_smoke']] # compute smoking time offset based on response\n",
    "        \n",
    "        # compute smoking time\n",
    "        smoking_hour = time.hour\n",
    "        smoking_minute = time.minute\n",
    "        if time.minute - offset < 0 :\n",
    "            smoking_minute = 60 + time.minute - offset\n",
    "            smoking_hour -= 1\n",
    "            \n",
    "        contingent_events[row['participant_id']][date].add((smoking_hour, smoking_minute)) # store the hour, minute pair\n",
    "        total_contingent_events += 1\n",
    "            \n",
    "    eod_events = {} # store hour windows of smoking reported by eod_ema\n",
    "    total_eod_events = 0 # track the total number of contingent events\n",
    "    \n",
    "    # store events in eod_ema\n",
    "    for index, row in eod_ema.iterrows():\n",
    "        if row['status'] == \"MISSED\":\n",
    "            continue\n",
    "        for i in keys:\n",
    "            if row[i] == 1:\n",
    "                try:\n",
    "                    time = datetime.datetime.strptime(row['date'], '%m/%d/%Y %H:%M')\n",
    "                except:\n",
    "                    time = datetime.datetime.strptime(row['date'], '%Y-%m-%d %H:%M:%S')\n",
    "                hour = int(i.split('to')[0])\n",
    "                date = (time.year, time.month, time.day)\n",
    "                if time.hour  == 0 or time.hour == 1:\n",
    "                    date = (time.year, time.month, time.day-1)\n",
    "                if row['participant_id'] not in eod_events:\n",
    "                    eod_events[row['participant_id']] = {}\n",
    "                if date not in eod_events[row['participant_id']]:\n",
    "                    eod_events[row['participant_id']][date] = set() # make the date key\n",
    "                eod_events[row['participant_id']][date].add(hour) # store the hour\n",
    "                total_eod_events += 1\n",
    "    \n",
    "    bias = [] # store the bias for contingent events that are tracked in eod\n",
    "    missed_events = [] # store the contingent events that are missed in eod\n",
    "    \n",
    "    # compute eod_ema bias\n",
    "    for user in contingent_events:\n",
    "        current_events = contingent_events[user] # events associated with the current participant\n",
    "        for date in current_events:\n",
    "            \n",
    "            # in the case missed by eod\n",
    "            if user not in eod_events or date not in eod_events[user]:\n",
    "                for event in current_events[date]:\n",
    "                    missed_events.append(event)\n",
    "                continue\n",
    "                \n",
    "            events_hours = current_events[date] # all contingent events hour,minute pairs\n",
    "            eod_hours = eod_events[user][date]\n",
    "            for event in events_hours:\n",
    "                hour = event[0]\n",
    "                missed = True\n",
    "                for i in range(0, window+1): # iterate through the window\n",
    "                    if hour + i in eod_hours:\n",
    "                        real_time = hour*60+event[1]\n",
    "                        estimated_time = (hour+i) * 60 + 30\n",
    "                        current_bias = abs(estimated_time-real_time)\n",
    "                        bias.append(current_bias)\n",
    "                        missed = False\n",
    "                        break # skip once we found the closest reported time\n",
    "                    if hour-i in eod_hours:\n",
    "                        real_time = hour*60+event[1]\n",
    "                        estimated_time = (hour-i) * 60 + 30\n",
    "                        current_bias = abs(estimated_time-real_time)\n",
    "                        bias.append(current_bias)\n",
    "                        missed = False\n",
    "                        break\n",
    "                if missed:\n",
    "                    missed_events.append(event) # count as missed if not reported in eod within the window allowed\n",
    "    \n",
    "    # assess the truthfulness of self-report?\n",
    "    \n",
    "    print(len(bias), len(missed_events))\n",
    "    print(\"EOD bias variance report with bias window set to {}\".format(window))\n",
    "    print(\"The number of contingent events tracked by EOD within this window is {}\".format(len(bias)))\n",
    "    print(\"This is {}%. Compare to the total number of contingent events: {}\".format(100*len(bias)/total_contingent_events,total_contingent_events))\n",
    "    print(\"The mean of the bias is {}\".format(np.mean(bias)))\n",
    "    print(\"The variance of the bias is {}\".format(np.var(bias)))"
   ]
  },
  {
   "cell_type": "code",
   "execution_count": 5,
   "metadata": {
    "collapsed": false
   },
   "outputs": [
    {
     "name": "stdout",
     "output_type": "stream",
     "text": [
      "107 72\n",
      "EOD bias variance report with bias window set to 1\n",
      "The number of contingent events tracked by EOD within this window is 107\n",
      "This is 59.77653631284916%. Compare to the total number of contingent events: 179\n",
      "The mean of the bias is 33.88785046728972\n",
      "The variance of the bias is 649.5201327626868\n"
     ]
    }
   ],
   "source": [
    "eod_bias_variance(contingent_ema, eod_ema,1)"
   ]
  },
  {
   "cell_type": "code",
   "execution_count": 6,
   "metadata": {
    "collapsed": false
   },
   "outputs": [
    {
     "name": "stdout",
     "output_type": "stream",
     "text": [
      "124 55\n",
      "EOD bias variance report with bias window set to 2\n",
      "The number of contingent events tracked by EOD within this window is 124\n",
      "This is 69.27374301675978%. Compare to the total number of contingent events: 179\n",
      "The mean of the bias is 45.346774193548384\n",
      "The variance of the bias is 1424.2910379812695\n"
     ]
    }
   ],
   "source": [
    "eod_bias_variance(contingent_ema, eod_ema,2)"
   ]
  },
  {
   "cell_type": "code",
   "execution_count": 7,
   "metadata": {
    "collapsed": false
   },
   "outputs": [
    {
     "name": "stdout",
     "output_type": "stream",
     "text": [
      "129 50\n",
      "EOD bias variance report with bias window set to 3\n",
      "The number of contingent events tracked by EOD within this window is 129\n",
      "This is 72.06703910614524%. Compare to the total number of contingent events: 179\n",
      "The mean of the bias is 50.55813953488372\n",
      "The variance of the bias is 2050.3551469262666\n"
     ]
    }
   ],
   "source": [
    "eod_bias_variance(contingent_ema, eod_ema,3)"
   ]
  },
  {
   "cell_type": "code",
   "execution_count": 8,
   "metadata": {
    "collapsed": false
   },
   "outputs": [
    {
     "name": "stdout",
     "output_type": "stream",
     "text": [
      "129 50\n",
      "EOD bias variance report with bias window set to 4\n",
      "The number of contingent events tracked by EOD within this window is 129\n",
      "This is 72.06703910614524%. Compare to the total number of contingent events: 179\n",
      "The mean of the bias is 50.55813953488372\n",
      "The variance of the bias is 2050.3551469262666\n"
     ]
    }
   ],
   "source": [
    "eod_bias_variance(contingent_ema, eod_ema,4)"
   ]
  },
  {
   "cell_type": "code",
   "execution_count": null,
   "metadata": {
    "collapsed": true
   },
   "outputs": [],
   "source": []
  }
 ],
 "metadata": {
  "kernelspec": {
   "display_name": "Python 3",
   "language": "python",
   "name": "python3"
  },
  "language_info": {
   "codemirror_mode": {
    "name": "ipython",
    "version": 3
   },
   "file_extension": ".py",
   "mimetype": "text/x-python",
   "name": "python",
   "nbconvert_exporter": "python",
   "pygments_lexer": "ipython3",
   "version": "3.6.2"
  }
 },
 "nbformat": 4,
 "nbformat_minor": 2
}
