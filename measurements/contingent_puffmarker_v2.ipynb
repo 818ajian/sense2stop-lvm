{
 "cells": [
  {
   "cell_type": "code",
   "execution_count": 18,
   "metadata": {
    "collapsed": true
   },
   "outputs": [],
   "source": [
    "import pandas as pd\n",
    "import numpy as np\n",
    "import datetime as datetime\n",
    "import matplotlib.pyplot as plt"
   ]
  },
  {
   "cell_type": "code",
   "execution_count": 19,
   "metadata": {
    "collapsed": true
   },
   "outputs": [],
   "source": [
    "# read data\n",
    "contingent_ema = pd.read_csv('eventcontingent-ema.csv')\n",
    "puff_marker = pd.read_csv('puff-probability.csv')\n",
    "\n",
    "contingent_ema_alternative = pd.read_csv('eventcontingent-ema-alternative.csv')\n",
    "puff_marker_alternative = pd.read_csv('puff-probability-alternative.csv')\n",
    "\n",
    "contingent_ema_backup = pd.read_csv('eventcontingent-ema-backup.csv')\n",
    "puff_marker_backup = pd.read_csv('puff-probability-backup.csv')"
   ]
  },
  {
   "cell_type": "code",
   "execution_count": 56,
   "metadata": {
    "collapsed": false
   },
   "outputs": [],
   "source": [
    "def contingent_puff(contingent_ema, puff_marker, delta):\n",
    "    ema_stats = {}\n",
    "    ema_times = {}\n",
    "    puff_times = {}\n",
    "    puff_counts = {}\n",
    "    puff_probs = {}\n",
    "    print(\"Set delta to {} minutes\".format(delta))\n",
    "    for index, row in puff_marker.iterrows():\n",
    "        user = row['participant_id']\n",
    "        if user not in puff_times:\n",
    "            puff_times[user] = {}\n",
    "            puff_counts[user] = {}\n",
    "            puff_probs[user] = {}\n",
    "        try:\n",
    "            time = datetime.datetime.strptime(row['date'], '%m/%d/%y %H:%M')\n",
    "        except:\n",
    "            continue\n",
    "        date = (time.year, time.month, time.day, int(row['hour']))\n",
    "        prob_date = (time.year, time.month, time.day, int(row['hour']), int(row['minute']))\n",
    "        \n",
    "        if date not in puff_times[user]:\n",
    "            puff_times[user][date] = set()\n",
    "        puff_times[user][date].add(int(row['minute']))\n",
    "        \n",
    "        if prob_date not in puff_probs[user]:\n",
    "            puff_probs[user][prob_date] = float(row['event'])\n",
    "        \n",
    "    for index, row in contingent_ema.iterrows():\n",
    "        user = row['participant_id']\n",
    "        if user not in ema_stats:\n",
    "            ema_stats[user] = {'total':0, 'completed':0, 'smoked':0, 'HTM':0}\n",
    "            ema_times[user] = [] \n",
    "        ema_stats[user]['total'] += 1\n",
    "        if row['status'] != \"MISSED\":\n",
    "            ema_stats[user]['completed'] += 1\n",
    "\n",
    "        try:\n",
    "            time = datetime.datetime.strptime(row['date'], '%m/%d/%y %H:%M')\n",
    "        except:\n",
    "            time = datetime.datetime.strptime(row['date'], '%Y-%m-%d %H:%M:%S')\n",
    "\n",
    "        date = (time.year, time.month, time.day, time.hour, time.minute)\n",
    "        \n",
    "        ema_stats[user]['smoked'] += 1\n",
    "        ema_times[user].append(date)\n",
    "\n",
    "        # check if HTM detected\n",
    "        smoked = False\n",
    "        for i in range(delta):\n",
    "            if i > time.minute:\n",
    "                current_hour = time.hour-1\n",
    "                current_minute = 60-(i-time.minute)\n",
    "            else:\n",
    "                current_hour = time.hour\n",
    "                current_minute = time.minute-i\n",
    "            puff_time = (time.year, time.month, time.day, current_hour)\n",
    "            if puff_time not in puff_times[user]:\n",
    "                continue\n",
    "            \n",
    "            if current_minute in puff_times[user][puff_time]:\n",
    "                if not smoked:\n",
    "                    ema_stats[user]['HTM'] += 1 # indicator\n",
    "                    smoked = True\n",
    "                    \n",
    "                if puff_time not in puff_counts[user]:\n",
    "                    puff_counts[user][puff_time] = [0,0]\n",
    "                puff_counts[user][puff_time][0] += 1 # count\n",
    "                \n",
    "                prob_date = (time.year, time.month, time.day, current_hour, current_minute)\n",
    "                puff_counts[user][puff_time][1] += puff_probs[user][prob_date]\n",
    "    total_HTM = 0\n",
    "    total_puff = 0\n",
    "    total_prob = 0\n",
    "    count_prob = 0\n",
    "    print(\"\")\n",
    "    for user in ema_stats:\n",
    "        total_puff += ema_stats[user]['smoked']\n",
    "        total_HTM += ema_stats[user]['HTM']\n",
    "#         print(user, ema_stats[user])\n",
    "    print(\"percentage of contingent events covered by HTM is:{}\".format(total_HTM/total_puff))\n",
    "    \n",
    "    for user in puff_counts:\n",
    "        current = puff_counts[user]\n",
    "        for puff in current:\n",
    "            total_prob += current[puff][0]\n",
    "            count_prob += 1\n",
    "#             print(int(user),puff, current[puff][0])\n",
    "    print(\"average number of HTMs detected per contingent event: {}\".format(total_prob/count_prob))    \n",
    "    return ema_stats, puff_counts\n",
    "\n",
    "\n",
    "\n",
    "def make_graph(puff_counts):\n",
    "    probs = []\n",
    "    counts = []\n",
    "    for user in puff_counts:\n",
    "        current = puff_counts[user]\n",
    "        for puff in current:\n",
    "            counts.append(current[puff][0])\n",
    "            probs.append(current[puff][1]/current[puff][0])\n",
    "    plt.figure\n",
    "    plt.scatter(counts, probs)\n"
   ]
  },
  {
   "cell_type": "code",
   "execution_count": 57,
   "metadata": {
    "collapsed": false
   },
   "outputs": [
    {
     "name": "stdout",
     "output_type": "stream",
     "text": [
      "Set delta to 60 minutes\n",
      "\n",
      "percentage of contingent events covered by HTM is:0.8944444444444445\n",
      "average number of HTMs detected per contingent event: 4.055555555555555\n"
     ]
    },
    {
     "data": {
      "image/png": "[encoded data removed]",
      "text/plain": [
       "<matplotlib.figure.Figure at 0x10b330748>"
      ]
     },
     "metadata": {},
     "output_type": "display_data"
    }
   ],
   "source": [
    "ema_stats, puff_counts = contingent_puff(contingent_ema, puff_marker,60)\n",
    "make_graph(puff_counts)"
   ]
  },
  {
   "cell_type": "code",
   "execution_count": 58,
   "metadata": {
    "collapsed": false
   },
   "outputs": [
    {
     "name": "stdout",
     "output_type": "stream",
     "text": [
      "Set delta to 30 minutes\n",
      "\n",
      "percentage of contingent events covered by HTM is:0.8388888888888889\n",
      "average number of HTMs detected per contingent event: 3.3876404494382024\n"
     ]
    },
    {
     "data": {
      "image/png": "[encoded data removed]",
      "text/plain": [
       "<matplotlib.figure.Figure at 0x10adec2b0>"
      ]
     },
     "metadata": {},
     "output_type": "display_data"
    }
   ],
   "source": [
    "ema_stats, puff_counts = contingent_puff(contingent_ema, puff_marker,30)\n",
    "make_graph(puff_counts)"
   ]
  },
  {
   "cell_type": "code",
   "execution_count": 59,
   "metadata": {
    "collapsed": false
   },
   "outputs": [
    {
     "name": "stdout",
     "output_type": "stream",
     "text": [
      "Set delta to 15 minutes\n",
      "\n",
      "percentage of contingent events covered by HTM is:0.75\n",
      "average number of HTMs detected per contingent event: 2.8785714285714286\n"
     ]
    },
    {
     "data": {
      "image/png": "[encoded data removed]",
      "text/plain": [
       "<matplotlib.figure.Figure at 0x10a3a31d0>"
      ]
     },
     "metadata": {},
     "output_type": "display_data"
    }
   ],
   "source": [
    "ema_stats, puff_counts = contingent_puff(contingent_ema, puff_marker,15)\n",
    "make_graph(puff_counts)"
   ]
  },
  {
   "cell_type": "code",
   "execution_count": 60,
   "metadata": {
    "collapsed": false
   },
   "outputs": [
    {
     "name": "stdout",
     "output_type": "stream",
     "text": [
      "Set delta to 5 minutes\n",
      "\n",
      "percentage of contingent events covered by HTM is:0.5\n",
      "average number of HTMs detected per contingent event: 1.8021978021978022\n"
     ]
    },
    {
     "data": {
      "image/png": "[encoded data removed]",
      "text/plain": [
       "<matplotlib.figure.Figure at 0x10b234048>"
      ]
     },
     "metadata": {},
     "output_type": "display_data"
    }
   ],
   "source": [
    "ema_stats, puff_counts = contingent_puff(contingent_ema, puff_marker,5)\n",
    "make_graph(puff_counts)"
   ]
  },
  {
   "cell_type": "code",
   "execution_count": null,
   "metadata": {
    "collapsed": true
   },
   "outputs": [],
   "source": []
  }
 ],
 "metadata": {
  "kernelspec": {
   "display_name": "Python 3",
   "language": "python",
   "name": "python3"
  },
  "language_info": {
   "codemirror_mode": {
    "name": "ipython",
    "version": 3
   },
   "file_extension": ".py",
   "mimetype": "text/x-python",
   "name": "python",
   "nbconvert_exporter": "python",
   "pygments_lexer": "ipython3",
   "version": "3.6.2"
  }
 },
 "nbformat": 4,
 "nbformat_minor": 2
}
