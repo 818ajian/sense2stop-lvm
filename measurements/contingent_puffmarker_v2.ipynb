{
 "cells": [
  {
   "cell_type": "code",
   "execution_count": 1,
   "metadata": {},
   "outputs": [
    {
     "data": {
      "text/plain": [
       "'/Users/walterdempsey/Box/MD2K Processed Data/smoking-lvm-cleaned-data'"
      ]
     },
     "execution_count": 1,
     "metadata": {},
     "output_type": "execute_result"
    }
   ],
   "source": [
    "import pandas as pd\n",
    "import numpy as np\n",
    "import datetime as datetime\n",
    "import matplotlib.pyplot as plt\n",
    "import os\n",
    "os.getcwd()\n",
    "dir = \"/Users/walterdempsey/Box/MD2K Processed Data/smoking-lvm-cleaned-data/\"\n",
    "os.chdir(dir)\n",
    "os.getcwd()"
   ]
  },
  {
   "cell_type": "code",
   "execution_count": 112,
   "metadata": {},
   "outputs": [],
   "source": [
    "ec_accptresponse = ['15 to 30 minutes', '5 to 15 minutes', 'Less than 5 minutes']\n",
    "eventcontingent_dictionary = {'Less than 5 minutes': 2.5, \n",
    "                              '15 to 30 minutes': 17.5, \n",
    "                              '5 to 15 minutes': 10\n",
    "                             } "
   ]
  },
  {
   "cell_type": "code",
   "execution_count": 12,
   "metadata": {},
   "outputs": [],
   "source": [
    "# read data\n",
    "puffmarker_original_cloud_ids = [201, 203, 206, 210, 221, 229] \n",
    "puffmarker = pd.read_csv(dir + 'puff-probability.csv')\n",
    "puffmarker = puffmarker.drop(['offset'], axis = 1)\n",
    "puffmarker_alternative = pd.read_csv('puff-probability-alternative.csv')\n",
    "puffmarker_backup = pd.read_csv('puff-probability-backup.csv')\n",
    "\n",
    "temp_puffmarker_original = puffmarker[puffmarker['participant_id'].isin(puffmarker_original_cloud_ids)]\n",
    "temp_puffmarker_alt = puffmarker_alternative[~puffmarker_alternative['participant_id'].isin(puffmarker_original_cloud_ids)]\n",
    "\n",
    "puffmarker_complete = pd.concat([temp_puffmarker_original, temp_puffmarker_alt, puffmarker_backup])\n",
    "\n",
    "ec_original_cloud_ids = [201, 221, 229] \n",
    "contingent_ema = pd.read_csv(dir + 'eventcontingent-ema.csv')\n",
    "contingent_ema = contingent_ema.drop(['offset'], axis = 1)\n",
    "contingent_ema_alternative = pd.read_csv(dir + 'eventcontingent-ema-alternative.csv')\n",
    "contingent_ema_backup = pd.read_csv(dir + 'eventcontingent-ema-backup.csv')\n",
    "\n",
    "temp_contingent_original = contingent_ema[contingent_ema['participant_id'].isin(ec_original_cloud_ids)]\n",
    "temp_contingent_alt = contingent_ema_alternative[~contingent_ema_alternative['participant_id'].isin(ec_original_cloud_ids)]\n",
    "\n",
    "contingent_complete = pd.concat([temp_contingent_original, temp_contingent_alt, contingent_ema_backup])\n"
   ]
  },
  {
   "cell_type": "code",
   "execution_count": 139,
   "metadata": {},
   "outputs": [],
   "source": [
    "def contingent_puff(delta):\n",
    "    '''\n",
    "    checks how sensitive is puffmarker coverage of \n",
    "    contingent events to time window\n",
    "    '''\n",
    "    #print(\"Set delta to {} minutes\".format(delta))\n",
    "\n",
    "    htm_complete = []\n",
    "    for id in set(contingent_complete['participant_id']) & set(puffmarker_complete['participant_id']):\n",
    "        puffmarker_id = np.where(puffmarker_complete['participant_id'] == id) \n",
    "        puffmarker_subset = puffmarker_complete.iloc[puffmarker_id[0]]\n",
    "        try:\n",
    "            puffmarker_dates_list = [datetime.datetime.strptime(date, '%m/%d/%y %H:%M') for date in puffmarker_subset['date']]\n",
    "        except:\n",
    "            puffmarker_dates_list = [datetime.datetime.strptime(date, '%Y-%m-%d %H:%M:%S') for date in puffmarker_subset['date']]\n",
    "\n",
    "        contingent_id = np.where(contingent_complete['participant_id'] == id) \n",
    "        contingent_subset = contingent_complete.iloc[contingent_id[0]]\n",
    "\n",
    "        htm_id_list = []\n",
    "        for index, row in contingent_subset.iterrows():\n",
    "            try:\n",
    "                ec_time = datetime.datetime.strptime(row['date'], '%m/%d/%y %H:%M')\n",
    "            except:\n",
    "                ec_time = datetime.datetime.strptime(row['date'], '%Y-%m-%d %H:%M:%S')\n",
    "            if row['when_smoke'] in ec_accptresponse:\n",
    "                ec_time = ec_time - datetime.timedelta(minutes=eventcontingent_dictionary[row['when_smoke']])\n",
    "            if row['when_smoke'] in ec_accptresponse: \n",
    "                htm_count = 0\n",
    "                for index_puff in range(0,len(puffmarker_dates_list)):\n",
    "                    temp = abs((puffmarker_dates_list[index_puff] - ec_time).total_seconds() / 60.0)\n",
    "                    if temp <= delta:\n",
    "                        htm_count += 1\n",
    "                htm_id_list.append(htm_count)  \n",
    "\n",
    "        htm_complete.append(np.array(htm_id_list, dtype = 'f'))\n",
    "\n",
    "    return htm_complete\n"
   ]
  },
  {
   "cell_type": "code",
   "execution_count": 194,
   "metadata": {},
   "outputs": [],
   "source": [
    "def summary_output(delta):\n",
    "    output_delta = contingent_puff(delta)\n",
    "    output_delta = np.asarray(output_delta)\n",
    "    agg_sum_delta = np.asarray([np.sum(arr) for arr in output_delta])\n",
    "    agg_mean_delta  = np.asarray([np.mean(arr) for arr in output_delta])\n",
    "    agg_count_delta  = np.asarray([len(arr) for arr in output_delta])\n",
    "    agg_zero_delta  = np.asarray([np.count_nonzero(arr==0) for arr in output_delta], dtype='f')\n",
    "    ind_zero_delta = np.divide(agg_zero_delta, agg_count_delta)\n",
    "\n",
    "    aggregate_frac_delta  = np.divide(np.sum(agg_sum_delta),np.sum(agg_count_delta))\n",
    "    aggregate_fraczero_delta  = np.divide(np.sum(agg_zero_delta),np.sum(agg_count_delta))\n",
    "\n",
    "    print '% s minute window:' % (delta)\n",
    "    print 'Mean number of HTMGs (aggregated data): %s' % (np.round(aggregate_frac_delta,3))\n",
    "    print 'Avg number of HTMGs (avg of means across indidivuals): %s' % (np.round(np.mean(agg_mean_delta),3))\n",
    "    print 'Std dev of number of HTMGs (of means across indidivuals): %s' %  (np.round(np.std(agg_mean_delta),3))\n",
    "    print 'Fraction of time no HTMGs in window (aggregated data): %s' %  (np.round(np.sum(aggregate_fraczero_delta),3))\n",
    "    print 'Avg fraction of time no HTMGs in window (of fractions across individuals): %s' %  (np.round(np.mean(ind_zero_delta),3))\n",
    "    print 'Std dev of fraction of time no HTMGs in window (of fractions across individuals): %s' %  (np.round(np.std(ind_zero_delta),3))\n",
    "    print\n",
    "    \n",
    "    return None"
   ]
  },
  {
   "cell_type": "code",
   "execution_count": 214,
   "metadata": {},
   "outputs": [
    {
     "name": "stdout",
     "output_type": "stream",
     "text": [
      "5 minute window:\n",
      "Mean number of HTMGs (aggregated data): 2.123\n",
      "Avg number of HTMGs (avg of means across indidivuals): 2.207\n",
      "Std dev of number of HTMGs (of means across indidivuals): 1.598\n",
      "Fraction of time no HTMGs in window (aggregated data): 0.368\n",
      "Avg fraction of time no HTMGs in window (of fractions across individuals): 0.33\n",
      "Std dev of fraction of time no HTMGs in window (of fractions across individuals): 0.27\n",
      "\n",
      "15 minute window:\n",
      "Mean number of HTMGs (aggregated data): 3.923\n",
      "Avg number of HTMGs (avg of means across indidivuals): 4.178\n",
      "Std dev of number of HTMGs (of means across indidivuals): 2.771\n",
      "Fraction of time no HTMGs in window (aggregated data): 0.238\n",
      "Avg fraction of time no HTMGs in window (of fractions across individuals): 0.217\n",
      "Std dev of fraction of time no HTMGs in window (of fractions across individuals): 0.248\n",
      "\n",
      "30 minute window:\n",
      "Mean number of HTMGs (aggregated data): 5.989\n",
      "Avg number of HTMGs (avg of means across indidivuals): 6.474\n",
      "Std dev of number of HTMGs (of means across indidivuals): 3.641\n",
      "Fraction of time no HTMGs in window (aggregated data): 0.142\n",
      "Avg fraction of time no HTMGs in window (of fractions across individuals): 0.131\n",
      "Std dev of fraction of time no HTMGs in window (of fractions across individuals): 0.222\n",
      "\n",
      "60 minute window:\n",
      "Mean number of HTMGs (aggregated data): 9.977\n",
      "Avg number of HTMGs (avg of means across indidivuals): 10.56\n",
      "Std dev of number of HTMGs (of means across indidivuals): 5.45\n",
      "Fraction of time no HTMGs in window (aggregated data): 0.084\n",
      "Avg fraction of time no HTMGs in window (of fractions across individuals): 0.06\n",
      "Std dev of fraction of time no HTMGs in window (of fractions across individuals): 0.109\n",
      "\n"
     ]
    }
   ],
   "source": [
    "'''\n",
    "Calculate the HTMG coverage for 5, 15, 30, and 60 minutes\n",
    "around the event time.\n",
    "'''\n",
    "\n",
    "summary_output(5)\n",
    "\n",
    "summary_output(15)\n",
    "\n",
    "summary_output(30)\n",
    "\n",
    "summary_output(60)"
   ]
  },
  {
   "cell_type": "code",
   "execution_count": 213,
   "metadata": {},
   "outputs": [
    {
     "name": "stdout",
     "output_type": "stream",
     "text": [
      "483.30132246017456\n",
      "31\n",
      "ANOVA p-value for current hour: 0.0\n"
     ]
    }
   ],
   "source": [
    "''' \n",
    "Compute an anova decomposition using the poisson likelihood\n",
    "This will test if there are significant differences across\n",
    "individuals.\n",
    "'''\n",
    "\n",
    "llik_delta = 0; agg_llik_delta = 0\n",
    "output_delta = contingent_puff(delta)\n",
    "output_delta = np.asarray(output_delta)\n",
    "agg_sum_delta = np.asarray([np.sum(arr) for arr in output_delta])\n",
    "agg_mean_delta  = np.asarray([np.mean(arr) for arr in output_delta])\n",
    "agg_count_delta  = np.asarray([len(arr) for arr in output_delta])\n",
    "aggregate_frac_delta  = np.divide(np.sum(agg_sum_delta),np.sum(agg_count_delta))\n",
    "\n",
    "for i in range(0, agg_mean_delta.size):\n",
    "    user_mean = agg_mean_delta[i]\n",
    "    row = output_delta[i]\n",
    "    if user_mean > 0.0:\n",
    "        llik_delta += np.sum(np.subtract(np.multiply(row, np.log(user_mean)),user_mean))\n",
    "        agg_llik_delta += np.sum(np.subtract(np.multiply(row, np.log(aggregate_frac_delta)),aggregate_frac_delta))\n",
    "\n",
    "D_delta = -2*agg_llik_delta + 2*llik_delta\n",
    "print D_delta\n",
    "\n",
    "\n",
    "from scipy.stats import chi2\n",
    "n = np.sum(agg_count_delta)\n",
    "k = output_delta.shape[0]\n",
    "df = k-1\n",
    "print k\n",
    "\n",
    "print 'ANOVA p-value for current hour: %s' % (1-chi2.cdf(D_delta, df))"
   ]
  },
  {
   "cell_type": "code",
   "execution_count": 14,
   "metadata": {},
   "outputs": [],
   "source": [
    "def contingent_puff(contingent_ema, puff_marker, delta):\n",
    "    '''\n",
    "    checks how sensitive is puffmarker coverage of \n",
    "    contingent events to time window\n",
    "    '''\n",
    "    \n",
    "    ema_stats = {}\n",
    "    ema_times = {} # keep track of contingent event timestamps\n",
    "    puff_times = {} # keep track of HTMG timestamps\n",
    "    puff_counts = {} # keep\n",
    "    puff_probs = {} # keep track of HTMG estimated probability (not very useful)\n",
    "    print(\"Set delta to {} minutes\".format(delta))\n",
    "    \n",
    "    # store HTMGs\n",
    "    for index, row in puff_marker.iterrows():\n",
    "        user = row['participant_id']\n",
    "        if user not in puff_times:\n",
    "            puff_times[user] = {}\n",
    "            puff_counts[user] = {}\n",
    "            puff_probs[user] = {}\n",
    "        try:\n",
    "            time = datetime.datetime.strptime(row['date'], '%m/%d/%y %H:%M')\n",
    "        except:\n",
    "            continue\n",
    "        date = (time.year, time.month, time.day, int(row['hour']))\n",
    "        prob_date = (time.year, time.month, time.day, int(row['hour']), int(row['minute']))\n",
    "        \n",
    "        if date not in puff_times[user]:\n",
    "            puff_times[user][date] = set() # make each hour block a dictionary that stores the minutes\n",
    "        puff_times[user][date].add(int(row['minute'])) # store the timestamp of the HTMG\n",
    "        \n",
    "        if prob_date not in puff_probs[user]:\n",
    "            puff_probs[user][prob_date] = float(row['event']) # store the estimated probability of the HTMG\n",
    "        \n",
    "    # store contingent events\n",
    "    for index, row in contingent_ema.iterrows():\n",
    "        user = row['participant_id']\n",
    "        if user not in ema_stats:\n",
    "            ema_stats[user] = {'total':0, 'completed':0, 'smoked':0, 'HTM':0}\n",
    "            ema_times[user] = [] # store contingent event timestamps\n",
    "        ema_stats[user]['total'] += 1\n",
    "        if row['status'] != \"MISSED\":\n",
    "            ema_stats[user]['completed'] += 1\n",
    "\n",
    "        try:\n",
    "            time = datetime.datetime.strptime(row['date'], '%m/%d/%y %H:%M')\n",
    "        except:\n",
    "            time = datetime.datetime.strptime(row['date'], '%Y-%m-%d %H:%M:%S')\n",
    "\n",
    "        date = (time.year, time.month, time.day, time.hour, time.minute)\n",
    "        \n",
    "        ema_stats[user]['smoked'] += 1\n",
    "        ema_times[user].append(date)\n",
    "\n",
    "        # check HTMG coverage of contingent events\n",
    "        smoked = False\n",
    "        for i in range(delta):\n",
    "            # compute possible HTMG timestamp that may correspond to the current smoking event\n",
    "            if i > time.minute:\n",
    "                current_hour = time.hour-1\n",
    "                current_minute = 60-(i-time.minute)\n",
    "            else:\n",
    "                current_hour = time.hour\n",
    "                current_minute = time.minute-i\n",
    "            puff_time = (time.year, time.month, time.day, current_hour)\n",
    "            \n",
    "            # skip to the next possible timestamp if the current one is not stored\n",
    "            if puff_time not in puff_times[user]:\n",
    "                continue\n",
    "            \n",
    "            if current_minute in puff_times[user][puff_time]:\n",
    "                if not smoked:\n",
    "                    ema_stats[user]['HTM'] += 1 # indicator that tracks HTMG coverage of contingent events\n",
    "                    smoked = True # avoid double counting\n",
    "                    \n",
    "                if puff_time not in puff_counts[user]:\n",
    "                    puff_counts[user][puff_time] = [0,0] \n",
    "                puff_counts[user][puff_time][0] += 1 # increases the counter of the HTMG events associated with the current event\n",
    "                \n",
    "                prob_date = (time.year, time.month, time.day, current_hour, current_minute)\n",
    "                puff_counts[user][puff_time][1] += puff_probs[user][prob_date] # aggregate the estimated probability of the HTMG events associated with the current event\n",
    "    \n",
    "    # output results\n",
    "    total_HTM = 0\n",
    "    total_puff = 0\n",
    "    total_gestures = 0\n",
    "    total_events = 0\n",
    "    print(\"\")\n",
    "    for user in ema_stats:\n",
    "        total_puff += ema_stats[user]['smoked']\n",
    "        total_HTM += ema_stats[user]['HTM']\n",
    "#         print(user, ema_stats[user])\n",
    "    print(\"percentage of contingent events covered by HTM is:{}\".format(total_HTM/total_puff))\n",
    "    \n",
    "    for user in puff_counts:\n",
    "        current = puff_counts[user]\n",
    "        for puff in current:\n",
    "            total_gestures += current[puff][0]\n",
    "            total_events += 1\n",
    "#             print(int(user),puff, current[puff][0])\n",
    "    print(\"average number of HTMs detected per contingent event: {}\".format(total_gestures/total_events))    \n",
    "    return ema_stats, puff_counts\n",
    "\n",
    "\n",
    "\n",
    "def make_graph(puff_counts):\n",
    "    probs = []\n",
    "    counts = []\n",
    "    for user in puff_counts:\n",
    "        current = puff_counts[user]\n",
    "        for puff in current:\n",
    "            counts.append(current[puff][0])\n",
    "            probs.append(current[puff][1]/current[puff][0])\n",
    "    plt.figure\n",
    "    plt.scatter(counts, probs)\n"
   ]
  },
  {
   "cell_type": "code",
   "execution_count": 15,
   "metadata": {},
   "outputs": [
    {
     "name": "stdout",
     "output_type": "stream",
     "text": [
      "Set delta to 60 minutes\n",
      "\n",
      "percentage of contingent events covered by HTM is:0\n",
      "average number of HTMs detected per contingent event: 2\n"
     ]
    }
   ],
   "source": [
    "ema_stats, puff_counts = contingent_puff(contingent_complete, puffmarker_complete,60)\n",
    "make_graph(puff_counts)"
   ]
  },
  {
   "cell_type": "code",
   "execution_count": 16,
   "metadata": {},
   "outputs": [
    {
     "name": "stdout",
     "output_type": "stream",
     "text": [
      "Set delta to 30 minutes\n",
      "\n",
      "percentage of contingent events covered by HTM is:0\n",
      "average number of HTMs detected per contingent event: 2\n"
     ]
    }
   ],
   "source": [
    "ema_stats, puff_counts = contingent_puff(contingent_complete, puffmarker_complete,30)\n",
    "make_graph(puff_counts)"
   ]
  },
  {
   "cell_type": "code",
   "execution_count": 59,
   "metadata": {},
   "outputs": [
    {
     "name": "stdout",
     "output_type": "stream",
     "text": [
      "Set delta to 15 minutes\n",
      "\n",
      "percentage of contingent events covered by HTM is:0.75\n",
      "average number of HTMs detected per contingent event: 2.8785714285714286\n"
     ]
    },
    {
     "data": {
      "image/png": "[encoded data removed]",
      "text/plain": [
       "<matplotlib.figure.Figure at 0x10a3a31d0>"
      ]
     },
     "metadata": {},
     "output_type": "display_data"
    }
   ],
   "source": [
    "ema_stats, puff_counts = contingent_puff(contingent_ema, puff_marker,15)\n",
    "make_graph(puff_counts)"
   ]
  },
  {
   "cell_type": "code",
   "execution_count": 60,
   "metadata": {},
   "outputs": [
    {
     "name": "stdout",
     "output_type": "stream",
     "text": [
      "Set delta to 5 minutes\n",
      "\n",
      "percentage of contingent events covered by HTM is:0.5\n",
      "average number of HTMs detected per contingent event: 1.8021978021978022\n"
     ]
    },
    {
     "data": {
      "image/png": "[encoded data removed]",
      "text/plain": [
       "<matplotlib.figure.Figure at 0x10b234048>"
      ]
     },
     "metadata": {},
     "output_type": "display_data"
    }
   ],
   "source": [
    "ema_stats, puff_counts = contingent_puff(contingent_ema, puff_marker,5)\n",
    "make_graph(puff_counts)"
   ]
  },
  {
   "cell_type": "code",
   "execution_count": null,
   "metadata": {
    "collapsed": true
   },
   "outputs": [],
   "source": []
  }
 ],
 "metadata": {
  "kernelspec": {
   "display_name": "Python 2",
   "language": "python",
   "name": "python2"
  },
  "language_info": {
   "codemirror_mode": {
    "name": "ipython",
    "version": 2
   },
   "file_extension": ".py",
   "mimetype": "text/x-python",
   "name": "python",
   "nbconvert_exporter": "python",
   "pygments_lexer": "ipython2",
   "version": "2.7.10"
  }
 },
 "nbformat": 4,
 "nbformat_minor": 2
}
