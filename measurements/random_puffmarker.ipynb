{
 "cells": [
  {
   "cell_type": "code",
   "execution_count": 1,
   "metadata": {
    "collapsed": true
   },
   "outputs": [],
   "source": [
    "import pandas as pd\n",
    "import numpy as np\n",
    "import datetime as datetime"
   ]
  },
  {
   "cell_type": "code",
   "execution_count": 2,
   "metadata": {
    "collapsed": true
   },
   "outputs": [],
   "source": [
    "# read data\n",
    "random_ema = pd.read_csv('random-ema.csv')\n",
    "puff_marker = pd.read_csv('puff-probability.csv')\n",
    "\n",
    "random_ema_alternative = pd.read_csv('random-ema-alternative.csv')\n",
    "puff_marker_alternative = pd.read_csv('puff-probability-alternative.csv')\n",
    "\n",
    "random_ema_backup = pd.read_csv('random-ema-backup.csv')\n",
    "puff_marker_backup = pd.read_csv('puff-probability-backup.csv')"
   ]
  },
  {
   "cell_type": "code",
   "execution_count": null,
   "metadata": {
    "collapsed": true
   },
   "outputs": [],
   "source": [
    "def random_puffmarker(random_ema, puff_marker):\n",
    "    ema_stats = {}\n",
    "    ema_times = {}\n",
    "    puff_times = {}\n",
    "    \n",
    "    for index, row in puff_marker.iterrows():\n",
    "        user = row['participant_id']\n",
    "        if user not in puff_times:\n",
    "            puff_times[user] = set()\n",
    "        try:\n",
    "            time = datetime.datetime.strptime(row['date'], '%m/%d/%y %H:%M')\n",
    "        except ValueError:\n",
    "            time = datetime.datetime.strptime(row['date'], '%Y-%m-%d %H:%M:%S')\n",
    "        except TypeError:\n",
    "            continue\n",
    "        date = (time.year, time.month, time.day, int(row['hour']))\n",
    "        puff_times[user].add(date)\n",
    "    \n",
    "    "
   ]
  }
 ],
 "metadata": {
  "kernelspec": {
   "display_name": "Python 3",
   "language": "python",
   "name": "python3"
  },
  "language_info": {
   "codemirror_mode": {
    "name": "ipython",
    "version": 3
   },
   "file_extension": ".py",
   "mimetype": "text/x-python",
   "name": "python",
   "nbconvert_exporter": "python",
   "pygments_lexer": "ipython3",
   "version": "3.6.2"
  }
 },
 "nbformat": 4,
 "nbformat_minor": 2
}
