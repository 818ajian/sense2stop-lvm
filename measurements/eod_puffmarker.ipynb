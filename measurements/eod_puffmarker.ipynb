{
 "cells": [
  {
   "cell_type": "code",
   "execution_count": 1,
   "metadata": {
    "collapsed": true
   },
   "outputs": [],
   "source": [
    "import pandas as pd\n",
    "import numpy as np\n",
    "import datetime as datetime"
   ]
  },
  {
   "cell_type": "code",
   "execution_count": 2,
   "metadata": {
    "collapsed": true
   },
   "outputs": [],
   "source": [
    "keys = ['8to9', '9to10', '10to11', '11to12','12to13','13to14','14to15','15to16','16to17','17to18','18to19','19to20']\n"
   ]
  },
  {
   "cell_type": "code",
   "execution_count": 82,
   "metadata": {
    "collapsed": true
   },
   "outputs": [],
   "source": [
    "# read data\n",
    "eod_ema = pd.read_csv('eod-ema.csv')\n",
    "puff_marker = pd.read_csv('puff-probability.csv')\n",
    "\n",
    "eod_ema_alternative = pd.read_csv('eod-ema-alternative.csv')\n",
    "puff_marker_alternative = pd.read_csv('puff-probability-alternative.csv')\n",
    "\n",
    "eod_ema_backup = pd.read_csv('eod-ema-backup.csv')\n",
    "puff_marker_backup = pd.read_csv('puff-probability-backup.csv')"
   ]
  },
  {
   "cell_type": "code",
   "execution_count": 79,
   "metadata": {
    "collapsed": false
   },
   "outputs": [
    {
     "name": "stdout",
     "output_type": "stream",
     "text": [
      "201 {'total': 3, 'completed': 2, 'smoked': 11, 'HTM': 5}\n",
      "203 {'total': 5, 'completed': 3, 'smoked': 0, 'HTM': 0}\n",
      "205 {'total': 13, 'completed': 13, 'smoked': 16, 'HTM': 9}\n",
      "206 {'total': 5, 'completed': 5, 'smoked': 0, 'HTM': 0}\n",
      "207 {'total': 6, 'completed': 5, 'smoked': 0, 'HTM': 0}\n",
      "208 {'total': 4, 'completed': 4, 'smoked': 8, 'HTM': 8}\n",
      "209 {'total': 3, 'completed': 3, 'smoked': 12, 'HTM': 9}\n",
      "211 {'total': 14, 'completed': 14, 'smoked': 28, 'HTM': 24}\n",
      "213 {'total': 3, 'completed': 3, 'smoked': 9, 'HTM': 9}\n",
      "214 {'total': 11, 'completed': 9, 'smoked': 34, 'HTM': 31}\n",
      "215 {'total': 14, 'completed': 14, 'smoked': 14, 'HTM': 14}\n",
      "216 {'total': 13, 'completed': 12, 'smoked': 7, 'HTM': 7}\n",
      "217 {'total': 12, 'completed': 10, 'smoked': 23, 'HTM': 19}\n",
      "218 {'total': 14, 'completed': 12, 'smoked': 14, 'HTM': 13}\n",
      "219 {'total': 14, 'completed': 14, 'smoked': 56, 'HTM': 55}\n",
      "220 {'total': 2, 'completed': 2, 'smoked': 7, 'HTM': 6}\n",
      "221 {'total': 4, 'completed': 1, 'smoked': 5, 'HTM': 1}\n",
      "222 {'total': 2, 'completed': 2, 'smoked': 7, 'HTM': 4}\n",
      "228 {'total': 13, 'completed': 13, 'smoked': 40, 'HTM': 35}\n",
      "229 {'total': 6, 'completed': 5, 'smoked': 22, 'HTM': 18}\n",
      "230 {'total': 13, 'completed': 13, 'smoked': 13, 'HTM': 9}\n",
      "231 {'total': 3, 'completed': 3, 'smoked': 18, 'HTM': 14}\n",
      "232 {'total': 1, 'completed': 0, 'smoked': 0, 'HTM': 0}\n",
      "233 {'total': 10, 'completed': 9, 'smoked': 31, 'HTM': 19}\n",
      "234 {'total': 3, 'completed': 1, 'smoked': 1, 'HTM': 1}\n",
      "235 {'total': 7, 'completed': 7, 'smoked': 16, 'HTM': 14}\n",
      "236 {'total': 2, 'completed': 2, 'smoked': 7, 'HTM': 5}\n",
      "237 {'total': 2, 'completed': 2, 'smoked': 1, 'HTM': 1}\n"
     ]
    }
   ],
   "source": [
    "def random_puff(eod_ema, puff_marker):\n",
    "    ema_stats = {}\n",
    "    ema_times = {}\n",
    "    puff_times = {}\n",
    "    \n",
    "    for index, row in puff_marker.iterrows():\n",
    "        user = row['participant_id']\n",
    "        if user not in puff_times:\n",
    "            puff_times[user] = set()\n",
    "        try:\n",
    "            time = datetime.datetime.strptime(row['date'], '%m/%d/%y %H:%M')\n",
    "        except ValueError:\n",
    "            time = datetime.datetime.strptime(row['date'], '%Y-%m-%d %H:%M:%S')\n",
    "        except TypeError:\n",
    "            continue\n",
    "        date = (time.year, time.month, time.day, int(row['hour']))\n",
    "        puff_times[user].add(date)\n",
    "\n",
    "    for index, row in eod_ema.iterrows():\n",
    "        user = row['participant_id']\n",
    "        if user not in ema_stats:\n",
    "            ema_stats[user] = {'total':0, 'completed':0, 'smoked':0, 'HTM':0}\n",
    "            ema_times[user] = [] \n",
    "        ema_stats[user]['total'] += 1\n",
    "        if row['status'] != \"MISSED\":\n",
    "            ema_stats[user]['completed'] += 1\n",
    "        for i in keys:\n",
    "            if row[i] == 1:\n",
    "                try:\n",
    "                    time = datetime.datetime.strptime(row['date'], '%m/%d/%Y %H:%M')\n",
    "                except:\n",
    "                    time = datetime.datetime.strptime(row['date'], '%Y-%m-%d %H:%M:%S')\n",
    "                \n",
    "                hours = i.split('to')\n",
    "                if time.hour  == 0 or time.hour == 1:\n",
    "                    date = (time.year, time.month, time.day-1, int(hours[0]), int(hours[1]))\n",
    "                else:\n",
    "                    date = (time.year, time.month, time.day, int(hours[0]), int(hours[1]))\n",
    "                ema_stats[user]['smoked'] += 1\n",
    "                ema_times[user].append(date)\n",
    "                \n",
    "                # check if HTM detected\n",
    "                puff_time0 = (time.year, time.month, date[2], int(hours[0])-1)\n",
    "                puff_time1 = (time.year, time.month, date[2], int(hours[0]))\n",
    "                puff_time2 = (time.year, time.month, date[2], int(hours[1]))\n",
    "                puff_time3 = (time.year, time.month, date[2], int(hours[1])+1)\n",
    "                if user not in puff_times:\n",
    "                    continue\n",
    "                if puff_time0 in puff_times[user] or puff_time1 in puff_times[user] or puff_time2 in puff_times[user] or puff_time3 in puff_times[user]:\n",
    "                    ema_stats[user]['HTM']+= 1\n",
    "                \n",
    "    return ema_stats\n",
    "\n",
    "ema_stats = random_puff(eod_ema, puff_marker)\n",
    "for user in ema_stats:\n",
    "    print(user, ema_stats[user])"
   ]
  },
  {
   "cell_type": "code",
   "execution_count": 80,
   "metadata": {
    "collapsed": false
   },
   "outputs": [
    {
     "name": "stdout",
     "output_type": "stream",
     "text": [
      "223 {'total': 13, 'completed': 12, 'smoked': 14, 'HTM': 13}\n",
      "224 {'total': 10, 'completed': 9, 'smoked': 9, 'HTM': 2}\n",
      "225 {'total': 10, 'completed': 7, 'smoked': 6, 'HTM': 3}\n",
      "226 {'total': 11, 'completed': 9, 'smoked': 35, 'HTM': 33}\n",
      "227 {'total': 12, 'completed': 12, 'smoked': 102, 'HTM': 80}\n"
     ]
    }
   ],
   "source": [
    "ema_stats = random_puff(eod_ema_alternative, puff_marker_alternative)\n",
    "for user in ema_stats:\n",
    "    print(user, ema_stats[user])"
   ]
  },
  {
   "cell_type": "code",
   "execution_count": 81,
   "metadata": {
    "collapsed": false
   },
   "outputs": [
    {
     "name": "stdout",
     "output_type": "stream",
     "text": [
      "204 {'total': 2, 'completed': 2, 'smoked': 21, 'HTM': 15}\n",
      "205 {'total': 13, 'completed': 13, 'smoked': 16, 'HTM': 9}\n",
      "207 {'total': 11, 'completed': 10, 'smoked': 12, 'HTM': 10}\n",
      "208 {'total': 9, 'completed': 9, 'smoked': 37, 'HTM': 34}\n",
      "209 {'total': 3, 'completed': 3, 'smoked': 12, 'HTM': 9}\n",
      "211 {'total': 14, 'completed': 14, 'smoked': 28, 'HTM': 24}\n",
      "213 {'total': 4, 'completed': 4, 'smoked': 15, 'HTM': 15}\n",
      "214 {'total': 11, 'completed': 9, 'smoked': 34, 'HTM': 31}\n",
      "215 {'total': 14, 'completed': 14, 'smoked': 14, 'HTM': 14}\n",
      "216 {'total': 13, 'completed': 12, 'smoked': 7, 'HTM': 7}\n",
      "217 {'total': 12, 'completed': 10, 'smoked': 23, 'HTM': 19}\n",
      "218 {'total': 14, 'completed': 12, 'smoked': 14, 'HTM': 13}\n",
      "219 {'total': 14, 'completed': 14, 'smoked': 56, 'HTM': 55}\n",
      "220 {'total': 2, 'completed': 2, 'smoked': 7, 'HTM': 6}\n",
      "222 {'total': 5, 'completed': 5, 'smoked': 10, 'HTM': 7}\n",
      "228 {'total': 13, 'completed': 13, 'smoked': 40, 'HTM': 35}\n",
      "230 {'total': 13, 'completed': 13, 'smoked': 13, 'HTM': 9}\n",
      "231 {'total': 3, 'completed': 3, 'smoked': 18, 'HTM': 14}\n",
      "232 {'total': 1, 'completed': 0, 'smoked': 0, 'HTM': 0}\n",
      "233 {'total': 10, 'completed': 9, 'smoked': 31, 'HTM': 19}\n",
      "234 {'total': 3, 'completed': 1, 'smoked': 1, 'HTM': 1}\n",
      "235 {'total': 7, 'completed': 7, 'smoked': 16, 'HTM': 14}\n",
      "236 {'total': 2, 'completed': 2, 'smoked': 7, 'HTM': 5}\n",
      "237 {'total': 2, 'completed': 2, 'smoked': 1, 'HTM': 1}\n"
     ]
    }
   ],
   "source": [
    "ema_stats = random_puff(eod_ema_backup, puff_marker_backup)\n",
    "for user in ema_stats:\n",
    "    print(user, ema_stats[user])"
   ]
  },
  {
   "cell_type": "code",
   "execution_count": null,
   "metadata": {
    "collapsed": true
   },
   "outputs": [],
   "source": []
  }
 ],
 "metadata": {
  "kernelspec": {
   "display_name": "Python 3",
   "language": "python",
   "name": "python3"
  },
  "language_info": {
   "codemirror_mode": {
    "name": "ipython",
    "version": 3
   },
   "file_extension": ".py",
   "mimetype": "text/x-python",
   "name": "python",
   "nbconvert_exporter": "python",
   "pygments_lexer": "ipython3",
   "version": "3.6.2"
  }
 },
 "nbformat": 4,
 "nbformat_minor": 2
}
