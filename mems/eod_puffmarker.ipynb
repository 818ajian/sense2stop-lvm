{
 "cells": [
  {
   "cell_type": "markdown",
   "metadata": {},
   "source": [
    "## Recurrent event: Exploratory Data Analysis\n",
    "\n",
    "- This notebook dedicated to understanding the recurrent event process\n",
    "- Start with End-of-Day (EOD) EMA\n",
    "- Move to self-report and "
   ]
  },
  {
   "cell_type": "code",
   "execution_count": 16,
   "metadata": {},
   "outputs": [
    {
     "data": {
      "text/plain": [
       "'/home/wdempsey/ExpanDrive/box/MD2K Northwestern/Processed Data/smoking-lvm-cleaned-data'"
      ]
     },
     "execution_count": 16,
     "metadata": {},
     "output_type": "execute_result"
    }
   ],
   "source": [
    "# Import packages and set directory\n",
    "import pandas as pd\n",
    "import numpy as np\n",
    "import datetime as datetime\n",
    "import os\n",
    "os.getcwd()\n",
    "dir = \"/home/wdempsey/ExpanDrive/box/MD2K Northwestern/Processed Data/smoking-lvm-cleaned-data/\"\n",
    "os.chdir(dir)\n",
    "os.getcwd()"
   ]
  },
  {
   "cell_type": "code",
   "execution_count": 8,
   "metadata": {},
   "outputs": [],
   "source": [
    "# Response windows for end-of-day EMA\n",
    "keys = ['8to9', '9to10', '10to11', '11to12',\n",
    "        '12to13','13to14','14to15','15to16',\n",
    "        '16to17','17to18','18to19','19to20']\n"
   ]
  },
  {
   "cell_type": "code",
   "execution_count": 30,
   "metadata": {},
   "outputs": [
    {
     "name": "stdout",
     "output_type": "stream",
     "text": [
      "3/18/19\n"
     ]
    }
   ],
   "source": [
    "# read EOD data and participant entry/exit dates\n",
    "eod_ema = pd.read_csv(dir + '/final/eod-ema-final.csv')\n",
    "participant_dates = pd.read_csv(dir + 'participant-dates-v3.csv')"
   ]
  },
  {
   "cell_type": "code",
   "execution_count": 43,
   "metadata": {},
   "outputs": [],
   "source": [
    "# Construct user-days and record how many cigarettes\n",
    "# are reported in the EOD EMA\n",
    "eod_dates = []\n",
    "for irow in range(0,eod_ema.shape[0]):\n",
    "    row = eod_ema.iloc[irow]\n",
    "    quit_iloc = np.where(participant_dates['participant'] == row['participant_id'])\n",
    "    quit_row = participant_dates.iloc[quit_iloc[0][0]]\n",
    "    quit_time = datetime.datetime.strptime(quit_row['quit_date'], '%m/%d/%y')\n",
    "    if row['status'] == \"MISSED\":\n",
    "        continue\n",
    "    try:\n",
    "        time = datetime.datetime.strptime(row['date'], '%m/%d/%Y %H:%M')\n",
    "    except:\n",
    "        time = datetime.datetime.strptime(row['date'], '%Y-%m-%d %H:%M:%S')\n",
    "    #print row['participant_id'], time\n",
    "    #print quit_row['participant'], quit_time\n",
    "    temp_diff = time - quit_time\n",
    "    if time.hour  == 0 or time.hour == 1:\n",
    "        date = np.array([row['participant_id'], temp_diff.days-1])\n",
    "        date = np.append(date, np.sum(np.array(row[keys])))\n",
    "    else:\n",
    "        date = np.array([row['participant_id'], temp_diff.days])\n",
    "        date = np.append(date, np.sum(np.array(row[keys])))\n",
    "    #print date\n",
    "    eod_dates.append(date)\n",
    "    \n",
    "eod_dates = np.asarray(eod_dates)"
   ]
  },
  {
   "cell_type": "code",
   "execution_count": 39,
   "metadata": {},
   "outputs": [
    {
     "name": "stdout",
     "output_type": "stream",
     "text": [
      " -3 4.409 2.972\n",
      "-2 4.809 3.226\n",
      "-1 4.279 2.88\n",
      "0 1.692 2.04\n",
      "1 1.237 1.286\n",
      "2 1.788 2.446\n",
      "3 1.364 2.556\n",
      "4 1.212 2.041\n",
      "5 1.629 2.294\n",
      "6 1.469 2.136\n",
      "7 1.839 2.554\n",
      "8 1.788 1.981\n",
      "9 1.727 2.689\n",
      "10 2.0 3.215\n"
     ]
    }
   ],
   "source": [
    "## Each day get the mean and standard deviation\n",
    "## in the number of reported cigarettes using end-of-day EMA\n",
    "for day in range(-3, 11):\n",
    "    print day, np.round(np.nanmean(eod_dates[eod_dates[:,1] == day,2]),3), np.round(np.nanstd(eod_dates[eod_dates[:,1] == day,2]),3)"
   ]
  },
  {
   "cell_type": "code",
   "execution_count": 36,
   "metadata": {},
   "outputs": [],
   "source": [
    "eod_survival = []\n",
    "for id in set(eod_dates[:,0]):\n",
    "    subset = eod_dates[eod_dates[:,0] == id,:]\n",
    "    if any(subset[:,1] > 0):\n",
    "        subset = subset[subset[:,1] > 0,:]\n",
    "        nonzero_iloc = np.where(subset[:,2] > 0)[0]\n",
    "        zero_iloc = np.where(subset[:,2] == 0)[0]\n",
    "        if len(nonzero_iloc) == 0:\n",
    "            if len(zero_iloc) != 0:\n",
    "                temp = np.append(subset[np.max(zero_iloc),0:2], 0)\n",
    "        else:\n",
    "            temp = np.append(subset[np.max(nonzero_iloc), 0:2], 1)\n",
    "        eod_survival.append(temp)\n",
    "\n",
    "eod_survival = np.asarray(eod_survival)"
   ]
  },
  {
   "cell_type": "code",
   "execution_count": 47,
   "metadata": {},
   "outputs": [],
   "source": [
    "# Read data for self-report\n",
    "selfreport = pd.read_csv(dir + 'final/self-report-smoking-final.csv')"
   ]
  },
  {
   "cell_type": "code",
   "execution_count": 45,
   "metadata": {},
   "outputs": [],
   "source": [
    "'''\n",
    "Construct user-days and record how many cigarettes \n",
    "are reported using selfreport\n",
    "'''\n",
    "\n",
    "sr_dates = []\n",
    "for irow in range(0,selfreport.shape[0]):\n",
    "    row = selfreport.iloc[irow]\n",
    "    quit_iloc = np.where(participant_dates['participant'] == row['participant_id'])\n",
    "    quit_row = participant_dates.iloc[quit_iloc[0][0]]\n",
    "    quit_time = datetime.datetime.strptime(quit_row['quit_date'], '%m/%d/%y')\n",
    "    try:\n",
    "        time = datetime.datetime.strptime(row['date'], '%m/%d/%y %H:%M')\n",
    "    except:\n",
    "        time = datetime.datetime.strptime(row['date'], '%Y-%m-%d %H:%M:%S')\n",
    "    temp_diff = time - quit_time\n",
    "    if time.hour  == 0 or time.hour == 1:\n",
    "        date = np.array([row['participant_id'], temp_diff.days-1])\n",
    "    else:\n",
    "        date = np.array([row['participant_id'], temp_diff.days])\n",
    "    sr_dates.append(date)\n",
    "    \n",
    "sr_dates = np.asarray(sr_dates)"
   ]
  },
  {
   "cell_type": "code",
   "execution_count": 184,
   "metadata": {},
   "outputs": [],
   "source": [
    "'''\n",
    "For each user, find the first user-day on which \n",
    "they self-reported smoking\n",
    "''' \n",
    "\n",
    "sr_survival = []\n",
    "for id in set(ec_dates[:,0]):\n",
    "    subset = ec_dates[ec_dates[:,0] == id,:]\n",
    "    if any(subset[:,1] > 0):\n",
    "        subset = subset[subset[:,1] > 0,:]\n",
    "        temp = [id, np.max(subset[:,1])]\n",
    "        ec_survival.append(temp)\n",
    "\n",
    "ec_survival = np.asarray(ec_survival)"
   ]
  },
  {
   "cell_type": "code",
   "execution_count": 186,
   "metadata": {},
   "outputs": [],
   "source": [
    "# Read data for random EMA\n",
    "random_original_cloud_ids = [201, 203, 206, 210, 221, 226, 229] \n",
    "random_ema = pd.read_csv(dir + 'random-ema.csv')\n",
    "random_ema = random_ema.drop(['offset'], axis = 1)\n",
    "\n",
    "random_ema_alternative = pd.read_csv(dir + 'random-ema-alternative.csv')\n",
    "random_ema_backup = pd.read_csv(dir + 'random-ema-backup.csv')\n",
    "\n",
    "temp_random_original = random_ema[random_ema['participant_id'].isin(random_original_cloud_ids)]\n",
    "temp_random_alt = random_ema_alternative[~random_ema_alternative['participant_id'].isin(random_original_cloud_ids)]\n",
    "\n",
    "random_complete = pd.concat([temp_random_original, temp_random_alt, random_ema_backup])"
   ]
  },
  {
   "cell_type": "code",
   "execution_count": 223,
   "metadata": {},
   "outputs": [],
   "source": [
    "# Use to look \n",
    "random_dates = []\n",
    "for irow in range(0,random_complete.shape[0]):\n",
    "    row = random_complete.iloc[irow]\n",
    "    quit_iloc = np.where(participant_dates['participant'] == row['participant_id'])\n",
    "    quit_row = participant_dates.iloc[quit_iloc[0][0]]\n",
    "    quit_time = datetime.datetime.strptime(quit_row['quit_date'], '%m/%d/%y')\n",
    "    if row['status'] == \"MISSED\":\n",
    "        continue\n",
    "    try:\n",
    "        time = datetime.datetime.strptime(row['date'], '%m/%d/%y %H:%M')\n",
    "    except:\n",
    "        time = datetime.datetime.strptime(row['date'], '%Y-%m-%d %H:%M:%S')\n",
    "    #print row['participant_id'], time\n",
    "    #print quit_row['participant'], quit_time\n",
    "    temp_diff = time - quit_time\n",
    "    if time.hour  == 0 or time.hour == 1:\n",
    "        date = np.array([row['participant_id'], temp_diff.days-1])\n",
    "        if row['smoke'] == 'Yes':\n",
    "            date = np.append(date, [1])\n",
    "            random_dates.append(date)\n",
    "        if row['smoke'] == 'No':\n",
    "            date = np.append(date, [0])\n",
    "            random_dates.append(date)\n",
    "    else:\n",
    "        date = np.array([row['participant_id'], temp_diff.days])\n",
    "        if row['smoke'] == 'Yes':\n",
    "            date = np.append(date, 1)\n",
    "            random_dates.append(date)\n",
    "        if row['smoke'] == 'No':\n",
    "            date = np.append(date, 0)\n",
    "            random_dates.append(date)\n",
    "\n",
    "random_dates = np.asarray(random_dates)"
   ]
  },
  {
   "cell_type": "code",
   "execution_count": 227,
   "metadata": {},
   "outputs": [
    {
     "data": {
      "text/plain": [
       "array([[202,   7,   1],\n",
       "       [203,  13,   0],\n",
       "       [205,   8,   1],\n",
       "       [206,   9,   0],\n",
       "       [207,   8,   0],\n",
       "       [208,   3,   1],\n",
       "       [211,  11,   1],\n",
       "       [212,   6,   1],\n",
       "       [213,   1,   0],\n",
       "       [214,   4,   1],\n",
       "       [215,  11,   0],\n",
       "       [216,  10,   1],\n",
       "       [217,   8,   1],\n",
       "       [218,   1,   1],\n",
       "       [219,  10,   1],\n",
       "       [222,   1,   1],\n",
       "       [223,  11,   0],\n",
       "       [224,   9,   1],\n",
       "       [225,  10,   1],\n",
       "       [227,  10,   1],\n",
       "       [228,   8,   1],\n",
       "       [229,   3,   1],\n",
       "       [230,  11,   0],\n",
       "       [231,   2,   1],\n",
       "       [233,   8,   1],\n",
       "       [234,   1,   0],\n",
       "       [235,   4,   0]])"
      ]
     },
     "execution_count": 227,
     "metadata": {},
     "output_type": "execute_result"
    }
   ],
   "source": [
    "random_survival = []\n",
    "for id in set(random_dates[:,0]):\n",
    "    subset = random_dates[random_dates[:,0] == id,:]\n",
    "    if any(subset[:,1] > 0):\n",
    "        subset = subset[subset[:,1] > 0,:]\n",
    "        nonzero_iloc = np.where(subset[:,2] == 1)[0]\n",
    "        zero_iloc = np.where(subset[:,2] == 0)[0]\n",
    "        if len(nonzero_iloc) == 0:\n",
    "            if len(zero_iloc) != 0:\n",
    "                temp = np.append(subset[np.max(zero_iloc),0:2], 0)\n",
    "        else:\n",
    "            temp = np.append(subset[np.max(nonzero_iloc), 0:2], 1)\n",
    "        random_survival.append(temp)\n",
    "\n",
    "random_survival = np.asarray(random_survival)\n",
    "\n",
    "random_survival"
   ]
  },
  {
   "cell_type": "code",
   "execution_count": 300,
   "metadata": {},
   "outputs": [],
   "source": [
    "all_ema_survival = []\n",
    "\n",
    "for id in set(random_survival[:,0]) | set(ec_survival[:,0]) | set(eod_survival[:,0]):\n",
    "    temp = np.array([id])\n",
    "    random_subset = random_survival[random_survival[:,0] == id,:]\n",
    "    if not len(random_subset) == 0:\n",
    "        temp = np.append(temp, random_subset[0][1:3])\n",
    "    else:\n",
    "        temp = np.append(temp, [-1,-1])\n",
    "    ec_subset = ec_survival[ec_survival[:,0] == id,:]\n",
    "    if not len(ec_subset) == 0:\n",
    "        ec_day = ec_subset[0][1]\n",
    "        if temp[1] > ec_day or temp[1] == -1:\n",
    "            temp[1:3] = [ec_day,1]\n",
    "    eod_subset = eod_survival[eod_survival[:,0] == id, :]\n",
    "    if not len(eod_subset) == 0:\n",
    "        if eod_subset[0][1] < temp[1] and eod_subset[0][2] == 1:\n",
    "            temp[1:3] = eod_subset[0][1:3]\n",
    "        elif eod_subset[0][1] > temp[1] and eod_subset[0][2] == 0 and temp[2] == 0:\n",
    "            temp[1:3] = eod_subset[0][1:3]\n",
    "    all_ema_survival.append(temp)\n",
    "    \n",
    "all_ema_survival = np.asarray(all_ema_survival)"
   ]
  },
  {
   "cell_type": "code",
   "execution_count": 353,
   "metadata": {},
   "outputs": [
    {
     "name": "stdout",
     "output_type": "stream",
     "text": [
      "[1.         0.98675767 0.90651021 0.84278664 0.84278664 0.80746358\n",
      " 0.73190752 0.69185671 0.60736767 0.41944874 0.22607129 0.22607129\n",
      " 0.22607129]\n",
      "[1.         0.85714286 0.74025974 0.66233766 0.66233766 0.62094156\n",
      " 0.53814935 0.49675325 0.41396104 0.24837662 0.09935065 0.09935065\n",
      " 0.09935065]\n",
      "[ 1.          0.72752804  0.57400927  0.48188869  0.48188869  0.43441954\n",
      "  0.34439118  0.30164979  0.2205544   0.07730451 -0.02736999 -0.02736999\n",
      " -0.02736999]\n"
     ]
    }
   ],
   "source": [
    "km_list = [1]\n",
    "var_list = [0]\n",
    "for day in range(1,13):\n",
    "    n_day = np.sum(all_ema_survival[:,1] >= day, dtype='f')\n",
    "    subset = all_ema_survival[all_ema_survival[:,1] == day,:]\n",
    "    subset = subset[subset[:,2] == 1]\n",
    "    d_day = subset.shape[0]\n",
    "    km_list.append(1-d_day/n_day)\n",
    "    var_list.append(d_day/(n_day * (n_day - d_day)))\n",
    "\n",
    "km_est = np.cumprod(km_list)\n",
    "\n",
    "var_est = np.multiply(np.power(km_est,2),np.cumsum(var_list))\n",
    "\n",
    "km_stderr = np.sqrt(var_est)\n",
    "\n",
    "upper_km_est = km_est + 1.96*km_stderr\n",
    "lower_km_est = km_est - 1.96*km_stderr\n",
    "\n",
    "print upper_km_est\n",
    "print km_est\n",
    "print lower_km_est\n",
    "\n",
    "\n"
   ]
  }
 ],
 "metadata": {
  "kernelspec": {
   "display_name": "Python 2",
   "language": "python",
   "name": "python2"
  },
  "language_info": {
   "codemirror_mode": {
    "name": "ipython",
    "version": 2
   },
   "file_extension": ".py",
   "mimetype": "text/x-python",
   "name": "python",
   "nbconvert_exporter": "python",
   "pygments_lexer": "ipython2",
   "version": "2.7.17"
  }
 },
 "nbformat": 4,
 "nbformat_minor": 2
}
