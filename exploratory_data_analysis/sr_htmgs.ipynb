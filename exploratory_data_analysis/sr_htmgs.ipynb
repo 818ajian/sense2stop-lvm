{
 "cells": [
  {
   "cell_type": "markdown",
   "metadata": {},
   "source": [
    "## Self-report and HTMGs: Exploratory Data Analysis\n",
    "\n",
    "- This notebook is dedicated to understanding the number of HTMGs in the minutes prior to a self-report of smoking\n",
    "- For multiple window-lengths (Delta), we compute the following descriptive statistics\n",
    "    + Mean number of HTMGs prior (aggregated data)\n",
    "    + Avg number of HTMGs (avg of means across indidivuals): \n",
    "    + Std dev of number of HTMGs (of means across indidivuals)\n",
    "    + Fraction of time no HTMGs in window (aggregated data)\n",
    "    + Avg fraction of time no HTMGs in window (of fractions across individuals)\n",
    "    + Std dev of fraction of time no HTMGs in window (of fractions across individuals)"
   ]
  },
  {
   "cell_type": "code",
   "execution_count": 14,
   "metadata": {},
   "outputs": [],
   "source": [
    "import pandas as pd\n",
    "import numpy as np\n",
    "import datetime as datetime\n",
    "import matplotlib.pyplot as plt\n",
    "import os\n",
    "os.getcwd()\n",
    "dir = \"../final-data\""
   ]
  },
  {
   "cell_type": "code",
   "execution_count": 30,
   "metadata": {},
   "outputs": [],
   "source": [
    "sr_accptresponse = ['Smoking Event(15 to 30 minutes)', '5 to 15 minutes', 'Smoking Event(less than 5 minutes ago)']\n",
    "sr_dictionary = {'Smoking Event(less than 5 minutes ago)': 2.5, \n",
    "                 'Smoking Event(15 - 30 minutes)': 17.5, \n",
    "                 'Smoking Event(5 - 15 minutes)': 10\n",
    "                } "
   ]
  },
  {
   "cell_type": "code",
   "execution_count": 26,
   "metadata": {},
   "outputs": [],
   "source": [
    "# read data\n",
    "htmgs = pd.read_csv(os.path.join(os.path.realpath(dir), 'puff-probability-final.csv'))\n",
    "selfreport = pd.read_csv(os.path.join(os.path.realpath(dir), 'self-report-smoking-final.csv'))"
   ]
  },
  {
   "cell_type": "code",
   "execution_count": 93,
   "metadata": {},
   "outputs": [],
   "source": [
    "def selfreport_puff(delta):\n",
    "    '''\n",
    "    checks how sensitive is puffmarker coverage of \n",
    "    contingent events to time window\n",
    "    '''\n",
    "    #print(\"Set delta to {} minutes\".format(delta))\n",
    "\n",
    "    htmg_complete = []\n",
    "    \n",
    "    for id in np.unique(np.concatenate([selfreport['participant_id'], htmgs['participant_id']])):\n",
    "        htmg_id = np.where(htmgs['participant_id'] == id) \n",
    "        htmg_subset = htmgs.iloc[htmg_id[0]]\n",
    "        try:\n",
    "            htmg_dates_list = [datetime.datetime.strptime(date, '%m/%d/%y %H:%M') for date in htmg_subset['date']]\n",
    "        except:\n",
    "            htmg_dates_list = [datetime.datetime.strptime(date, '%Y-%m-%d %H:%M:%S') for date in htmg_subset['date']]\n",
    "\n",
    "        sr_id = np.where(selfreport['participant_id'] == id) \n",
    "        sr_subset = selfreport.iloc[sr_id[0]]\n",
    "\n",
    "        htmg_id_list = []\n",
    "        for index, row in sr_subset.iterrows():\n",
    "            try:\n",
    "                sr_time = datetime.datetime.strptime(row['date'], '%m/%d/%y %H:%M')\n",
    "            except:\n",
    "                sr_time = datetime.datetime.strptime(row['date'], '%Y-%m-%d %H:%M:%S')\n",
    "            if row['message'] in sr_accptresponse:\n",
    "                sr_time = sr_time - datetime.timedelta(minutes=sr_dictionary[row['message']])\n",
    "            if row['message'] in sr_accptresponse: \n",
    "                htmg_count = 0\n",
    "                for index_puff in range(0,len(htmg_dates_list)):\n",
    "                    temp = abs((htmg_dates_list[index_puff] - sr_time).total_seconds() / 60.0)\n",
    "                    if temp <= delta:\n",
    "                        htmg_count += 1\n",
    "                htmg_id_list.append(htmg_count)  \n",
    "        temp = np.array(htmg_id_list, dtype = 'f')\n",
    "        if temp.size > 0:\n",
    "            htmg_complete.append(temp)\n",
    "\n",
    "    return htmg_complete\n"
   ]
  },
  {
   "cell_type": "code",
   "execution_count": 94,
   "metadata": {},
   "outputs": [
    {
     "data": {
      "text/plain": [
       "18"
      ]
     },
     "execution_count": 94,
     "metadata": {},
     "output_type": "execute_result"
    }
   ],
   "source": []
  },
  {
   "cell_type": "code",
   "execution_count": 95,
   "metadata": {},
   "outputs": [],
   "source": [
    "def summary_output(delta):\n",
    "    output_delta = selfreport_puff(delta)\n",
    "    output_delta = np.asarray(output_delta)\n",
    "    agg_sum_delta = np.asarray([np.sum(arr) for arr in output_delta])\n",
    "    agg_mean_delta  = np.asarray([np.mean(arr) for arr in output_delta])\n",
    "    agg_count_delta  = np.asarray([len(arr) for arr in output_delta])\n",
    "    agg_zero_delta  = np.asarray([np.count_nonzero(arr==0) for arr in output_delta], dtype='f')\n",
    "    ind_zero_delta = np.divide(agg_zero_delta, agg_count_delta)\n",
    "\n",
    "    aggregate_frac_delta  = np.divide(np.sum(agg_sum_delta),np.sum(agg_count_delta))\n",
    "    aggregate_fraczero_delta  = np.divide(np.sum(agg_zero_delta),np.sum(agg_count_delta))\n",
    "\n",
    "    print '% s minute window:' % (delta)\n",
    "    print 'Mean number of HTMGs (aggregated data): %s' % (np.round(aggregate_frac_delta,3))\n",
    "    print 'Avg number of HTMGs (avg of means across indidivuals): %s' % (np.round(np.mean(agg_mean_delta),3))\n",
    "    print 'Std dev of number of HTMGs (of means across indidivuals): %s' %  (np.round(np.std(agg_mean_delta),3))\n",
    "    print 'Fraction of time no HTMGs in window (aggregated data): %s' %  (np.round(np.sum(aggregate_fraczero_delta),3))\n",
    "    print 'Avg fraction of time no HTMGs in window (of fractions across individuals): %s' %  (np.round(np.mean(ind_zero_delta),3))\n",
    "    print 'Std dev of fraction of time no HTMGs in window (of fractions across individuals): %s' %  (np.round(np.std(ind_zero_delta),3))\n",
    "    print\n",
    "    \n",
    "    return None"
   ]
  },
  {
   "cell_type": "code",
   "execution_count": 96,
   "metadata": {},
   "outputs": [
    {
     "name": "stdout",
     "output_type": "stream",
     "text": [
      "5 minute window:\n",
      "Mean number of HTMGs (aggregated data): 1.525\n",
      "Avg number of HTMGs (avg of means across indidivuals): 1.852\n",
      "Std dev of number of HTMGs (of means across indidivuals): 1.663\n",
      "Fraction of time no HTMGs in window (aggregated data): 0.525\n",
      "Avg fraction of time no HTMGs in window (of fractions across individuals): 0.459\n",
      "Std dev of fraction of time no HTMGs in window (of fractions across individuals): 0.277\n",
      "\n",
      "15 minute window:\n",
      "Mean number of HTMGs (aggregated data): 2.916\n",
      "Avg number of HTMGs (avg of means across indidivuals): 3.593\n",
      "Std dev of number of HTMGs (of means across indidivuals): 2.787\n",
      "Fraction of time no HTMGs in window (aggregated data): 0.364\n",
      "Avg fraction of time no HTMGs in window (of fractions across individuals): 0.298\n",
      "Std dev of fraction of time no HTMGs in window (of fractions across individuals): 0.246\n",
      "\n",
      "30 minute window:\n",
      "Mean number of HTMGs (aggregated data): 4.536\n",
      "Avg number of HTMGs (avg of means across indidivuals): 5.537\n",
      "Std dev of number of HTMGs (of means across indidivuals): 3.864\n",
      "Fraction of time no HTMGs in window (aggregated data): 0.288\n",
      "Avg fraction of time no HTMGs in window (of fractions across individuals): 0.231\n",
      "Std dev of fraction of time no HTMGs in window (of fractions across individuals): 0.244\n",
      "\n",
      "60 minute window:\n",
      "Mean number of HTMGs (aggregated data): 7.618\n",
      "Avg number of HTMGs (avg of means across indidivuals): 9.144\n",
      "Std dev of number of HTMGs (of means across indidivuals): 5.905\n",
      "Fraction of time no HTMGs in window (aggregated data): 0.215\n",
      "Avg fraction of time no HTMGs in window (of fractions across individuals): 0.157\n",
      "Std dev of fraction of time no HTMGs in window (of fractions across individuals): 0.204\n",
      "\n",
      "90 minute window:\n",
      "Mean number of HTMGs (aggregated data): 10.923\n",
      "Avg number of HTMGs (avg of means across indidivuals): 12.786\n",
      "Std dev of number of HTMGs (of means across indidivuals): 8.436\n",
      "Fraction of time no HTMGs in window (aggregated data): 0.185\n",
      "Avg fraction of time no HTMGs in window (of fractions across individuals): 0.131\n",
      "Std dev of fraction of time no HTMGs in window (of fractions across individuals): 0.194\n",
      "\n",
      "120 minute window:\n",
      "Mean number of HTMGs (aggregated data): 13.928\n",
      "Avg number of HTMGs (avg of means across indidivuals): 16.094\n",
      "Std dev of number of HTMGs (of means across indidivuals): 10.702\n",
      "Fraction of time no HTMGs in window (aggregated data): 0.154\n",
      "Avg fraction of time no HTMGs in window (of fractions across individuals): 0.105\n",
      "Std dev of fraction of time no HTMGs in window (of fractions across individuals): 0.177\n",
      "\n"
     ]
    }
   ],
   "source": [
    "'''\n",
    "Calculate the HTMG coverage for 5, 15, 30, and 60 minutes\n",
    "around the event time.\n",
    "'''\n",
    "\n",
    "summary_output(5)\n",
    "\n",
    "summary_output(15)\n",
    "\n",
    "summary_output(30)\n",
    "\n",
    "summary_output(60)\n",
    "\n",
    "summary_output(90)\n",
    "\n",
    "summary_output(120)"
   ]
  },
  {
   "cell_type": "code",
   "execution_count": 97,
   "metadata": {},
   "outputs": [
    {
     "name": "stdout",
     "output_type": "stream",
     "text": [
      "2435.031967163086\n",
      "60\n",
      "ANOVA p-value for current hour: 0.0\n"
     ]
    }
   ],
   "source": [
    "''' \n",
    "Compute an anova decomposition using the poisson likelihood\n",
    "This will test if there are significant differences across\n",
    "individuals.\n",
    "'''\n",
    "\n",
    "llik_delta = 0; agg_llik_delta = 0\n",
    "output_delta = selfreport_puff(delta)\n",
    "output_delta = np.asarray(output_delta)\n",
    "agg_sum_delta = np.asarray([np.sum(arr) for arr in output_delta])\n",
    "agg_mean_delta  = np.asarray([np.mean(arr) for arr in output_delta])\n",
    "agg_count_delta  = np.asarray([len(arr) for arr in output_delta])\n",
    "aggregate_frac_delta  = np.divide(np.sum(agg_sum_delta),np.sum(agg_count_delta))\n",
    "\n",
    "for i in range(0, agg_mean_delta.size):\n",
    "    user_mean = agg_mean_delta[i]\n",
    "    row = output_delta[i]\n",
    "    if user_mean > 0.0:\n",
    "        llik_delta += np.sum(np.subtract(np.multiply(row, np.log(user_mean)),user_mean))\n",
    "        agg_llik_delta += np.sum(np.subtract(np.multiply(row, np.log(aggregate_frac_delta)),aggregate_frac_delta))\n",
    "\n",
    "D_delta = -2*agg_llik_delta + 2*llik_delta\n",
    "print D_delta\n",
    "\n",
    "\n",
    "from scipy.stats import chi2\n",
    "n = np.sum(agg_count_delta) ## Number of observations\n",
    "k = output_delta.shape[0]\n",
    "df = n-k ## Number of parameters \n",
    "print k\n",
    "\n",
    "print 'ANOVA p-value for current hour: %s' % (1-chi2.cdf(D_delta, df))"
   ]
  }
 ],
 "metadata": {
  "kernelspec": {
   "display_name": "Python 2",
   "language": "python",
   "name": "python2"
  },
  "language_info": {
   "codemirror_mode": {
    "name": "ipython",
    "version": 2
   },
   "file_extension": ".py",
   "mimetype": "text/x-python",
   "name": "python",
   "nbconvert_exporter": "python",
   "pygments_lexer": "ipython2",
   "version": "2.7.17"
  }
 },
 "nbformat": 4,
 "nbformat_minor": 2
}
