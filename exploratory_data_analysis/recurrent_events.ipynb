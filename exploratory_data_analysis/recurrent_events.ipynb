{
 "cells": [
  {
   "cell_type": "markdown",
   "metadata": {},
   "source": [
    "## Recurrent event: Exploratory Data Analysis\n",
    "\n",
    "- This notebook dedicated to understanding the recurrent event process\n",
    "- End-of-Day (EOD) EMA: compute first day of EOD\n",
    "- Self-report: compute first day of self-reported smoking since quit date and "
   ]
  },
  {
   "cell_type": "code",
   "execution_count": 70,
   "metadata": {},
   "outputs": [
    {
     "name": "stdout",
     "output_type": "stream",
     "text": [
      "C:\\Users\\wdem\\Documents\\GitHub\\sense2stop-lvm\\final-data\n"
     ]
    },
    {
     "data": {
      "text/plain": [
       "'C:\\\\Users\\\\wdem\\\\Documents\\\\GitHub\\\\sense2stop-lvm\\\\final-data'"
      ]
     },
     "execution_count": 70,
     "metadata": {},
     "output_type": "execute_result"
    }
   ],
   "source": [
    "# Import packages and set directory\n",
    "import pandas as pd\n",
    "import numpy as np\n",
    "import datetime as datetime\n",
    "import os\n",
    "print(os.getcwd())\n",
    "dir = \"../final-data\""
   ]
  },
  {
   "cell_type": "code",
   "execution_count": 41,
   "metadata": {},
   "outputs": [],
   "source": [
    "# Response windows for end-of-day EMA\n",
    "keys = ['8to9', '9to10', '10to11', '11to12',\n",
    "        '12to13','13to14','14to15','15to16',\n",
    "        '16to17','17to18','18to19','19to20']\n"
   ]
  },
  {
   "cell_type": "code",
   "execution_count": 42,
   "metadata": {},
   "outputs": [],
   "source": [
    "# read EOD data and participant entry/exit dates\n",
    "eod_ema = pd.read_csv(os.path.join(os.path.realpath(dir), 'eod-ema-final.csv'))\n",
    "participant_dates = pd.read_csv(os.path.join(os.path.realpath(dir),'participant-dates-v3.csv'))"
   ]
  },
  {
   "cell_type": "code",
   "execution_count": 43,
   "metadata": {},
   "outputs": [
    {
     "data": {
      "text/plain": [
       "array([[201.,  -3.,   2.],\n",
       "       [201.,  -2.,   9.],\n",
       "       [203.,   6.,   0.],\n",
       "       ...,\n",
       "       [269.,   8.,   0.],\n",
       "       [269.,   9.,   0.],\n",
       "       [269.,  10.,   0.]])"
      ]
     },
     "execution_count": 43,
     "metadata": {},
     "output_type": "execute_result"
    }
   ],
   "source": [
    "# Construct user-days and record how many cigarettes\n",
    "# are reported in the EOD EMA\n",
    "eod_dates = []\n",
    "for irow in range(0,eod_ema.shape[0]):\n",
    "    row = eod_ema.iloc[irow]\n",
    "    quit_iloc = np.where(participant_dates['participant'] == row['participant_id'])\n",
    "    quit_row = participant_dates.iloc[quit_iloc[0][0]]\n",
    "    quit_time = datetime.datetime.strptime(quit_row['quit_date'], '%m/%d/%y')\n",
    "    if row['status'] == \"MISSED\":\n",
    "        continue\n",
    "    try:\n",
    "        time = datetime.datetime.strptime(row['date'], '%m/%d/%Y %H:%M')\n",
    "    except:\n",
    "        time = datetime.datetime.strptime(row['date'], '%Y-%m-%d %H:%M:%S')\n",
    "    #print row['participant_id'], time\n",
    "    #print quit_row['participant'], quit_time\n",
    "    temp_diff = time - quit_time\n",
    "    if time.hour  == 0 or time.hour == 1:\n",
    "        date = np.array([row['participant_id'], temp_diff.days-1])\n",
    "        date = np.append(date, np.sum(np.array(row[keys])))\n",
    "    else:\n",
    "        date = np.array([row['participant_id'], temp_diff.days])\n",
    "        date = np.append(date, np.sum(np.array(row[keys])))\n",
    "    #print date\n",
    "    eod_dates.append(date)\n",
    "    \n",
    "eod_dates = np.asarray(eod_dates)\n",
    "eod_dates"
   ]
  },
  {
   "cell_type": "code",
   "execution_count": 44,
   "metadata": {},
   "outputs": [
    {
     "name": "stdout",
     "output_type": "stream",
     "text": [
      "-3 4.444 2.948\n",
      "-2 4.812 3.193\n",
      "-1 4.227 2.867\n",
      "0 1.7 2.015\n",
      "1 1.237 1.286\n",
      "2 1.735 2.429\n",
      "3 1.324 2.529\n",
      "4 1.176 2.022\n",
      "5 1.629 2.294\n",
      "6 1.424 2.118\n",
      "7 1.839 2.554\n",
      "8 1.735 1.975\n",
      "9 1.676 2.665\n",
      "10 2.0 3.215\n"
     ]
    }
   ],
   "source": [
    "## Each day get the mean and standard deviation\n",
    "## in the number of reported cigarettes using end-of-day EMA\n",
    "for day in range(-3, 11):\n",
    "    print(day, np.round(np.nanmean(eod_dates[eod_dates[:,1] == day,2]),3), np.round(np.nanstd(eod_dates[eod_dates[:,1] == day,2]),3))"
   ]
  },
  {
   "cell_type": "code",
   "execution_count": 65,
   "metadata": {},
   "outputs": [
    {
     "name": "stderr",
     "output_type": "stream",
     "text": [
      "C:\\Users\\wdem\\anaconda3\\lib\\site-packages\\ipykernel_launcher.py:6: RuntimeWarning: invalid value encountered in greater\n",
      "  \n"
     ]
    }
   ],
   "source": [
    "eod_survival = []\n",
    "for id in np.unique(eod_dates[:,0]):\n",
    "    subset = eod_dates[eod_dates[:,0] == id,:]\n",
    "    if any(subset[:,1] > 0):\n",
    "        subset = subset[subset[:,1] > 0,:]\n",
    "        nonzero_iloc = np.where(subset[:,2] > 0)[0]\n",
    "        zero_iloc = np.where(subset[:,2] == 0)[0]\n",
    "        if len(nonzero_iloc) == 0:\n",
    "            if len(zero_iloc) != 0:\n",
    "                temp = np.append(subset[np.max(zero_iloc),0:2], 0)\n",
    "        else:\n",
    "            temp = np.append(subset[np.max(nonzero_iloc), 0:2], 1)\n",
    "        eod_survival.append(temp)\n",
    "\n",
    "eod_survival = np.asarray(eod_survival)"
   ]
  },
  {
   "cell_type": "code",
   "execution_count": 71,
   "metadata": {},
   "outputs": [],
   "source": [
    "# Read data for self-report\n",
    "selfreport = pd.read_csv(os.path.join(os.path.realpath(dir), 'self-report-smoking-final.csv'))"
   ]
  },
  {
   "cell_type": "code",
   "execution_count": 72,
   "metadata": {},
   "outputs": [
    {
     "data": {
      "text/plain": [
       "array([-4, -3, -2, -1,  0,  1,  2,  3,  4,  5,  6,  7,  8,  9, 10, 11],\n",
       "      dtype=int64)"
      ]
     },
     "execution_count": 72,
     "metadata": {},
     "output_type": "execute_result"
    }
   ],
   "source": [
    "'''\n",
    "Extract all smoking events and label with correct user-day\n",
    "'''\n",
    "\n",
    "sr_dates = []\n",
    "for irow in range(0,selfreport.shape[0]):\n",
    "    row = selfreport.iloc[irow]\n",
    "    quit_iloc = np.where(participant_dates['participant'] == row['participant_id'])\n",
    "    quit_row = participant_dates.iloc[quit_iloc[0][0]]\n",
    "    quit_time = datetime.datetime.strptime(quit_row['quit_date'], '%m/%d/%y')\n",
    "    try:\n",
    "        time = datetime.datetime.strptime(row['date'], '%m/%d/%y %H:%M')\n",
    "    except:\n",
    "        time = datetime.datetime.strptime(row['date'], '%Y-%m-%d %H:%M:%S')\n",
    "    temp_diff = time - quit_time\n",
    "    if time.hour  == 0 or time.hour == 1:\n",
    "        date = np.array([row['participant_id'], temp_diff.days-1])\n",
    "    else:\n",
    "        date = np.array([row['participant_id'], temp_diff.days])\n",
    "    sr_dates.append(date)\n",
    "    \n",
    "sr_dates = np.asarray(sr_dates)"
   ]
  },
  {
   "cell_type": "code",
   "execution_count": 73,
   "metadata": {},
   "outputs": [
    {
     "data": {
      "text/plain": [
       "day\n",
       "-4     2.500000\n",
       "-3     4.380952\n",
       "-2     7.210526\n",
       "-1     6.056604\n",
       " 0     3.000000\n",
       " 1     2.476190\n",
       " 2     3.578947\n",
       " 3     4.000000\n",
       " 4     5.153846\n",
       " 5     5.307692\n",
       " 6     5.833333\n",
       " 7     5.571429\n",
       " 8     6.076923\n",
       " 9     3.800000\n",
       " 10    5.642857\n",
       " 11    2.000000\n",
       "dtype: float64"
      ]
     },
     "execution_count": 73,
     "metadata": {},
     "output_type": "execute_result"
    }
   ],
   "source": [
    "'''\n",
    "Aggregate smoking events for each user-day\n",
    "'''\n",
    "\n",
    "sr_pd = pd.DataFrame(sr_dates)\n",
    "sr_pd.columns = ['user', 'day']\n",
    "sr_userdays = sr_pd.groupby(['user','day']).size()\n",
    "\n",
    "sr_userdays.groupby('day').mean()"
   ]
  },
  {
   "cell_type": "code",
   "execution_count": 85,
   "metadata": {},
   "outputs": [
    {
     "data": {
      "text/plain": [
       "array([[202,  10],\n",
       "       [207,   1],\n",
       "       [208,   7],\n",
       "       [211,   2],\n",
       "       [212,   8],\n",
       "       [214,   2],\n",
       "       [215,  10],\n",
       "       [216,  10],\n",
       "       [217,   3],\n",
       "       [218,   1],\n",
       "       [219,  10],\n",
       "       [224,   9],\n",
       "       [226,  10],\n",
       "       [227,  11],\n",
       "       [228,  11],\n",
       "       [229,   4],\n",
       "       [231,   2],\n",
       "       [233,   6],\n",
       "       [238,  10],\n",
       "       [240,  11],\n",
       "       [241,   1],\n",
       "       [243,   5],\n",
       "       [247,   1],\n",
       "       [249,   1],\n",
       "       [252,   9],\n",
       "       [253,  11],\n",
       "       [254,   4],\n",
       "       [255,  10],\n",
       "       [256,   5],\n",
       "       [259,   8],\n",
       "       [261,  10],\n",
       "       [262,  10],\n",
       "       [263,   2],\n",
       "       [264,   1],\n",
       "       [265,   2],\n",
       "       [266,   1],\n",
       "       [267,  10]], dtype=int64)"
      ]
     },
     "execution_count": 85,
     "metadata": {},
     "output_type": "execute_result"
    }
   ],
   "source": [
    "'''\n",
    "For each user, find the first user-day on which \n",
    "they self-reported smoking\n",
    "''' \n",
    "\n",
    "sr_survival = []\n",
    "for id in np.unique(sr_dates[:,0]):\n",
    "    subset = sr_dates[sr_dates[:,0] == id,:]\n",
    "    if any(subset[:,1] > 0):\n",
    "        subset = subset[subset[:,1] > 0,:]\n",
    "        temp = [id, np.max(subset[:,1])]\n",
    "        sr_survival.append(temp)\n",
    "\n",
    "sr_survival = np.asarray(sr_survival)"
   ]
  },
  {
   "cell_type": "code",
   "execution_count": 78,
   "metadata": {},
   "outputs": [],
   "source": [
    "# Read data for random EMA\n",
    "random_ema = pd.read_csv(os.path.join(os.path.realpath(dir),'random-ema-final.csv'))"
   ]
  },
  {
   "cell_type": "code",
   "execution_count": 86,
   "metadata": {},
   "outputs": [
    {
     "data": {
      "text/plain": [
       "array([[201,  -3,   0],\n",
       "       [201,  -3,   0],\n",
       "       [201,  -2,   0],\n",
       "       ...,\n",
       "       [269,  10,   0],\n",
       "       [269,  10,   0],\n",
       "       [270,  -3,   0]], dtype=int64)"
      ]
     },
     "execution_count": 86,
     "metadata": {},
     "output_type": "execute_result"
    }
   ],
   "source": [
    "'''\n",
    "Extract all smoking events from random EMA and label with correct user-day\n",
    "'''\n",
    "\n",
    "random_dates = []\n",
    "for irow in range(0,random_ema.shape[0]):\n",
    "    row = random_ema.iloc[irow]\n",
    "    quit_iloc = np.where(participant_dates['participant'] == row['participant_id'])\n",
    "    quit_row = participant_dates.iloc[quit_iloc[0][0]]\n",
    "    quit_time = datetime.datetime.strptime(quit_row['quit_date'], '%m/%d/%y')\n",
    "    if row['status'] == \"MISSED\":\n",
    "        continue\n",
    "    try:\n",
    "        time = datetime.datetime.strptime(row['date'], '%m/%d/%y %H:%M')\n",
    "    except:\n",
    "        time = datetime.datetime.strptime(row['date'], '%Y-%m-%d %H:%M:%S')\n",
    "    #print row['participant_id'], time\n",
    "    #print quit_row['participant'], quit_time\n",
    "    temp_diff = time - quit_time\n",
    "    if time.hour  == 0 or time.hour == 1:\n",
    "        date = np.array([row['participant_id'], temp_diff.days-1])\n",
    "        if row['smoke'] == 'Yes':\n",
    "            date = np.append(date, [1])\n",
    "            random_dates.append(date)\n",
    "        if row['smoke'] == 'No':\n",
    "            date = np.append(date, [0])\n",
    "            random_dates.append(date)\n",
    "    else:\n",
    "        date = np.array([row['participant_id'], temp_diff.days])\n",
    "        if row['smoke'] == 'Yes':\n",
    "            date = np.append(date, 1)\n",
    "            random_dates.append(date)\n",
    "        if row['smoke'] == 'No':\n",
    "            date = np.append(date, 0)\n",
    "            random_dates.append(date)\n",
    "\n",
    "random_dates = np.asarray(random_dates)"
   ]
  },
  {
   "cell_type": "code",
   "execution_count": 87,
   "metadata": {},
   "outputs": [],
   "source": [
    "'''\n",
    "Aggregate smoking events for each user-day\n",
    "within the random EMA\n",
    "'''\n",
    "\n",
    "random_pd = pd.DataFrame(random_dates)\n",
    "random_pd.columns = ['user', 'day', 'smoke']\n",
    "random_pd_userdays = random_pd.groupby(['user','day'])['smoke'].sum().reset_index()"
   ]
  },
  {
   "cell_type": "code",
   "execution_count": 90,
   "metadata": {},
   "outputs": [],
   "source": [
    "random_survival = []\n",
    "for id in np.unique(random_dates[:,0]):\n",
    "    subset = random_dates[random_dates[:,0] == id,:]\n",
    "    if any(subset[:,1] > 0):\n",
    "        subset = subset[subset[:,1] > 0,:]\n",
    "        nonzero_iloc = np.where(subset[:,2] == 1)[0]\n",
    "        zero_iloc = np.where(subset[:,2] == 0)[0]\n",
    "        if len(nonzero_iloc) == 0:\n",
    "            if len(zero_iloc) != 0:\n",
    "                temp = np.append(subset[np.max(zero_iloc),0:2], 0)\n",
    "        else:\n",
    "            temp = np.append(subset[np.max(nonzero_iloc), 0:2], 1)\n",
    "        random_survival.append(temp)\n",
    "\n",
    "random_survival = np.asarray(random_survival)"
   ]
  },
  {
   "cell_type": "code",
   "execution_count": 174,
   "metadata": {},
   "outputs": [],
   "source": [
    "all_ema_survival = np.array([])\n",
    "sr_random_survival = np.array([])\n",
    "\n",
    "for id in np.unique(np.concatenate([random_survival[:,0], sr_survival[:,0], eod_survival[:,0]])):\n",
    "    temp = np.array([id])\n",
    "    random_subset = random_survival[random_survival[:,0] == id,:]\n",
    "    if not len(random_subset) == 0:\n",
    "        temp = np.append(temp, random_subset[0][1:3])\n",
    "    else:\n",
    "        temp = np.append(temp, [-1,-1]) \n",
    "    sr_subset = sr_survival[sr_survival[:,0] == id,:]\n",
    "    if not len(sr_subset) == 0:\n",
    "        sr_day = sr_subset[0][1]\n",
    "        if temp[1] > sr_day or temp[1] == -1:\n",
    "            temp[1:3] = [sr_day,1]\n",
    "    temp2 = temp\n",
    "    sr_random_survival = np.append(sr_random_survival, temp2)\n",
    "    eod_subset = eod_survival[eod_survival[:,0] == id, :]\n",
    "    if not len(eod_subset) == 0:\n",
    "        if eod_subset[0][1] < temp[1] and eod_subset[0][2] == 1:\n",
    "            temp[1:3] = eod_subset[0][1:3]\n",
    "        elif eod_subset[0][1] > temp[1] and eod_subset[0][2] == 0 and temp[2] == 0:\n",
    "            temp[1:3] = eod_subset[0][1:3]\n",
    "    all_ema_survival = np.append(all_ema_survival, temp)\n",
    "\n",
    "sr_random_survival = np.reshape(sr_random_survival, (-1,3))\n",
    "all_ema_survival = np.reshape(all_ema_survival, (-1,3))\n",
    "\n",
    "np.concatenate((sr_random_survival, all_ema_survival), )"
   ]
  },
  {
   "cell_type": "code",
   "execution_count": 160,
   "metadata": {},
   "outputs": [],
   "source": [
    "def km_estimation(day_range, survival_data):\n",
    "    km_list = [1]\n",
    "    var_list = [0]\n",
    "    for day in day_range:\n",
    "        n_day = np.sum(survival_data[:,1] >= day, dtype='f')\n",
    "        subset = survival_data[survival_data[:,1] == day,:]\n",
    "        subset = subset[subset[:,2] == 1]\n",
    "        d_day = subset.shape[0]\n",
    "        km_list.append(1-d_day/n_day)\n",
    "        var_list.append(d_day/(n_day * (n_day - d_day)))\n",
    "\n",
    "    km_est = np.cumprod(km_list)\n",
    "\n",
    "    var_est = np.multiply(np.power(km_est,2),np.cumsum(var_list))\n",
    "\n",
    "    km_stderr = np.sqrt(var_est)\n",
    "\n",
    "    upper_km_est = km_est + 1.96*km_stderr\n",
    "    lower_km_est = km_est - 1.96*km_stderr\n",
    "    return(lower_km_est, km_est, upper_km_est)"
   ]
  },
  {
   "cell_type": "code",
   "execution_count": 165,
   "metadata": {},
   "outputs": [
    {
     "data": {
      "text/plain": [
       "array([[202.,   7.,   1., 202.,   7.,   1.],\n",
       "       [203.,  13.,   0., 203.,  13.,   0.],\n",
       "       [205.,   8.,   1., 205.,   8.,   1.],\n",
       "       [206.,   9.,   0., 206.,   9.,   0.],\n",
       "       [207.,   1.,   1., 207.,   1.,   1.],\n",
       "       [208.,   3.,   1., 208.,   3.,   1.],\n",
       "       [211.,   2.,   1., 211.,   2.,   1.],\n",
       "       [212.,   6.,   1., 212.,   6.,   1.],\n",
       "       [213.,   1.,   0., 213.,   1.,   0.],\n",
       "       [214.,   2.,   1., 214.,   2.,   1.],\n",
       "       [215.,  10.,   1., 215.,  10.,   1.],\n",
       "       [216.,  10.,   1., 216.,  10.,   1.],\n",
       "       [217.,   3.,   1., 217.,   3.,   1.],\n",
       "       [218.,   1.,   1., 218.,   1.,   1.],\n",
       "       [219.,  10.,   1., 219.,  10.,   1.],\n",
       "       [222.,   1.,   1., 222.,   1.,   1.],\n",
       "       [223.,  11.,   0., 223.,  11.,   0.],\n",
       "       [224.,   9.,   1., 224.,   9.,   1.],\n",
       "       [225.,   9.,   1., 225.,   9.,   1.],\n",
       "       [226.,   8.,   1., 226.,   8.,   1.],\n",
       "       [227.,  10.,   1., 227.,  10.,   1.],\n",
       "       [228.,   8.,   1., 228.,   8.,   1.],\n",
       "       [229.,   2.,   1., 229.,   2.,   1.],\n",
       "       [230.,   9.,   1., 230.,   9.,   1.],\n",
       "       [231.,   1.,   1., 231.,   1.,   1.],\n",
       "       [233.,   6.,   1., 233.,   6.,   1.],\n",
       "       [234.,   1.,   0., 234.,   1.,   0.],\n",
       "       [235.,   4.,   0., 235.,   4.,   0.],\n",
       "       [238.,   9.,   1., 238.,   9.,   1.],\n",
       "       [240.,  10.,   1., 240.,  10.,   1.],\n",
       "       [241.,   1.,   1., 241.,   1.,   1.],\n",
       "       [242.,   8.,   1., 242.,   8.,   1.],\n",
       "       [243.,   5.,   0., 243.,   5.,   0.],\n",
       "       [244.,  11.,   0., 244.,  11.,   0.],\n",
       "       [245.,   4.,   1., 245.,   4.,   1.],\n",
       "       [247.,   1.,   1., 247.,   1.,   1.],\n",
       "       [248.,  10.,   0., 248.,  10.,   0.],\n",
       "       [249.,   1.,   1., 249.,   1.,   1.],\n",
       "       [250.,  10.,   0., 250.,  10.,   0.],\n",
       "       [251.,  11.,   0., 251.,  11.,   0.],\n",
       "       [252.,   9.,   1., 252.,   9.,   1.],\n",
       "       [253.,  10.,   1., 253.,  10.,   1.],\n",
       "       [254.,   4.,   1., 254.,   4.,   1.],\n",
       "       [255.,  10.,   1., 255.,  10.,   1.],\n",
       "       [256.,   5.,   1., 256.,   5.,   1.],\n",
       "       [258.,  10.,   1., 258.,  10.,   1.],\n",
       "       [259.,   3.,   1., 259.,   3.,   1.],\n",
       "       [260.,   5.,   1., 260.,   5.,   1.],\n",
       "       [261.,   9.,   1., 261.,   9.,   1.],\n",
       "       [262.,   1.,   1., 262.,   1.,   1.],\n",
       "       [263.,   2.,   1., 263.,   2.,   1.],\n",
       "       [264.,   1.,   1., 264.,   1.,   1.],\n",
       "       [265.,   2.,   1., 265.,   2.,   1.],\n",
       "       [266.,   1.,   1., 266.,   1.,   1.],\n",
       "       [267.,   7.,   1., 267.,   7.,   1.],\n",
       "       [269.,   3.,   1., 269.,   3.,   1.]])"
      ]
     },
     "execution_count": 165,
     "metadata": {},
     "output_type": "execute_result"
    }
   ],
   "source": [
    "lower_km_est, km_est, upper_km_est = km_estimation(day_range, all_ema_survival)\n",
    "\n",
    "eod_lower_km_est, eod_km_est, eod_upper_km_est = km_estimation(day_range, eod_survival)\n",
    "\n",
    "sr_random_lower_km_est, sr_random_km_est, sr_random_upper_km_est = km_estimation(day_range, sr_random_survival)\n",
    "\n",
    "np.concatenate((all_ema_survival, sr_random_survival), axis = 1)"
   ]
  },
  {
   "cell_type": "code",
   "execution_count": 162,
   "metadata": {},
   "outputs": [
    {
     "data": {
      "image/png": "[encoded data removed]",
      "text/plain": [
       "<Figure size 432x288 with 1 Axes>"
      ]
     },
     "metadata": {
      "needs_background": "light"
     },
     "output_type": "display_data"
    }
   ],
   "source": [
    "import matplotlib.pyplot as plt\n",
    "plt.plot(km_est)\n",
    "plt.plot(eod_km_est)\n",
    "plt.plot(sr_random_km_est)\n",
    "plt.plot(upper_km_est,linestyle='dashed')\n",
    "plt.plot(lower_km_est,linestyle='dashed')\n",
    "plt.ylabel('Survival (time until first smoking event)')\n",
    "plt.show()\n",
    "\n"
   ]
  },
  {
   "cell_type": "markdown",
   "metadata": {},
   "source": []
  }
 ],
 "metadata": {
  "kernelspec": {
   "display_name": "Python 3",
   "language": "python",
   "name": "python3"
  },
  "language_info": {
   "codemirror_mode": {
    "name": "ipython",
    "version": 3
   },
   "file_extension": ".py",
   "mimetype": "text/x-python",
   "name": "python",
   "nbconvert_exporter": "python",
   "pygments_lexer": "ipython3",
   "version": "3.7.6"
  }
 },
 "nbformat": 4,
 "nbformat_minor": 2
}
