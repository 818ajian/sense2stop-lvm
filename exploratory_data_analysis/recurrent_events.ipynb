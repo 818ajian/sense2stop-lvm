{
 "cells": [
  {
   "cell_type": "markdown",
   "metadata": {},
   "source": [
    "## Recurrent event: Exploratory Data Analysis\n",
    "\n",
    "- This notebook dedicated to understanding the recurrent event process\n",
    "- We compute time-until-first reported event for\n",
    "    + End-of-Day (EOD) EMA\n",
    "    + Self-report\n",
    "    + Random EMA\n",
    "    + puffMarker\n",
    "- We combine SR and EMA as these are meant to be non-overlapping\n",
    "- We see that each source is not perfect and so combining provides important additional information\n",
    "- We see that people lapse very quickly with the # of smoking episodes after the first lapse increases quickly day-by-day\n",
    "- TODO: Want to show that self-report is insufficient by itself"
   ]
  },
  {
   "cell_type": "code",
   "execution_count": 149,
   "metadata": {},
   "outputs": [
    {
     "name": "stdout",
     "output_type": "stream",
     "text": [
      "/home/wdempsey/Documents/github/sense2stop-lvm/exploratory_data_analysis\n"
     ]
    }
   ],
   "source": [
    "# Import packages and set directory\n",
    "import pandas as pd\n",
    "import numpy as np\n",
    "import datetime as datetime\n",
    "import os\n",
    "print(os.getcwd())\n",
    "dir = \"../final-data\""
   ]
  },
  {
   "cell_type": "code",
   "execution_count": 150,
   "metadata": {},
   "outputs": [],
   "source": [
    "# Response windows for end-of-day EMA\n",
    "keys = ['8to9', '9to10', '10to11', '11to12',\n",
    "        '12to13','13to14','14to15','15to16',\n",
    "        '16to17','17to18','18to19','19to20']"
   ]
  },
  {
   "cell_type": "code",
   "execution_count": 151,
   "metadata": {},
   "outputs": [],
   "source": [
    "# read EOD data and participant entry/exit dates\n",
    "eod_ema = pd.read_csv(os.path.join(os.path.realpath(dir), 'eod-ema-final.csv'))\n",
    "participant_dates = pd.read_csv(os.path.join(os.path.realpath(dir),'participant-dates-v3.csv'))"
   ]
  },
  {
   "cell_type": "code",
   "execution_count": 152,
   "metadata": {},
   "outputs": [
    {
     "data": {
      "text/plain": [
       "array([[201.,  -3.,   2.],\n",
       "       [201.,  -2.,   9.],\n",
       "       [203.,   6.,   0.],\n",
       "       ...,\n",
       "       [269.,   8.,   0.],\n",
       "       [269.,   9.,   0.],\n",
       "       [269.,  10.,   0.]])"
      ]
     },
     "execution_count": 152,
     "metadata": {},
     "output_type": "execute_result"
    }
   ],
   "source": [
    "# Construct user-days and record how many cigarettes\n",
    "# are reported in the EOD EMA\n",
    "eod_dates = []\n",
    "for irow in range(0,eod_ema.shape[0]):\n",
    "    row = eod_ema.iloc[irow]\n",
    "    quit_iloc = np.where(participant_dates['participant'] == row['participant_id'])\n",
    "    quit_row = participant_dates.iloc[quit_iloc[0][0]]\n",
    "    quit_time = datetime.datetime.strptime(quit_row['quit_date'], '%m/%d/%y')\n",
    "    if row['status'] == \"MISSED\":\n",
    "        continue\n",
    "    try:\n",
    "        time = datetime.datetime.strptime(row['date'], '%m/%d/%Y %H:%M')\n",
    "    except:\n",
    "        time = datetime.datetime.strptime(row['date'], '%Y-%m-%d %H:%M:%S')\n",
    "    #print row['participant_id'], time\n",
    "    #print quit_row['participant'], quit_time\n",
    "    temp_diff = time - quit_time\n",
    "    if time.hour  == 0 or time.hour == 1:\n",
    "        date = np.array([row['participant_id'], temp_diff.days-1])\n",
    "        date = np.append(date, np.sum(np.array(row[keys])))\n",
    "    else:\n",
    "        date = np.array([row['participant_id'], temp_diff.days])\n",
    "        date = np.append(date, np.sum(np.array(row[keys])))\n",
    "    #print date\n",
    "    eod_dates.append(date)\n",
    "    \n",
    "eod_dates = np.asarray(eod_dates)\n",
    "eod_dates"
   ]
  },
  {
   "cell_type": "code",
   "execution_count": 153,
   "metadata": {},
   "outputs": [
    {
     "name": "stdout",
     "output_type": "stream",
     "text": [
      "(-3, 4.444, 2.948)\n",
      "(-2, 4.812, 3.193)\n",
      "(-1, 4.227, 2.867)\n",
      "(0, 1.7, 2.015)\n",
      "(1, 1.237, 1.286)\n",
      "(2, 1.735, 2.429)\n",
      "(3, 1.324, 2.529)\n",
      "(4, 1.176, 2.022)\n",
      "(5, 1.629, 2.294)\n",
      "(6, 1.424, 2.118)\n",
      "(7, 1.839, 2.554)\n",
      "(8, 1.735, 1.975)\n",
      "(9, 1.676, 2.665)\n",
      "(10, 2.0, 3.215)\n"
     ]
    }
   ],
   "source": [
    "## Each day get the mean and standard deviation\n",
    "## in the number of reported cigarettes using end-of-day EMA\n",
    "for day in range(-3, 11):\n",
    "    print(day, np.round(np.nanmean(eod_dates[eod_dates[:,1] == day,2]),3), np.round(np.nanstd(eod_dates[eod_dates[:,1] == day,2]),3))"
   ]
  },
  {
   "cell_type": "code",
   "execution_count": 154,
   "metadata": {},
   "outputs": [
    {
     "data": {
      "text/plain": [
       "array([[203.,  10.,   0.],\n",
       "       [205.,   8.,   1.],\n",
       "       [206.,   9.,   0.],\n",
       "       [207.,   1.,   1.],\n",
       "       [208.,   1.,   1.],\n",
       "       [211.,   2.,   1.],\n",
       "       [214.,   1.,   1.],\n",
       "       [215.,   1.,   1.],\n",
       "       [216.,   5.,   1.],\n",
       "       [217.,   1.,   1.],\n",
       "       [218.,  10.,   0.],\n",
       "       [219.,   1.,   1.],\n",
       "       [222.,   1.,   1.],\n",
       "       [223.,  10.,   0.],\n",
       "       [224.,   1.,   1.],\n",
       "       [225.,   1.,   1.],\n",
       "       [226.,   1.,   1.],\n",
       "       [227.,   1.,   1.],\n",
       "       [228.,   1.,   1.],\n",
       "       [229.,   2.,   1.],\n",
       "       [230.,   1.,   1.],\n",
       "       [231.,   1.,   1.],\n",
       "       [233.,   1.,   1.],\n",
       "       [234.,   1.,   1.],\n",
       "       [235.,   3.,   0.],\n",
       "       [238.,   1.,   1.],\n",
       "       [240.,   4.,   1.],\n",
       "       [242.,   8.,   1.],\n",
       "       [244.,   9.,   0.],\n",
       "       [245.,   5.,   1.],\n",
       "       [247.,   1.,   1.],\n",
       "       [248.,  10.,   0.],\n",
       "       [249.,   1.,   1.],\n",
       "       [250.,  10.,   0.],\n",
       "       [251.,   9.,   0.],\n",
       "       [252.,   1.,   1.],\n",
       "       [253.,   4.,   1.],\n",
       "       [255.,  10.,   1.],\n",
       "       [256.,   1.,   1.],\n",
       "       [258.,   1.,   1.],\n",
       "       [259.,   8.,   1.],\n",
       "       [260.,   1.,   1.],\n",
       "       [261.,   3.,   1.],\n",
       "       [262.,   1.,   1.],\n",
       "       [263.,   2.,   1.],\n",
       "       [264.,   1.,   1.],\n",
       "       [265.,   2.,   1.],\n",
       "       [267.,   1.,   1.],\n",
       "       [269.,   1.,   1.]])"
      ]
     },
     "execution_count": 154,
     "metadata": {},
     "output_type": "execute_result"
    }
   ],
   "source": [
    "eod_survival = []\n",
    "for id in np.unique(eod_dates[:,0]):\n",
    "    subset = eod_dates[eod_dates[:,0] == id,:]\n",
    "    if any(subset[:,1] > 0):\n",
    "        subset = subset[subset[:,1] > 0,:]\n",
    "        nonzero_iloc = np.where(subset[:,2] > 0)[0]\n",
    "        zero_iloc = np.where(subset[:,2] == 0)[0]\n",
    "        if len(nonzero_iloc) == 0:\n",
    "            if len(zero_iloc) != 0:\n",
    "                temp = np.append(subset[np.max(zero_iloc),0:2], 0)\n",
    "        else:\n",
    "            temp = np.append(subset[np.min(nonzero_iloc), 0:2], 1)\n",
    "        eod_survival.append(temp)\n",
    "\n",
    "eod_survival = np.asarray(eod_survival)\n",
    "eod_survival"
   ]
  },
  {
   "cell_type": "code",
   "execution_count": 7,
   "metadata": {},
   "outputs": [],
   "source": [
    "# Read data for self-report\n",
    "selfreport = pd.read_csv(os.path.join(os.path.realpath(dir), 'self-report-smoking-final.csv'))"
   ]
  },
  {
   "cell_type": "code",
   "execution_count": 8,
   "metadata": {},
   "outputs": [],
   "source": [
    "'''\n",
    "Extract all smoking events and label with correct user-day\n",
    "'''\n",
    "\n",
    "sr_dates = []\n",
    "for irow in range(0,selfreport.shape[0]):\n",
    "    row = selfreport.iloc[irow]\n",
    "    quit_iloc = np.where(participant_dates['participant'] == row['participant_id'])\n",
    "    quit_row = participant_dates.iloc[quit_iloc[0][0]]\n",
    "    quit_time = datetime.datetime.strptime(quit_row['quit_date'], '%m/%d/%y')\n",
    "    try:\n",
    "        time = datetime.datetime.strptime(row['date'], '%m/%d/%y %H:%M')\n",
    "    except:\n",
    "        time = datetime.datetime.strptime(row['date'], '%Y-%m-%d %H:%M:%S')\n",
    "    temp_diff = time - quit_time\n",
    "    if time.hour  == 0 or time.hour == 1:\n",
    "        date = np.array([row['participant_id'], temp_diff.days-1])\n",
    "    else:\n",
    "        date = np.array([row['participant_id'], temp_diff.days])\n",
    "    sr_dates.append(date)\n",
    "    \n",
    "sr_dates = np.asarray(sr_dates)"
   ]
  },
  {
   "cell_type": "code",
   "execution_count": 9,
   "metadata": {},
   "outputs": [
    {
     "data": {
      "text/plain": [
       "day\n",
       "-4     2.500000\n",
       "-3     4.380952\n",
       "-2     7.210526\n",
       "-1     6.056604\n",
       " 0     3.000000\n",
       " 1     2.476190\n",
       " 2     3.578947\n",
       " 3     4.000000\n",
       " 4     5.153846\n",
       " 5     5.307692\n",
       " 6     5.833333\n",
       " 7     5.571429\n",
       " 8     6.076923\n",
       " 9     3.800000\n",
       " 10    5.642857\n",
       " 11    2.000000\n",
       "Name: smoke, dtype: float64"
      ]
     },
     "execution_count": 9,
     "metadata": {},
     "output_type": "execute_result"
    }
   ],
   "source": [
    "'''\n",
    "Aggregate smoking events for each user-day\n",
    "'''\n",
    "\n",
    "sr_pd = pd.DataFrame(sr_dates)\n",
    "sr_pd.columns = ['user', 'day']\n",
    "sr_userdays = sr_pd.groupby(['user','day']).size().reset_index()\n",
    "sr_userdays.columns = ['user', 'day', 'smoke']\n",
    "\n",
    "sr_userdays.groupby('day')['smoke'].mean()"
   ]
  },
  {
   "cell_type": "code",
   "execution_count": 156,
   "metadata": {},
   "outputs": [
    {
     "data": {
      "text/plain": [
       "array([[202,   2],\n",
       "       [207,   1],\n",
       "       [208,   1],\n",
       "       [211,   2],\n",
       "       [212,   8],\n",
       "       [214,   2],\n",
       "       [215,   1],\n",
       "       [216,   7],\n",
       "       [217,   3],\n",
       "       [218,   1],\n",
       "       [219,   1],\n",
       "       [224,   1],\n",
       "       [226,   1],\n",
       "       [227,   1],\n",
       "       [228,   2],\n",
       "       [229,   2],\n",
       "       [231,   1],\n",
       "       [233,   1],\n",
       "       [238,   3],\n",
       "       [240,   1],\n",
       "       [241,   1],\n",
       "       [243,   5],\n",
       "       [247,   1],\n",
       "       [249,   1],\n",
       "       [252,   1],\n",
       "       [253,   5],\n",
       "       [254,   1],\n",
       "       [255,   4],\n",
       "       [256,   4],\n",
       "       [259,   3],\n",
       "       [261,   1],\n",
       "       [262,   1],\n",
       "       [263,   2],\n",
       "       [264,   1],\n",
       "       [265,   2],\n",
       "       [266,   1],\n",
       "       [267,   1]])"
      ]
     },
     "execution_count": 156,
     "metadata": {},
     "output_type": "execute_result"
    }
   ],
   "source": [
    "'''\n",
    "For each user, find the first user-day on which \n",
    "they self-reported smoking\n",
    "''' \n",
    "\n",
    "sr_survival = []\n",
    "for id in np.unique(sr_dates[:,0]):\n",
    "    subset = sr_dates[sr_dates[:,0] == id,:]\n",
    "    if any(subset[:,1] > 0):\n",
    "        subset = subset[subset[:,1] > 0,:]\n",
    "        temp = [id, np.min(subset[:,1])]\n",
    "        sr_survival.append(temp)\n",
    "\n",
    "sr_survival = np.asarray(sr_survival)"
   ]
  },
  {
   "cell_type": "code",
   "execution_count": 11,
   "metadata": {},
   "outputs": [],
   "source": [
    "# Read data for random EMA\n",
    "random_ema = pd.read_csv(os.path.join(os.path.realpath(dir),'random-ema-final.csv'))"
   ]
  },
  {
   "cell_type": "code",
   "execution_count": 12,
   "metadata": {},
   "outputs": [],
   "source": [
    "'''\n",
    "Extract all smoking events from random EMA and label with correct user-day\n",
    "'''\n",
    "\n",
    "random_dates = []\n",
    "for irow in range(0,random_ema.shape[0]):\n",
    "    row = random_ema.iloc[irow]\n",
    "    quit_iloc = np.where(participant_dates['participant'] == row['participant_id'])\n",
    "    quit_row = participant_dates.iloc[quit_iloc[0][0]]\n",
    "    quit_time = datetime.datetime.strptime(quit_row['quit_date'], '%m/%d/%y')\n",
    "    if row['status'] == \"MISSED\":\n",
    "        continue\n",
    "    try:\n",
    "        time = datetime.datetime.strptime(row['date'], '%m/%d/%y %H:%M')\n",
    "    except:\n",
    "        time = datetime.datetime.strptime(row['date'], '%Y-%m-%d %H:%M:%S')\n",
    "    #print row['participant_id'], time\n",
    "    #print quit_row['participant'], quit_time\n",
    "    temp_diff = time - quit_time\n",
    "    if time.hour  == 0 or time.hour == 1:\n",
    "        date = np.array([row['participant_id'], temp_diff.days-1])\n",
    "        if row['smoke'] == 'Yes':\n",
    "            date = np.append(date, [1])\n",
    "            random_dates.append(date)\n",
    "        if row['smoke'] == 'No':\n",
    "            date = np.append(date, [0])\n",
    "            random_dates.append(date)\n",
    "    else:\n",
    "        date = np.array([row['participant_id'], temp_diff.days])\n",
    "        if row['smoke'] == 'Yes':\n",
    "            date = np.append(date, 1)\n",
    "            random_dates.append(date)\n",
    "        if row['smoke'] == 'No':\n",
    "            date = np.append(date, 0)\n",
    "            random_dates.append(date)\n",
    "\n",
    "random_dates = np.asarray(random_dates)"
   ]
  },
  {
   "cell_type": "code",
   "execution_count": 66,
   "metadata": {},
   "outputs": [],
   "source": [
    "'''\n",
    "Aggregate smoking events for each user-day\n",
    "within the random EMA\n",
    "'''\n",
    "\n",
    "random_pd = pd.DataFrame(random_dates)\n",
    "random_pd.columns = ['user', 'day', 'smoke']\n",
    "random_userdays = random_pd.groupby(['user','day'])['smoke'].sum().reset_index()"
   ]
  },
  {
   "cell_type": "code",
   "execution_count": 148,
   "metadata": {},
   "outputs": [
    {
     "data": {
      "text/plain": [
       "array([[202,   1,   1],\n",
       "       [205,   8,   1],\n",
       "       [208,   1,   1],\n",
       "       [211,   8,   1],\n",
       "       [212,   3,   1],\n",
       "       [214,   4,   1],\n",
       "       [216,   7,   1],\n",
       "       [217,   1,   1],\n",
       "       [218,   1,   1],\n",
       "       [219,   1,   1],\n",
       "       [222,   1,   1],\n",
       "       [224,   1,   1],\n",
       "       [225,   1,   1],\n",
       "       [226,   2,   1],\n",
       "       [227,   1,   1],\n",
       "       [228,   8,   1],\n",
       "       [229,   2,   1],\n",
       "       [231,   2,   1],\n",
       "       [233,   1,   1],\n",
       "       [238,   1,   1],\n",
       "       [240,   3,   1],\n",
       "       [241,   1,   1],\n",
       "       [245,   2,   1],\n",
       "       [247,   1,   1],\n",
       "       [252,   1,   1],\n",
       "       [253,   5,   1],\n",
       "       [254,   1,   1],\n",
       "       [255,  10,   1],\n",
       "       [258,   2,   1],\n",
       "       [259,   3,   1],\n",
       "       [260,   1,   1],\n",
       "       [261,   3,   1],\n",
       "       [262,   1,   1],\n",
       "       [265,   6,   1],\n",
       "       [267,   1,   1],\n",
       "       [269,   3,   1]])"
      ]
     },
     "execution_count": 148,
     "metadata": {},
     "output_type": "execute_result"
    }
   ],
   "source": [
    "random_survival = []\n",
    "for id in np.unique(random_dates[:,0]):\n",
    "    iloc = np.where((random_userdays['user'] == id) & (random_userdays['day'] > 0))\n",
    "    subset = random_userdays.iloc[iloc]\n",
    "    if any(subset['smoke'] > 0):\n",
    "        nonzero_iloc = np.where(subset['smoke'] > 0)\n",
    "        zero_iloc = np.where(subset['smoke'] == 0)\n",
    "        if np.size(nonzero_iloc) == 0:\n",
    "            if np.size(zero_iloc) != 0:\n",
    "                temp = np.append(subset.loc[iloc[0][np.max(zero_iloc)], ['user', 'day']], 0)\n",
    "        else:\n",
    "            temp = np.append(subset.loc[iloc[0][np.min(nonzero_iloc)], ['user','day']], 1)\n",
    "        random_survival.append(temp)\n",
    "\n",
    "random_survival = np.asarray(random_survival)"
   ]
  },
  {
   "cell_type": "code",
   "execution_count": 16,
   "metadata": {},
   "outputs": [],
   "source": [
    "# Read data for puffMarker\n",
    "puffMarker = pd.read_csv(os.path.join(os.path.realpath(dir),'puff-episode-final.csv'))"
   ]
  },
  {
   "cell_type": "code",
   "execution_count": 17,
   "metadata": {},
   "outputs": [],
   "source": [
    "'''\n",
    "Extract all smoking events from puffMarker and label with correct user-day\n",
    "'''\n",
    "\n",
    "pM_dates = []\n",
    "for irow in range(0,puffMarker.shape[0]):\n",
    "    row = puffMarker.iloc[irow]\n",
    "    quit_iloc = np.where(participant_dates['participant'] == row['participant_id'])\n",
    "    quit_row = participant_dates.iloc[quit_iloc[0][0]]\n",
    "    quit_time = datetime.datetime.strptime(quit_row['quit_date'], '%m/%d/%y')\n",
    "    try:\n",
    "        time = datetime.datetime.strptime(row['date'], '%m/%d/%y %H:%M')\n",
    "    except:\n",
    "        time = datetime.datetime.strptime(row['date'], '%Y-%m-%d %H:%M:%S')\n",
    "    #print row['participant_id'], time\n",
    "    #print quit_row['participant'], quit_time\n",
    "    temp_diff = time - quit_time\n",
    "    if time.hour  == 0 or time.hour == 1:\n",
    "        date = np.array([row['participant_id'], temp_diff.days-1])\n",
    "        date = np.append(date, [1])\n",
    "        pM_dates.append(date)\n",
    "    else:\n",
    "        date = np.array([row['participant_id'], temp_diff.days])\n",
    "        date = np.append(date, 1)\n",
    "        pM_dates.append(date)\n",
    "        \n",
    "pM_dates = np.asarray(pM_dates)"
   ]
  },
  {
   "cell_type": "code",
   "execution_count": 18,
   "metadata": {},
   "outputs": [],
   "source": [
    "'''\n",
    "Aggregate smoking events for each user-day\n",
    "within the puffMarker\n",
    "'''\n",
    "\n",
    "pM_pd = pd.DataFrame(pM_dates)\n",
    "pM_pd.columns = ['user', 'day', 'smoke']\n",
    "pM_pd_userdays = pM_pd.groupby(['user','day'])['smoke'].sum().reset_index()"
   ]
  },
  {
   "cell_type": "code",
   "execution_count": 157,
   "metadata": {},
   "outputs": [],
   "source": [
    "pM_survival = []\n",
    "for id in np.unique(pM_dates[:,0]):\n",
    "    subset = pM_dates[pM_dates[:,0] == id,:]\n",
    "    if any(subset[:,1] > 0):\n",
    "        subset = subset[subset[:,1] > 0,:]\n",
    "        nonzero_iloc = np.where(subset[:,2] == 1)[0]\n",
    "        zero_iloc = np.where(subset[:,2] == 0)[0]\n",
    "        if len(nonzero_iloc) == 0:\n",
    "            if len(zero_iloc) != 0:\n",
    "                temp = np.append(subset[np.max(zero_iloc),0:2], 0)\n",
    "        else:\n",
    "            temp = np.append(subset[np.min(nonzero_iloc), 0:2], 1)\n",
    "        pM_survival.append(temp)\n",
    "\n",
    "pM_survival = np.asarray(pM_survival)"
   ]
  },
  {
   "cell_type": "code",
   "execution_count": 159,
   "metadata": {},
   "outputs": [],
   "source": [
    "all_ema_survival = np.array([])\n",
    "sr_random_survival = np.array([])\n",
    "\n",
    "for id in np.unique(np.concatenate([random_survival[:,0], sr_survival[:,0], eod_survival[:,0]])):\n",
    "    temp = np.array([id])\n",
    "    random_subset = random_survival[random_survival[:,0] == id,:]\n",
    "    if not len(random_subset) == 0:\n",
    "        temp = np.append(temp, random_subset[0][1:3])\n",
    "    else:\n",
    "        temp = np.append(temp, [-1,-1]) \n",
    "    sr_subset = sr_survival[sr_survival[:,0] == id,:]\n",
    "    if not len(sr_subset) == 0:\n",
    "        sr_day = sr_subset[0][1]\n",
    "        if temp[1] > sr_day or temp[1] == -1:\n",
    "            temp[1:3] = [sr_day,1]\n",
    "    temp2 = temp\n",
    "    sr_random_survival = np.append(sr_random_survival, temp2)\n",
    "    eod_subset = eod_survival[eod_survival[:,0] == id, :]\n",
    "    if not len(eod_subset) == 0:\n",
    "        if eod_subset[0][1] < temp[1] and eod_subset[0][2] == 1:\n",
    "            temp[1:3] = eod_subset[0][1:3]\n",
    "        elif eod_subset[0][1] > temp[1] and eod_subset[0][2] == 0 and temp[2] == 0:\n",
    "            temp[1:3] = eod_subset[0][1:3]\n",
    "    all_ema_survival = np.append(all_ema_survival, temp)\n",
    "\n",
    "sr_random_survival = np.reshape(sr_random_survival, (-1,3))\n",
    "all_ema_survival = np.reshape(all_ema_survival, (-1,3))"
   ]
  },
  {
   "cell_type": "code",
   "execution_count": 180,
   "metadata": {},
   "outputs": [],
   "source": [
    "def km_estimation(day_range, survival_data):\n",
    "    km_list = [1]\n",
    "    var_list = [0]\n",
    "    for day in day_range:\n",
    "        n_day = np.sum(survival_data[:,1] >= day, dtype='f')\n",
    "        subset = survival_data[survival_data[:,1] == day,:]\n",
    "        subset = subset[subset[:,2] == 1]\n",
    "        d_day = subset.shape[0]\n",
    "        if n_day > 0 and n_day > d_day:\n",
    "            km_list.append(1-d_day/n_day)\n",
    "            var_list.append(d_day/(n_day * (n_day - d_day)))\n",
    "        else:\n",
    "            km_list.append(0)\n",
    "            var_list.append(0)\n",
    "\n",
    "    km_est = np.cumprod(km_list)\n",
    "\n",
    "    var_est = np.multiply(np.power(km_est,2),np.cumsum(var_list))\n",
    "\n",
    "    km_stderr = np.sqrt(var_est)\n",
    "\n",
    "    upper_km_est = km_est + 1.96*km_stderr\n",
    "    lower_km_est = km_est - 1.96*km_stderr\n",
    "    return(lower_km_est, km_est, upper_km_est)"
   ]
  },
  {
   "cell_type": "code",
   "execution_count": 181,
   "metadata": {},
   "outputs": [],
   "source": [
    "'''\n",
    "Fit Kaplan-Meier curves for (1) All EMA, (2) Only EOD, (3) Only SR and Random, and (4) Only puffMarker\n",
    "'''\n",
    "\n",
    "day_range = range(1,12)\n",
    "\n",
    "lower_km_est, km_est, upper_km_est = km_estimation(day_range, all_ema_survival)\n",
    "\n",
    "eod_lower_km_est, eod_km_est, eod_upper_km_est = km_estimation(day_range, eod_survival)\n",
    "\n",
    "sr_random_lower_km_est, sr_random_km_est, sr_random_upper_km_est = km_estimation(day_range, sr_random_survival)\n",
    "\n",
    "pM_lower_km_est, pM_km_est, pM_upper_km_est = km_estimation(day_range, pM_survival)"
   ]
  },
  {
   "cell_type": "code",
   "execution_count": 186,
   "metadata": {},
   "outputs": [
    {
     "data": {
      "image/png": "[encoded data removed]",
      "text/plain": [
       "<Figure size 432x288 with 1 Axes>"
      ]
     },
     "metadata": {
      "needs_background": "light"
     },
     "output_type": "display_data"
    }
   ],
   "source": [
    "import matplotlib.pyplot as plt\n",
    "plt.plot(km_est)\n",
    "# plt.plot(eod_km_est)\n",
    "plt.plot(sr_random_km_est)\n",
    "# plt.plot(pM_km_est)\n",
    "plt.plot(upper_km_est,linestyle='dashed')\n",
    "plt.plot(lower_km_est,linestyle='dashed')\n",
    "plt.ylabel('Survival (time until first smoking event)')\n",
    "plt.show()"
   ]
  },
  {
   "cell_type": "code",
   "execution_count": 175,
   "metadata": {},
   "outputs": [
    {
     "data": {
      "text/plain": [
       "day\n",
       "-4     3.500000\n",
       "-3     4.982456\n",
       "-2     8.125000\n",
       "-1     6.884615\n",
       " 0     3.812500\n",
       " 1     3.421053\n",
       " 2     4.333333\n",
       " 3     5.153846\n",
       " 4     6.100000\n",
       " 5     5.923077\n",
       " 6     7.000000\n",
       " 7     6.428571\n",
       " 8     7.000000\n",
       " 9     4.357143\n",
       " 10    6.916667\n",
       " 11    2.000000\n",
       "Name: total_smoke, dtype: float64"
      ]
     },
     "execution_count": 175,
     "metadata": {},
     "output_type": "execute_result"
    }
   ],
   "source": [
    "'''\n",
    "Combine self-report and random to get a user-day total count\n",
    "'''\n",
    "sr_random_userdays = pd.merge(random_pd_userdays, sr_userdays, on=['user', 'day'])\n",
    "sr_random_userdays['total_smoke'] = sr_random_userdays['smoke_x'] + sr_random_userdays['smoke_y']\n",
    "sr_random_userdays.groupby('day')['total_smoke'].mean()"
   ]
  },
  {
   "cell_type": "code",
   "execution_count": 241,
   "metadata": {},
   "outputs": [
    {
     "name": "stderr",
     "output_type": "stream",
     "text": [
      "/usr/local/lib/python2.7/dist-packages/ipykernel_launcher.py:16: SettingWithCopyWarning: \n",
      "A value is trying to be set on a copy of a slice from a DataFrame.\n",
      "Try using .loc[row_indexer,col_indexer] = value instead\n",
      "\n",
      "See the caveats in the documentation: http://pandas.pydata.org/pandas-docs/stable/indexing.html#indexing-view-versus-copy\n",
      "  app.launch_new_instance()\n"
     ]
    },
    {
     "data": {
      "text/html": [
       "<div>\n",
       "<style scoped>\n",
       "    .dataframe tbody tr th:only-of-type {\n",
       "        vertical-align: middle;\n",
       "    }\n",
       "\n",
       "    .dataframe tbody tr th {\n",
       "        vertical-align: top;\n",
       "    }\n",
       "\n",
       "    .dataframe thead th {\n",
       "        text-align: right;\n",
       "    }\n",
       "</style>\n",
       "<table border=\"1\" class=\"dataframe\">\n",
       "  <thead>\n",
       "    <tr style=\"text-align: right;\">\n",
       "      <th></th>\n",
       "      <th>day_since_first_smoke</th>\n",
       "      <th>total_smoke</th>\n",
       "    </tr>\n",
       "  </thead>\n",
       "  <tbody>\n",
       "    <tr>\n",
       "      <th>0</th>\n",
       "      <td>0.0</td>\n",
       "      <td>3.440000</td>\n",
       "    </tr>\n",
       "    <tr>\n",
       "      <th>1</th>\n",
       "      <td>1.0</td>\n",
       "      <td>4.437500</td>\n",
       "    </tr>\n",
       "    <tr>\n",
       "      <th>2</th>\n",
       "      <td>2.0</td>\n",
       "      <td>5.230769</td>\n",
       "    </tr>\n",
       "    <tr>\n",
       "      <th>3</th>\n",
       "      <td>3.0</td>\n",
       "      <td>5.833333</td>\n",
       "    </tr>\n",
       "    <tr>\n",
       "      <th>4</th>\n",
       "      <td>4.0</td>\n",
       "      <td>5.769231</td>\n",
       "    </tr>\n",
       "    <tr>\n",
       "      <th>5</th>\n",
       "      <td>5.0</td>\n",
       "      <td>5.928571</td>\n",
       "    </tr>\n",
       "    <tr>\n",
       "      <th>6</th>\n",
       "      <td>6.0</td>\n",
       "      <td>7.076923</td>\n",
       "    </tr>\n",
       "    <tr>\n",
       "      <th>7</th>\n",
       "      <td>7.0</td>\n",
       "      <td>8.666667</td>\n",
       "    </tr>\n",
       "    <tr>\n",
       "      <th>8</th>\n",
       "      <td>8.0</td>\n",
       "      <td>4.461538</td>\n",
       "    </tr>\n",
       "    <tr>\n",
       "      <th>9</th>\n",
       "      <td>9.0</td>\n",
       "      <td>7.333333</td>\n",
       "    </tr>\n",
       "    <tr>\n",
       "      <th>10</th>\n",
       "      <td>10.0</td>\n",
       "      <td>1.000000</td>\n",
       "    </tr>\n",
       "  </tbody>\n",
       "</table>\n",
       "</div>"
      ],
      "text/plain": [
       "    day_since_first_smoke  total_smoke\n",
       "0                     0.0     3.440000\n",
       "1                     1.0     4.437500\n",
       "2                     2.0     5.230769\n",
       "3                     3.0     5.833333\n",
       "4                     4.0     5.769231\n",
       "5                     5.0     5.928571\n",
       "6                     6.0     7.076923\n",
       "7                     7.0     8.666667\n",
       "8                     8.0     4.461538\n",
       "9                     9.0     7.333333\n",
       "10                   10.0     1.000000"
      ]
     },
     "execution_count": 241,
     "metadata": {},
     "output_type": "execute_result"
    }
   ],
   "source": [
    "'''\n",
    "Here we use all_ema_survival to define the first-event.  Then we compute daily totals\n",
    "for next few days\n",
    "'''\n",
    "\n",
    "day_since_cig = np.array([])\n",
    "sr_subset = sr_random_userdays.iloc[np.where(sr_random_userdays['day'] > 0)]\n",
    "unique_users = np.unique(sr_subset['user'])\n",
    "for id in unique_users:\n",
    "    first_day_smoking_post_quit = all_ema_survival[all_ema_survival[:,0] == id,1]\n",
    "    subset = sr_subset.iloc[np.where(sr_subset['user'] == id)]\n",
    "    temp = subset['day'] - first_day_smoking_post_quit\n",
    "    day_since_cig = np.append(day_since_cig, temp)\n",
    "\n",
    "x = day_since_cig.flatten()\n",
    "sr_subset['day_since_first_smoke'] = x\n",
    "\n",
    "sr_subset.groupby(['day_since_first_smoke'])['total_smoke'].mean().reset_index()\n"
   ]
  }
 ],
 "metadata": {
  "kernelspec": {
   "display_name": "Python 2",
   "language": "python",
   "name": "python2"
  },
  "language_info": {
   "codemirror_mode": {
    "name": "ipython",
    "version": 2
   },
   "file_extension": ".py",
   "mimetype": "text/x-python",
   "name": "python",
   "nbconvert_exporter": "python",
   "pygments_lexer": "ipython2",
   "version": "2.7.17"
  }
 },
 "nbformat": 4,
 "nbformat_minor": 2
}
