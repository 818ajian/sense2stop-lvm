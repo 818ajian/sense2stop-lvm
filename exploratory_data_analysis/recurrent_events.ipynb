{
 "cells": [
  {
   "cell_type": "markdown",
   "metadata": {},
   "source": [
    "## Recurrent event: Exploratory Data Analysis\n",
    "\n",
    "- This notebook dedicated to understanding the recurrent event process\n",
    "- End-of-Day (EOD) EMA: compute first day of EOD\n",
    "- Self-report: compute first day of self-reported smoking since quit date and "
   ]
  },
  {
   "cell_type": "code",
   "execution_count": 70,
   "metadata": {},
   "outputs": [
    {
     "name": "stdout",
     "output_type": "stream",
     "text": [
      "C:\\Users\\wdem\\Documents\\GitHub\\sense2stop-lvm\\final-data\n"
     ]
    },
    {
     "data": {
      "text/plain": [
       "'C:\\\\Users\\\\wdem\\\\Documents\\\\GitHub\\\\sense2stop-lvm\\\\final-data'"
      ]
     },
     "execution_count": 70,
     "metadata": {},
     "output_type": "execute_result"
    }
   ],
   "source": [
    "# Import packages and set directory\n",
    "import pandas as pd\n",
    "import numpy as np\n",
    "import datetime as datetime\n",
    "import os\n",
    "print(os.getcwd())\n",
    "dir = \"../final-data\""
   ]
  },
  {
   "cell_type": "code",
   "execution_count": 41,
   "metadata": {},
   "outputs": [],
   "source": [
    "# Response windows for end-of-day EMA\n",
    "keys = ['8to9', '9to10', '10to11', '11to12',\n",
    "        '12to13','13to14','14to15','15to16',\n",
    "        '16to17','17to18','18to19','19to20']\n"
   ]
  },
  {
   "cell_type": "code",
   "execution_count": 42,
   "metadata": {},
   "outputs": [],
   "source": [
    "# read EOD data and participant entry/exit dates\n",
    "eod_ema = pd.read_csv(os.path.join(os.path.realpath(dir), 'eod-ema-final.csv'))\n",
    "participant_dates = pd.read_csv(os.path.join(os.path.realpath(dir),'participant-dates-v3.csv'))"
   ]
  },
  {
   "cell_type": "code",
   "execution_count": 43,
   "metadata": {},
   "outputs": [
    {
     "data": {
      "text/plain": [
       "array([[201.,  -3.,   2.],\n",
       "       [201.,  -2.,   9.],\n",
       "       [203.,   6.,   0.],\n",
       "       ...,\n",
       "       [269.,   8.,   0.],\n",
       "       [269.,   9.,   0.],\n",
       "       [269.,  10.,   0.]])"
      ]
     },
     "execution_count": 43,
     "metadata": {},
     "output_type": "execute_result"
    }
   ],
   "source": [
    "# Construct user-days and record how many cigarettes\n",
    "# are reported in the EOD EMA\n",
    "eod_dates = []\n",
    "for irow in range(0,eod_ema.shape[0]):\n",
    "    row = eod_ema.iloc[irow]\n",
    "    quit_iloc = np.where(participant_dates['participant'] == row['participant_id'])\n",
    "    quit_row = participant_dates.iloc[quit_iloc[0][0]]\n",
    "    quit_time = datetime.datetime.strptime(quit_row['quit_date'], '%m/%d/%y')\n",
    "    if row['status'] == \"MISSED\":\n",
    "        continue\n",
    "    try:\n",
    "        time = datetime.datetime.strptime(row['date'], '%m/%d/%Y %H:%M')\n",
    "    except:\n",
    "        time = datetime.datetime.strptime(row['date'], '%Y-%m-%d %H:%M:%S')\n",
    "    #print row['participant_id'], time\n",
    "    #print quit_row['participant'], quit_time\n",
    "    temp_diff = time - quit_time\n",
    "    if time.hour  == 0 or time.hour == 1:\n",
    "        date = np.array([row['participant_id'], temp_diff.days-1])\n",
    "        date = np.append(date, np.sum(np.array(row[keys])))\n",
    "    else:\n",
    "        date = np.array([row['participant_id'], temp_diff.days])\n",
    "        date = np.append(date, np.sum(np.array(row[keys])))\n",
    "    #print date\n",
    "    eod_dates.append(date)\n",
    "    \n",
    "eod_dates = np.asarray(eod_dates)\n",
    "eod_dates"
   ]
  },
  {
   "cell_type": "code",
   "execution_count": 44,
   "metadata": {},
   "outputs": [
    {
     "name": "stdout",
     "output_type": "stream",
     "text": [
      "-3 4.444 2.948\n",
      "-2 4.812 3.193\n",
      "-1 4.227 2.867\n",
      "0 1.7 2.015\n",
      "1 1.237 1.286\n",
      "2 1.735 2.429\n",
      "3 1.324 2.529\n",
      "4 1.176 2.022\n",
      "5 1.629 2.294\n",
      "6 1.424 2.118\n",
      "7 1.839 2.554\n",
      "8 1.735 1.975\n",
      "9 1.676 2.665\n",
      "10 2.0 3.215\n"
     ]
    }
   ],
   "source": [
    "## Each day get the mean and standard deviation\n",
    "## in the number of reported cigarettes using end-of-day EMA\n",
    "for day in range(-3, 11):\n",
    "    print(day, np.round(np.nanmean(eod_dates[eod_dates[:,1] == day,2]),3), np.round(np.nanstd(eod_dates[eod_dates[:,1] == day,2]),3))"
   ]
  },
  {
   "cell_type": "code",
   "execution_count": 65,
   "metadata": {},
   "outputs": [
    {
     "name": "stderr",
     "output_type": "stream",
     "text": [
      "C:\\Users\\wdem\\anaconda3\\lib\\site-packages\\ipykernel_launcher.py:6: RuntimeWarning: invalid value encountered in greater\n",
      "  \n"
     ]
    }
   ],
   "source": [
    "eod_survival = []\n",
    "for id in np.unique(eod_dates[:,0]):\n",
    "    subset = eod_dates[eod_dates[:,0] == id,:]\n",
    "    if any(subset[:,1] > 0):\n",
    "        subset = subset[subset[:,1] > 0,:]\n",
    "        nonzero_iloc = np.where(subset[:,2] > 0)[0]\n",
    "        zero_iloc = np.where(subset[:,2] == 0)[0]\n",
    "        if len(nonzero_iloc) == 0:\n",
    "            if len(zero_iloc) != 0:\n",
    "                temp = np.append(subset[np.max(zero_iloc),0:2], 0)\n",
    "        else:\n",
    "            temp = np.append(subset[np.max(nonzero_iloc), 0:2], 1)\n",
    "        eod_survival.append(temp)\n",
    "\n",
    "eod_survival = np.asarray(eod_survival)"
   ]
  },
  {
   "cell_type": "code",
   "execution_count": 71,
   "metadata": {},
   "outputs": [],
   "source": [
    "# Read data for self-report\n",
    "selfreport = pd.read_csv(os.path.join(os.path.realpath(dir), 'self-report-smoking-final.csv'))"
   ]
  },
  {
   "cell_type": "code",
   "execution_count": 72,
   "metadata": {},
   "outputs": [
    {
     "data": {
      "text/plain": [
       "array([-4, -3, -2, -1,  0,  1,  2,  3,  4,  5,  6,  7,  8,  9, 10, 11],\n",
       "      dtype=int64)"
      ]
     },
     "execution_count": 72,
     "metadata": {},
     "output_type": "execute_result"
    }
   ],
   "source": [
    "'''\n",
    "Extract all smoking events and label with correct user-day\n",
    "'''\n",
    "\n",
    "sr_dates = []\n",
    "for irow in range(0,selfreport.shape[0]):\n",
    "    row = selfreport.iloc[irow]\n",
    "    quit_iloc = np.where(participant_dates['participant'] == row['participant_id'])\n",
    "    quit_row = participant_dates.iloc[quit_iloc[0][0]]\n",
    "    quit_time = datetime.datetime.strptime(quit_row['quit_date'], '%m/%d/%y')\n",
    "    try:\n",
    "        time = datetime.datetime.strptime(row['date'], '%m/%d/%y %H:%M')\n",
    "    except:\n",
    "        time = datetime.datetime.strptime(row['date'], '%Y-%m-%d %H:%M:%S')\n",
    "    temp_diff = time - quit_time\n",
    "    if time.hour  == 0 or time.hour == 1:\n",
    "        date = np.array([row['participant_id'], temp_diff.days-1])\n",
    "    else:\n",
    "        date = np.array([row['participant_id'], temp_diff.days])\n",
    "    sr_dates.append(date)\n",
    "    \n",
    "sr_dates = np.asarray(sr_dates)"
   ]
  },
  {
   "cell_type": "code",
   "execution_count": 212,
   "metadata": {},
   "outputs": [
    {
     "data": {
      "text/plain": [
       "day\n",
       "-4     2.500000\n",
       "-3     4.380952\n",
       "-2     7.210526\n",
       "-1     6.056604\n",
       " 0     3.000000\n",
       " 1     2.476190\n",
       " 2     3.578947\n",
       " 3     4.000000\n",
       " 4     5.153846\n",
       " 5     5.307692\n",
       " 6     5.833333\n",
       " 7     5.571429\n",
       " 8     6.076923\n",
       " 9     3.800000\n",
       " 10    5.642857\n",
       " 11    2.000000\n",
       "Name: smoke, dtype: float64"
      ]
     },
     "execution_count": 212,
     "metadata": {},
     "output_type": "execute_result"
    }
   ],
   "source": [
    "'''\n",
    "Aggregate smoking events for each user-day\n",
    "'''\n",
    "\n",
    "sr_pd = pd.DataFrame(sr_dates)\n",
    "sr_pd.columns = ['user', 'day']\n",
    "sr_userdays = sr_pd.groupby(['user','day']).size().reset_index()\n",
    "sr_userdays.columns = ['user', 'day', 'smoke']\n",
    "\n",
    "sr_userdays.groupby('day')['smoke'].mean()"
   ]
  },
  {
   "cell_type": "code",
   "execution_count": 213,
   "metadata": {},
   "outputs": [],
   "source": [
    "'''\n",
    "For each user, find the first user-day on which \n",
    "they self-reported smoking\n",
    "''' \n",
    "\n",
    "sr_survival = []\n",
    "for id in np.unique(sr_dates[:,0]):\n",
    "    subset = sr_dates[sr_dates[:,0] == id,:]\n",
    "    if any(subset[:,1] > 0):\n",
    "        subset = subset[subset[:,1] > 0,:]\n",
    "        temp = [id, np.max(subset[:,1])]\n",
    "        sr_survival.append(temp)\n",
    "\n",
    "sr_survival = np.asarray(sr_survival)"
   ]
  },
  {
   "cell_type": "code",
   "execution_count": 78,
   "metadata": {},
   "outputs": [],
   "source": [
    "# Read data for random EMA\n",
    "random_ema = pd.read_csv(os.path.join(os.path.realpath(dir),'random-ema-final.csv'))"
   ]
  },
  {
   "cell_type": "code",
   "execution_count": 86,
   "metadata": {},
   "outputs": [
    {
     "data": {
      "text/plain": [
       "array([[201,  -3,   0],\n",
       "       [201,  -3,   0],\n",
       "       [201,  -2,   0],\n",
       "       ...,\n",
       "       [269,  10,   0],\n",
       "       [269,  10,   0],\n",
       "       [270,  -3,   0]], dtype=int64)"
      ]
     },
     "execution_count": 86,
     "metadata": {},
     "output_type": "execute_result"
    }
   ],
   "source": [
    "'''\n",
    "Extract all smoking events from random EMA and label with correct user-day\n",
    "'''\n",
    "\n",
    "random_dates = []\n",
    "for irow in range(0,random_ema.shape[0]):\n",
    "    row = random_ema.iloc[irow]\n",
    "    quit_iloc = np.where(participant_dates['participant'] == row['participant_id'])\n",
    "    quit_row = participant_dates.iloc[quit_iloc[0][0]]\n",
    "    quit_time = datetime.datetime.strptime(quit_row['quit_date'], '%m/%d/%y')\n",
    "    if row['status'] == \"MISSED\":\n",
    "        continue\n",
    "    try:\n",
    "        time = datetime.datetime.strptime(row['date'], '%m/%d/%y %H:%M')\n",
    "    except:\n",
    "        time = datetime.datetime.strptime(row['date'], '%Y-%m-%d %H:%M:%S')\n",
    "    #print row['participant_id'], time\n",
    "    #print quit_row['participant'], quit_time\n",
    "    temp_diff = time - quit_time\n",
    "    if time.hour  == 0 or time.hour == 1:\n",
    "        date = np.array([row['participant_id'], temp_diff.days-1])\n",
    "        if row['smoke'] == 'Yes':\n",
    "            date = np.append(date, [1])\n",
    "            random_dates.append(date)\n",
    "        if row['smoke'] == 'No':\n",
    "            date = np.append(date, [0])\n",
    "            random_dates.append(date)\n",
    "    else:\n",
    "        date = np.array([row['participant_id'], temp_diff.days])\n",
    "        if row['smoke'] == 'Yes':\n",
    "            date = np.append(date, 1)\n",
    "            random_dates.append(date)\n",
    "        if row['smoke'] == 'No':\n",
    "            date = np.append(date, 0)\n",
    "            random_dates.append(date)\n",
    "\n",
    "random_dates = np.asarray(random_dates)"
   ]
  },
  {
   "cell_type": "code",
   "execution_count": 87,
   "metadata": {},
   "outputs": [],
   "source": [
    "'''\n",
    "Aggregate smoking events for each user-day\n",
    "within the random EMA\n",
    "'''\n",
    "\n",
    "random_pd = pd.DataFrame(random_dates)\n",
    "random_pd.columns = ['user', 'day', 'smoke']\n",
    "random_pd_userdays = random_pd.groupby(['user','day'])['smoke'].sum().reset_index()"
   ]
  },
  {
   "cell_type": "code",
   "execution_count": 90,
   "metadata": {},
   "outputs": [],
   "source": [
    "random_survival = []\n",
    "for id in np.unique(random_dates[:,0]):\n",
    "    subset = random_dates[random_dates[:,0] == id,:]\n",
    "    if any(subset[:,1] > 0):\n",
    "        subset = subset[subset[:,1] > 0,:]\n",
    "        nonzero_iloc = np.where(subset[:,2] == 1)[0]\n",
    "        zero_iloc = np.where(subset[:,2] == 0)[0]\n",
    "        if len(nonzero_iloc) == 0:\n",
    "            if len(zero_iloc) != 0:\n",
    "                temp = np.append(subset[np.max(zero_iloc),0:2], 0)\n",
    "        else:\n",
    "            temp = np.append(subset[np.max(nonzero_iloc), 0:2], 1)\n",
    "        random_survival.append(temp)\n",
    "\n",
    "random_survival = np.asarray(random_survival)"
   ]
  },
  {
   "cell_type": "code",
   "execution_count": 187,
   "metadata": {},
   "outputs": [
    {
     "data": {
      "text/plain": [
       "Index(['timestamp', 'event', 'participant_id', 'date', 'hour', 'minute',\n",
       "       'day_of_week'],\n",
       "      dtype='object')"
      ]
     },
     "execution_count": 187,
     "metadata": {},
     "output_type": "execute_result"
    }
   ],
   "source": [
    "# Read data for puffMarker\n",
    "puffMarker = pd.read_csv(os.path.join(os.path.realpath(dir),'puff-episode-final.csv'))\n",
    "\n",
    "puffMarker.columns"
   ]
  },
  {
   "cell_type": "code",
   "execution_count": 190,
   "metadata": {},
   "outputs": [
    {
     "data": {
      "text/plain": [
       "array([[201,  -2,   1],\n",
       "       [202,  -2,   1],\n",
       "       [202,  -1,   1],\n",
       "       ...,\n",
       "       [270,  -3,   1],\n",
       "       [270,  -3,   1],\n",
       "       [270,  -3,   1]], dtype=int64)"
      ]
     },
     "execution_count": 190,
     "metadata": {},
     "output_type": "execute_result"
    }
   ],
   "source": [
    "'''\n",
    "Extract all smoking events from puffMarker and label with correct user-day\n",
    "'''\n",
    "\n",
    "pM_dates = []\n",
    "for irow in range(0,puffMarker.shape[0]):\n",
    "    row = puffMarker.iloc[irow]\n",
    "    quit_iloc = np.where(participant_dates['participant'] == row['participant_id'])\n",
    "    quit_row = participant_dates.iloc[quit_iloc[0][0]]\n",
    "    quit_time = datetime.datetime.strptime(quit_row['quit_date'], '%m/%d/%y')\n",
    "    try:\n",
    "        time = datetime.datetime.strptime(row['date'], '%m/%d/%y %H:%M')\n",
    "    except:\n",
    "        time = datetime.datetime.strptime(row['date'], '%Y-%m-%d %H:%M:%S')\n",
    "    #print row['participant_id'], time\n",
    "    #print quit_row['participant'], quit_time\n",
    "    temp_diff = time - quit_time\n",
    "    if time.hour  == 0 or time.hour == 1:\n",
    "        date = np.array([row['participant_id'], temp_diff.days-1])\n",
    "        date = np.append(date, [1])\n",
    "        pM_dates.append(date)\n",
    "    else:\n",
    "        date = np.array([row['participant_id'], temp_diff.days])\n",
    "        date = np.append(date, 1)\n",
    "        pM_dates.append(date)\n",
    "        \n",
    "pM_dates = np.asarray(pM_dates)"
   ]
  },
  {
   "cell_type": "code",
   "execution_count": 193,
   "metadata": {},
   "outputs": [],
   "source": [
    "'''\n",
    "Aggregate smoking events for each user-day\n",
    "within the puffMarker\n",
    "'''\n",
    "\n",
    "pM_pd = pd.DataFrame(pM_dates)\n",
    "pM_pd.columns = ['user', 'day', 'smoke']\n",
    "pM_pd_userdays = pM_pd.groupby(['user','day'])['smoke'].sum().reset_index()"
   ]
  },
  {
   "cell_type": "code",
   "execution_count": 195,
   "metadata": {},
   "outputs": [
    {
     "data": {
      "text/plain": [
       "array([[202,   9,   1],\n",
       "       [203,   6,   1],\n",
       "       [205,   9,   1],\n",
       "       [206,   7,   1],\n",
       "       [207,   8,   1],\n",
       "       [208,   6,   1],\n",
       "       [211,  10,   1],\n",
       "       [214,   5,   1],\n",
       "       [215,   9,   1],\n",
       "       [216,   7,   1],\n",
       "       [217,   6,   1],\n",
       "       [218,   9,   1],\n",
       "       [219,   9,   1],\n",
       "       [222,   1,   1],\n",
       "       [223,   5,   1],\n",
       "       [225,   6,   1],\n",
       "       [226,   9,   1],\n",
       "       [227,   5,   1],\n",
       "       [228,  11,   1],\n",
       "       [230,  11,   1],\n",
       "       [235,   1,   1],\n",
       "       [238,   4,   1],\n",
       "       [240,   9,   1],\n",
       "       [242,   8,   1],\n",
       "       [244,  10,   1],\n",
       "       [249,   6,   1],\n",
       "       [250,   8,   1],\n",
       "       [251,   7,   1],\n",
       "       [252,   9,   1],\n",
       "       [253,  11,   1],\n",
       "       [256,   4,   1],\n",
       "       [258,   2,   1],\n",
       "       [260,  10,   1],\n",
       "       [261,   9,   1],\n",
       "       [262,   9,   1],\n",
       "       [264,  10,   1],\n",
       "       [265,   8,   1],\n",
       "       [266,   4,   1],\n",
       "       [267,   4,   1],\n",
       "       [269,  11,   1]], dtype=int64)"
      ]
     },
     "execution_count": 195,
     "metadata": {},
     "output_type": "execute_result"
    }
   ],
   "source": [
    "pM_survival = []\n",
    "for id in np.unique(pM_dates[:,0]):\n",
    "    subset = pM_dates[pM_dates[:,0] == id,:]\n",
    "    if any(subset[:,1] > 0):\n",
    "        subset = subset[subset[:,1] > 0,:]\n",
    "        nonzero_iloc = np.where(subset[:,2] == 1)[0]\n",
    "        zero_iloc = np.where(subset[:,2] == 0)[0]\n",
    "        if len(nonzero_iloc) == 0:\n",
    "            if len(zero_iloc) != 0:\n",
    "                temp = np.append(subset[np.max(zero_iloc),0:2], 0)\n",
    "        else:\n",
    "            temp = np.append(subset[np.max(nonzero_iloc), 0:2], 1)\n",
    "        pM_survival.append(temp)\n",
    "\n",
    "pM_survival = np.asarray(pM_survival)"
   ]
  },
  {
   "cell_type": "code",
   "execution_count": 176,
   "metadata": {},
   "outputs": [],
   "source": [
    "all_ema_survival = np.array([])\n",
    "sr_random_survival = np.array([])\n",
    "\n",
    "for id in np.unique(np.concatenate([random_survival[:,0], sr_survival[:,0], eod_survival[:,0]])):\n",
    "    temp = np.array([id])\n",
    "    random_subset = random_survival[random_survival[:,0] == id,:]\n",
    "    if not len(random_subset) == 0:\n",
    "        temp = np.append(temp, random_subset[0][1:3])\n",
    "    else:\n",
    "        temp = np.append(temp, [-1,-1]) \n",
    "    sr_subset = sr_survival[sr_survival[:,0] == id,:]\n",
    "    if not len(sr_subset) == 0:\n",
    "        sr_day = sr_subset[0][1]\n",
    "        if temp[1] > sr_day or temp[1] == -1:\n",
    "            temp[1:3] = [sr_day,1]\n",
    "    temp2 = temp\n",
    "    sr_random_survival = np.append(sr_random_survival, temp2)\n",
    "    eod_subset = eod_survival[eod_survival[:,0] == id, :]\n",
    "    if not len(eod_subset) == 0:\n",
    "        if eod_subset[0][1] < temp[1] and eod_subset[0][2] == 1:\n",
    "            temp[1:3] = eod_subset[0][1:3]\n",
    "        elif eod_subset[0][1] > temp[1] and eod_subset[0][2] == 0 and temp[2] == 0:\n",
    "            temp[1:3] = eod_subset[0][1:3]\n",
    "    all_ema_survival = np.append(all_ema_survival, temp)\n",
    "\n",
    "sr_random_survival = np.reshape(sr_random_survival, (-1,3))\n",
    "all_ema_survival = np.reshape(all_ema_survival, (-1,3))"
   ]
  },
  {
   "cell_type": "code",
   "execution_count": 177,
   "metadata": {},
   "outputs": [],
   "source": [
    "def km_estimation(day_range, survival_data):\n",
    "    km_list = [1]\n",
    "    var_list = [0]\n",
    "    for day in day_range:\n",
    "        n_day = np.sum(survival_data[:,1] >= day, dtype='f')\n",
    "        subset = survival_data[survival_data[:,1] == day,:]\n",
    "        subset = subset[subset[:,2] == 1]\n",
    "        d_day = subset.shape[0]\n",
    "        km_list.append(1-d_day/n_day)\n",
    "        var_list.append(d_day/(n_day * (n_day - d_day)))\n",
    "\n",
    "    km_est = np.cumprod(km_list)\n",
    "\n",
    "    var_est = np.multiply(np.power(km_est,2),np.cumsum(var_list))\n",
    "\n",
    "    km_stderr = np.sqrt(var_est)\n",
    "\n",
    "    upper_km_est = km_est + 1.96*km_stderr\n",
    "    lower_km_est = km_est - 1.96*km_stderr\n",
    "    return(lower_km_est, km_est, upper_km_est)"
   ]
  },
  {
   "cell_type": "code",
   "execution_count": 196,
   "metadata": {},
   "outputs": [],
   "source": [
    "'''\n",
    "Fit Kaplan-Meier curves for (1) All EMA, (2) Only EOD, (3) Only SR and Random, and (4) Only puffMarker\n",
    "'''\n",
    "\n",
    "lower_km_est, km_est, upper_km_est = km_estimation(day_range, all_ema_survival)\n",
    "\n",
    "eod_lower_km_est, eod_km_est, eod_upper_km_est = km_estimation(day_range, eod_survival)\n",
    "\n",
    "sr_random_lower_km_est, sr_random_km_est, sr_random_upper_km_est = km_estimation(day_range, sr_random_survival)\n",
    "\n",
    "pM_lower_km_est, pM_km_est, pM_upper_km_est = km_estimation(day_range, pM_survival)"
   ]
  },
  {
   "cell_type": "code",
   "execution_count": 198,
   "metadata": {},
   "outputs": [
    {
     "data": {
      "image/png": "[encoded data removed]",
      "text/plain": [
       "<Figure size 432x288 with 1 Axes>"
      ]
     },
     "metadata": {
      "needs_background": "light"
     },
     "output_type": "display_data"
    }
   ],
   "source": [
    "import matplotlib.pyplot as plt\n",
    "plt.plot(km_est)\n",
    "# plt.plot(eod_km_est)\n",
    "# plt.plot(sr_random_km_est)\n",
    "plt.plot(pM_km_est)\n",
    "plt.plot(upper_km_est,linestyle='dashed')\n",
    "plt.plot(lower_km_est,linestyle='dashed')\n",
    "plt.ylabel('Survival (time until first smoking event)')\n",
    "plt.show()"
   ]
  },
  {
   "cell_type": "code",
   "execution_count": 217,
   "metadata": {},
   "outputs": [
    {
     "data": {
      "text/plain": [
       "day\n",
       "-4     3.500000\n",
       "-3     4.982456\n",
       "-2     8.125000\n",
       "-1     6.884615\n",
       " 0     3.812500\n",
       " 1     3.421053\n",
       " 2     4.333333\n",
       " 3     5.153846\n",
       " 4     6.100000\n",
       " 5     5.923077\n",
       " 6     7.000000\n",
       " 7     6.428571\n",
       " 8     7.000000\n",
       " 9     4.357143\n",
       " 10    6.916667\n",
       " 11    2.000000\n",
       "Name: total_smoke, dtype: float64"
      ]
     },
     "execution_count": 217,
     "metadata": {},
     "output_type": "execute_result"
    }
   ],
   "source": [
    "'''\n",
    "Combine self-report and random to get a user-day total count\n",
    "'''\n",
    "sr_random_userdays = pd.merge(random_pd_userdays, sr_userdays, on=['user', 'day'])\n",
    "sr_random_userdays['total_smoke'] = sr_random_userdays['smoke_x'] + sr_random_userdays['smoke_y']\n",
    "sr_random_userdays.groupby('day')['total_smoke'].mean()"
   ]
  },
  {
   "cell_type": "code",
   "execution_count": 1,
   "metadata": {},
   "outputs": [
    {
     "ename": "NameError",
     "evalue": "name 'np' is not defined",
     "output_type": "error",
     "traceback": [
      "\u001b[1;31m---------------------------------------------------------------------------\u001b[0m",
      "\u001b[1;31mNameError\u001b[0m                                 Traceback (most recent call last)",
      "\u001b[1;32m<ipython-input-1-36ad74d26a3c>\u001b[0m in \u001b[0;36m<module>\u001b[1;34m\u001b[0m\n\u001b[0;32m      4\u001b[0m '''\n\u001b[0;32m      5\u001b[0m \u001b[1;33m\u001b[0m\u001b[0m\n\u001b[1;32m----> 6\u001b[1;33m \u001b[1;32mfor\u001b[0m \u001b[0mid\u001b[0m \u001b[1;32min\u001b[0m \u001b[0mnp\u001b[0m\u001b[1;33m.\u001b[0m\u001b[0munique\u001b[0m\u001b[1;33m(\u001b[0m\u001b[0msr_random_userdays\u001b[0m\u001b[1;33m[\u001b[0m\u001b[1;34m'user'\u001b[0m\u001b[1;33m]\u001b[0m\u001b[1;33m)\u001b[0m\u001b[1;33m:\u001b[0m\u001b[1;33m\u001b[0m\u001b[1;33m\u001b[0m\u001b[0m\n\u001b[0m\u001b[0;32m      7\u001b[0m     \u001b[0mprint\u001b[0m\u001b[1;33m(\u001b[0m\u001b[0mid\u001b[0m\u001b[1;33m)\u001b[0m\u001b[1;33m\u001b[0m\u001b[1;33m\u001b[0m\u001b[0m\n\u001b[0;32m      8\u001b[0m \u001b[1;33m\u001b[0m\u001b[0m\n",
      "\u001b[1;31mNameError\u001b[0m: name 'np' is not defined"
     ]
    }
   ],
   "source": [
    "'''\n",
    "Here we use all_ema_survival to define the first-event.  Then we compute daily totals\n",
    "for next few days\n",
    "'''\n",
    "\n",
    "for id in np.unique(sr_random_userdays['user']):\n",
    "    print(id)\n",
    "\n",
    "\n",
    "all_ema_survival"
   ]
  }
 ],
 "metadata": {
  "kernelspec": {
   "display_name": "Python 3",
   "language": "python",
   "name": "python3"
  }
 },
 "nbformat": 4,
 "nbformat_minor": 2
}
