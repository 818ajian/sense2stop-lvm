{
 "cells": [
  {
   "cell_type": "markdown",
   "metadata": {},
   "source": [
    "## Recurrent event: Exploratory Data Analysis\n",
    "\n",
    "- This notebook dedicated to understanding the recurrent event process\n",
    "- End-of-Day (EOD) EMA: compute first day of EOD\n",
    "- Self-report: compute first day of self-reported smoking since quit date and "
   ]
  },
  {
   "cell_type": "code",
   "execution_count": 70,
   "metadata": {},
   "outputs": [
    {
     "name": "stdout",
     "output_type": "stream",
     "text": [
      "C:\\Users\\wdem\\Documents\\GitHub\\sense2stop-lvm\\final-data\n"
     ]
    },
    {
     "data": {
      "text/plain": [
       "'C:\\\\Users\\\\wdem\\\\Documents\\\\GitHub\\\\sense2stop-lvm\\\\final-data'"
      ]
     },
     "execution_count": 70,
     "metadata": {},
     "output_type": "execute_result"
    }
   ],
   "source": [
    "# Import packages and set directory\n",
    "import pandas as pd\n",
    "import numpy as np\n",
    "import datetime as datetime\n",
    "import os\n",
    "print(os.getcwd())\n",
    "dir = \"../final-data\""
   ]
  },
  {
   "cell_type": "code",
   "execution_count": 41,
   "metadata": {},
   "outputs": [],
   "source": [
    "# Response windows for end-of-day EMA\n",
    "keys = ['8to9', '9to10', '10to11', '11to12',\n",
    "        '12to13','13to14','14to15','15to16',\n",
    "        '16to17','17to18','18to19','19to20']\n"
   ]
  },
  {
   "cell_type": "code",
   "execution_count": 42,
   "metadata": {},
   "outputs": [],
   "source": [
    "# read EOD data and participant entry/exit dates\n",
    "eod_ema = pd.read_csv(os.path.join(os.path.realpath(dir), 'eod-ema-final.csv'))\n",
    "participant_dates = pd.read_csv(os.path.join(os.path.realpath(dir),'participant-dates-v3.csv'))"
   ]
  },
  {
   "cell_type": "code",
   "execution_count": 43,
   "metadata": {},
   "outputs": [
    {
     "data": {
      "text/plain": [
       "array([[201.,  -3.,   2.],\n",
       "       [201.,  -2.,   9.],\n",
       "       [203.,   6.,   0.],\n",
       "       ...,\n",
       "       [269.,   8.,   0.],\n",
       "       [269.,   9.,   0.],\n",
       "       [269.,  10.,   0.]])"
      ]
     },
     "execution_count": 43,
     "metadata": {},
     "output_type": "execute_result"
    }
   ],
   "source": [
    "# Construct user-days and record how many cigarettes\n",
    "# are reported in the EOD EMA\n",
    "eod_dates = []\n",
    "for irow in range(0,eod_ema.shape[0]):\n",
    "    row = eod_ema.iloc[irow]\n",
    "    quit_iloc = np.where(participant_dates['participant'] == row['participant_id'])\n",
    "    quit_row = participant_dates.iloc[quit_iloc[0][0]]\n",
    "    quit_time = datetime.datetime.strptime(quit_row['quit_date'], '%m/%d/%y')\n",
    "    if row['status'] == \"MISSED\":\n",
    "        continue\n",
    "    try:\n",
    "        time = datetime.datetime.strptime(row['date'], '%m/%d/%Y %H:%M')\n",
    "    except:\n",
    "        time = datetime.datetime.strptime(row['date'], '%Y-%m-%d %H:%M:%S')\n",
    "    #print row['participant_id'], time\n",
    "    #print quit_row['participant'], quit_time\n",
    "    temp_diff = time - quit_time\n",
    "    if time.hour  == 0 or time.hour == 1:\n",
    "        date = np.array([row['participant_id'], temp_diff.days-1])\n",
    "        date = np.append(date, np.sum(np.array(row[keys])))\n",
    "    else:\n",
    "        date = np.array([row['participant_id'], temp_diff.days])\n",
    "        date = np.append(date, np.sum(np.array(row[keys])))\n",
    "    #print date\n",
    "    eod_dates.append(date)\n",
    "    \n",
    "eod_dates = np.asarray(eod_dates)\n",
    "eod_dates"
   ]
  },
  {
   "cell_type": "code",
   "execution_count": 44,
   "metadata": {},
   "outputs": [
    {
     "name": "stdout",
     "output_type": "stream",
     "text": [
      "-3 4.444 2.948\n",
      "-2 4.812 3.193\n",
      "-1 4.227 2.867\n",
      "0 1.7 2.015\n",
      "1 1.237 1.286\n",
      "2 1.735 2.429\n",
      "3 1.324 2.529\n",
      "4 1.176 2.022\n",
      "5 1.629 2.294\n",
      "6 1.424 2.118\n",
      "7 1.839 2.554\n",
      "8 1.735 1.975\n",
      "9 1.676 2.665\n",
      "10 2.0 3.215\n"
     ]
    }
   ],
   "source": [
    "## Each day get the mean and standard deviation\n",
    "## in the number of reported cigarettes using end-of-day EMA\n",
    "for day in range(-3, 11):\n",
    "    print(day, np.round(np.nanmean(eod_dates[eod_dates[:,1] == day,2]),3), np.round(np.nanstd(eod_dates[eod_dates[:,1] == day,2]),3))"
   ]
  },
  {
   "cell_type": "code",
   "execution_count": 65,
   "metadata": {},
   "outputs": [
    {
     "name": "stderr",
     "output_type": "stream",
     "text": [
      "C:\\Users\\wdem\\anaconda3\\lib\\site-packages\\ipykernel_launcher.py:6: RuntimeWarning: invalid value encountered in greater\n",
      "  \n"
     ]
    }
   ],
   "source": [
    "eod_survival = []\n",
    "for id in np.unique(eod_dates[:,0]):\n",
    "    subset = eod_dates[eod_dates[:,0] == id,:]\n",
    "    if any(subset[:,1] > 0):\n",
    "        subset = subset[subset[:,1] > 0,:]\n",
    "        nonzero_iloc = np.where(subset[:,2] > 0)[0]\n",
    "        zero_iloc = np.where(subset[:,2] == 0)[0]\n",
    "        if len(nonzero_iloc) == 0:\n",
    "            if len(zero_iloc) != 0:\n",
    "                temp = np.append(subset[np.max(zero_iloc),0:2], 0)\n",
    "        else:\n",
    "            temp = np.append(subset[np.max(nonzero_iloc), 0:2], 1)\n",
    "        eod_survival.append(temp)\n",
    "\n",
    "eod_survival = np.asarray(eod_survival)"
   ]
  },
  {
   "cell_type": "code",
   "execution_count": 71,
   "metadata": {},
   "outputs": [],
   "source": [
    "# Read data for self-report\n",
    "selfreport = pd.read_csv(os.path.join(os.path.realpath(dir), 'self-report-smoking-final.csv'))"
   ]
  },
  {
   "cell_type": "code",
   "execution_count": 72,
   "metadata": {},
   "outputs": [
    {
     "data": {
      "text/plain": [
       "array([-4, -3, -2, -1,  0,  1,  2,  3,  4,  5,  6,  7,  8,  9, 10, 11],\n",
       "      dtype=int64)"
      ]
     },
     "execution_count": 72,
     "metadata": {},
     "output_type": "execute_result"
    }
   ],
   "source": [
    "'''\n",
    "Extract all smoking events and label with correct user-day\n",
    "'''\n",
    "\n",
    "sr_dates = []\n",
    "for irow in range(0,selfreport.shape[0]):\n",
    "    row = selfreport.iloc[irow]\n",
    "    quit_iloc = np.where(participant_dates['participant'] == row['participant_id'])\n",
    "    quit_row = participant_dates.iloc[quit_iloc[0][0]]\n",
    "    quit_time = datetime.datetime.strptime(quit_row['quit_date'], '%m/%d/%y')\n",
    "    try:\n",
    "        time = datetime.datetime.strptime(row['date'], '%m/%d/%y %H:%M')\n",
    "    except:\n",
    "        time = datetime.datetime.strptime(row['date'], '%Y-%m-%d %H:%M:%S')\n",
    "    temp_diff = time - quit_time\n",
    "    if time.hour  == 0 or time.hour == 1:\n",
    "        date = np.array([row['participant_id'], temp_diff.days-1])\n",
    "    else:\n",
    "        date = np.array([row['participant_id'], temp_diff.days])\n",
    "    sr_dates.append(date)\n",
    "    \n",
    "sr_dates = np.asarray(sr_dates)"
   ]
  },
  {
   "cell_type": "code",
   "execution_count": 73,
   "metadata": {},
   "outputs": [
    {
     "data": {
      "text/plain": [
       "day\n",
       "-4     2.500000\n",
       "-3     4.380952\n",
       "-2     7.210526\n",
       "-1     6.056604\n",
       " 0     3.000000\n",
       " 1     2.476190\n",
       " 2     3.578947\n",
       " 3     4.000000\n",
       " 4     5.153846\n",
       " 5     5.307692\n",
       " 6     5.833333\n",
       " 7     5.571429\n",
       " 8     6.076923\n",
       " 9     3.800000\n",
       " 10    5.642857\n",
       " 11    2.000000\n",
       "dtype: float64"
      ]
     },
     "execution_count": 73,
     "metadata": {},
     "output_type": "execute_result"
    }
   ],
   "source": [
    "'''\n",
    "Aggregate smoking events for each user-day\n",
    "'''\n",
    "\n",
    "sr_pd = pd.DataFrame(sr_dates)\n",
    "sr_pd.columns = ['user', 'day']\n",
    "sr_userdays = sr_pd.groupby(['user','day']).size()\n",
    "\n",
    "sr_userdays.groupby('day').mean()"
   ]
  },
  {
   "cell_type": "code",
   "execution_count": 96,
   "metadata": {},
   "outputs": [],
   "source": [
    "'''\n",
    "For each user, find the first user-day on which \n",
    "they self-reported smoking\n",
    "''' \n",
    "\n",
    "sr_survival = []\n",
    "for id in set(sr_dates[:,0]):\n",
    "    subset = sr_dates[sr_dates[:,0] == id,:]\n",
    "    if any(subset[:,1] > 0):\n",
    "        subset = subset[subset[:,1] > 0,:]\n",
    "        temp = [id, np.max(subset[:,1])]\n",
    "        sr_survival.append(temp)\n",
    "\n",
    "sr_survival = np.asarray(sr_survival)"
   ]
  },
  {
   "cell_type": "code",
   "execution_count": 99,
   "metadata": {},
   "outputs": [],
   "source": [
    "# Read data for random EMA\n",
    "random_ema = pd.read_csv(dir + 'final/random-ema-final.csv')"
   ]
  },
  {
   "cell_type": "code",
   "execution_count": 111,
   "metadata": {},
   "outputs": [],
   "source": [
    "'''\n",
    "Extract all smoking events from random EMA and label with correct user-day\n",
    "'''\n",
    "\n",
    "random_dates = []\n",
    "for irow in range(0,random_ema.shape[0]):\n",
    "    row = random_ema.iloc[irow]\n",
    "    quit_iloc = np.where(participant_dates['participant'] == row['participant_id'])\n",
    "    quit_row = participant_dates.iloc[quit_iloc[0][0]]\n",
    "    quit_time = datetime.datetime.strptime(quit_row['quit_date'], '%m/%d/%y')\n",
    "    if row['status'] == \"MISSED\":\n",
    "        continue\n",
    "    try:\n",
    "        time = datetime.datetime.strptime(row['date'], '%m/%d/%y %H:%M')\n",
    "    except:\n",
    "        time = datetime.datetime.strptime(row['date'], '%Y-%m-%d %H:%M:%S')\n",
    "    #print row['participant_id'], time\n",
    "    #print quit_row['participant'], quit_time\n",
    "    temp_diff = time - quit_time\n",
    "    if time.hour  == 0 or time.hour == 1:\n",
    "        date = np.array([row['participant_id'], temp_diff.days-1])\n",
    "        if row['smoke'] == 'Yes':\n",
    "            date = np.append(date, [1])\n",
    "            random_dates.append(date)\n",
    "        if row['smoke'] == 'No':\n",
    "            date = np.append(date, [0])\n",
    "            random_dates.append(date)\n",
    "    else:\n",
    "        date = np.array([row['participant_id'], temp_diff.days])\n",
    "        if row['smoke'] == 'Yes':\n",
    "            date = np.append(date, 1)\n",
    "            random_dates.append(date)\n",
    "        if row['smoke'] == 'No':\n",
    "            date = np.append(date, 0)\n",
    "            random_dates.append(date)\n",
    "\n",
    "random_dates = np.asarray(random_dates)"
   ]
  },
  {
   "cell_type": "code",
   "execution_count": 112,
   "metadata": {},
   "outputs": [],
   "source": [
    "'''\n",
    "Aggregate smoking events for each user-day\n",
    "within the random EMA\n",
    "'''\n",
    "\n",
    "random_pd = pd.DataFrame(random_dates)\n",
    "random_pd.columns = ['user', 'day', 'smoke']\n",
    "random_pd_userdays = random_pd.groupby(['user','day'])['smoke'].sum().reset_index()"
   ]
  },
  {
   "cell_type": "code",
   "execution_count": 113,
   "metadata": {},
   "outputs": [
    {
     "data": {
      "text/plain": [
       "array([[256,  10,   0],\n",
       "       [258,  10,   1],\n",
       "       [259,   3,   1],\n",
       "       [260,   5,   1],\n",
       "       [261,   9,   1],\n",
       "       [262,   1,   1],\n",
       "       [263,  10,   0],\n",
       "       [264,  11,   0],\n",
       "       [265,   6,   1],\n",
       "       [267,   7,   1],\n",
       "       [269,   3,   1],\n",
       "       [202,   7,   1],\n",
       "       [203,  13,   0],\n",
       "       [205,   8,   1],\n",
       "       [206,   9,   0],\n",
       "       [207,   8,   0],\n",
       "       [208,   3,   1],\n",
       "       [211,  11,   1],\n",
       "       [212,   6,   1],\n",
       "       [213,   1,   0],\n",
       "       [214,   4,   1],\n",
       "       [215,  11,   0],\n",
       "       [216,  10,   1],\n",
       "       [217,   8,   1],\n",
       "       [218,   1,   1],\n",
       "       [219,  10,   1],\n",
       "       [222,   1,   1],\n",
       "       [223,  11,   0],\n",
       "       [224,   9,   1],\n",
       "       [225,  10,   1],\n",
       "       [226,   8,   1],\n",
       "       [227,  10,   1],\n",
       "       [228,   8,   1],\n",
       "       [229,   3,   1],\n",
       "       [230,  11,   0],\n",
       "       [231,   2,   1],\n",
       "       [233,   8,   1],\n",
       "       [234,   1,   0],\n",
       "       [235,   4,   0],\n",
       "       [238,  10,   1],\n",
       "       [240,  10,   1],\n",
       "       [241,   1,   1],\n",
       "       [242,  10,   0],\n",
       "       [243,   5,   0],\n",
       "       [244,  11,   0],\n",
       "       [245,   4,   1],\n",
       "       [247,   9,   1],\n",
       "       [248,  10,   0],\n",
       "       [249,  11,   0],\n",
       "       [250,  10,   0],\n",
       "       [251,  11,   0],\n",
       "       [252,   9,   1],\n",
       "       [253,  11,   1],\n",
       "       [254,   4,   1],\n",
       "       [255,  10,   1]])"
      ]
     },
     "execution_count": 113,
     "metadata": {},
     "output_type": "execute_result"
    }
   ],
   "source": [
    "random_survival = []\n",
    "for id in set(random_dates[:,0]):\n",
    "    subset = random_dates[random_dates[:,0] == id,:]\n",
    "    if any(subset[:,1] > 0):\n",
    "        subset = subset[subset[:,1] > 0,:]\n",
    "        nonzero_iloc = np.where(subset[:,2] == 1)[0]\n",
    "        zero_iloc = np.where(subset[:,2] == 0)[0]\n",
    "        if len(nonzero_iloc) == 0:\n",
    "            if len(zero_iloc) != 0:\n",
    "                temp = np.append(subset[np.max(zero_iloc),0:2], 0)\n",
    "        else:\n",
    "            temp = np.append(subset[np.max(nonzero_iloc), 0:2], 1)\n",
    "        random_survival.append(temp)\n",
    "\n",
    "random_survival = np.asarray(random_survival)"
   ]
  },
  {
   "cell_type": "code",
   "execution_count": 300,
   "metadata": {},
   "outputs": [],
   "source": [
    "all_ema_survival = []\n",
    "\n",
    "for id in set(random_survival[:,0]) | set(ec_survival[:,0]) | set(eod_survival[:,0]):\n",
    "    temp = np.array([id])\n",
    "    random_subset = random_survival[random_survival[:,0] == id,:]\n",
    "    if not len(random_subset) == 0:\n",
    "        temp = np.append(temp, random_subset[0][1:3])\n",
    "    else:\n",
    "        temp = np.append(temp, [-1,-1])\n",
    "    ec_subset = ec_survival[ec_survival[:,0] == id,:]\n",
    "    if not len(ec_subset) == 0:\n",
    "        ec_day = ec_subset[0][1]\n",
    "        if temp[1] > ec_day or temp[1] == -1:\n",
    "            temp[1:3] = [ec_day,1]\n",
    "    eod_subset = eod_survival[eod_survival[:,0] == id, :]\n",
    "    if not len(eod_subset) == 0:\n",
    "        if eod_subset[0][1] < temp[1] and eod_subset[0][2] == 1:\n",
    "            temp[1:3] = eod_subset[0][1:3]\n",
    "        elif eod_subset[0][1] > temp[1] and eod_subset[0][2] == 0 and temp[2] == 0:\n",
    "            temp[1:3] = eod_subset[0][1:3]\n",
    "    all_ema_survival.append(temp)\n",
    "    \n",
    "all_ema_survival = np.asarray(all_ema_survival)"
   ]
  },
  {
   "cell_type": "code",
   "execution_count": 353,
   "metadata": {},
   "outputs": [
    {
     "name": "stdout",
     "output_type": "stream",
     "text": [
      "[1.         0.98675767 0.90651021 0.84278664 0.84278664 0.80746358\n",
      " 0.73190752 0.69185671 0.60736767 0.41944874 0.22607129 0.22607129\n",
      " 0.22607129]\n",
      "[1.         0.85714286 0.74025974 0.66233766 0.66233766 0.62094156\n",
      " 0.53814935 0.49675325 0.41396104 0.24837662 0.09935065 0.09935065\n",
      " 0.09935065]\n",
      "[ 1.          0.72752804  0.57400927  0.48188869  0.48188869  0.43441954\n",
      "  0.34439118  0.30164979  0.2205544   0.07730451 -0.02736999 -0.02736999\n",
      " -0.02736999]\n"
     ]
    }
   ],
   "source": [
    "km_list = [1]\n",
    "var_list = [0]\n",
    "for day in range(1,13):\n",
    "    n_day = np.sum(all_ema_survival[:,1] >= day, dtype='f')\n",
    "    subset = all_ema_survival[all_ema_survival[:,1] == day,:]\n",
    "    subset = subset[subset[:,2] == 1]\n",
    "    d_day = subset.shape[0]\n",
    "    km_list.append(1-d_day/n_day)\n",
    "    var_list.append(d_day/(n_day * (n_day - d_day)))\n",
    "\n",
    "km_est = np.cumprod(km_list)\n",
    "\n",
    "var_est = np.multiply(np.power(km_est,2),np.cumsum(var_list))\n",
    "\n",
    "km_stderr = np.sqrt(var_est)\n",
    "\n",
    "upper_km_est = km_est + 1.96*km_stderr\n",
    "lower_km_est = km_est - 1.96*km_stderr\n",
    "\n",
    "print upper_km_est\n",
    "print km_est\n",
    "print lower_km_est\n",
    "\n",
    "\n"
   ]
  }
 ],
 "metadata": {
  "kernelspec": {
   "display_name": "Python 3",
   "language": "python",
   "name": "python3"
  },
  "language_info": {
   "codemirror_mode": {
    "name": "ipython",
    "version": 3
   },
   "file_extension": ".py",
   "mimetype": "text/x-python",
   "name": "python",
   "nbconvert_exporter": "python",
   "pygments_lexer": "ipython3",
   "version": "3.7.6"
  }
 },
 "nbformat": 4,
 "nbformat_minor": 2
}
