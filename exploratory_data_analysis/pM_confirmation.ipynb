{
 "cells": [
  {
   "cell_type": "markdown",
   "metadata": {},
   "source": [
    "## puffMarker: Exploratory Data Analysis\n",
    "\n",
    "- This notebook is dedicated to understanding puffMarker using self-report and random EMA\n",
    "- For every self-report and random EMA with response 'Yes', check to see\n",
    "    + What is the fraction where a puffMarker is  __NOT__ triggered in a (10, 15, 20, 25, 30) minute radius around the recall time\n",
    "    + This is a rough estimate of the false negative rate\n",
    "    + We see that for a 15-minute window the fraction is 0.88\n",
    "- For every random EMA with response 'No', check to see \n",
    "    + What is the fraction where a puffMarker is triggered in a 10 (15, 20, 25, 30) minute in the window since last self-report or random EMA?\n",
    "    + This is a rough estimate of the false positive rate\n",
    "    + We see that for a 15-minute window the fraction is 0.017\n",
    "- For every end-of-day EMA where the person responds with 0 hours of smoking, check to see \n",
    "    + What is the fraction where a puffMarker is triggered any time in the day?\n",
    "    + This is a rough estimate of the false positive rate\n",
    "    + We see that the fraction is 0.302\n",
    "- Note: this does not account for data quality\n",
    "- For deterministic rule, it is more important to compute P( event \\given puffmarker)\n",
    "    + We look at all pM events and ask \"Is there any random or self-report in Delta window around it\"?\n",
    "    + This is a different conditional statement than above!\n",
    "    + We still see that in a 15-minute window around pM, the fraction of times a SR or random EMA says 'Yes' is only 0.086.\n",
    "    + Suggests we should not rely on pM in the deterministic rule"
   ]
  },
  {
   "cell_type": "code",
   "execution_count": 1,
   "metadata": {},
   "outputs": [],
   "source": [
    "import pandas as pd\n",
    "import numpy as np\n",
    "import datetime as datetime\n",
    "import os\n",
    "os.getcwd()\n",
    "dir = \"../final-data\""
   ]
  },
  {
   "cell_type": "code",
   "execution_count": 2,
   "metadata": {},
   "outputs": [],
   "source": [
    "## Dictionaries for Self-report and Random EMA\n",
    "sr_accptresponse = ['Smoking Event(15 to 30 minutes)', '5 to 15 minutes', 'Smoking Event(less than 5 minutes ago)']\n",
    "sr_dictionary = {'Smoking Event(less than 5 minutes ago)': 2.5, \n",
    "                 'Smoking Event(15 - 30 minutes)': 17.5, \n",
    "                 'Smoking Event(5 - 15 minutes)': 10\n",
    "                } \n",
    "random_accptresponse = ['1 - 19 Minutes', '20 - 39 Minutes', '40 - 59 Minutes', \n",
    "                    '60 - 79 Minutes', '80 - 100 Minutes']\n",
    "random_dictionary = {'1 - 19 Minutes': 10, \n",
    "                     '20 - 39 Minutes': 30, \n",
    "                     '40 - 59 Minutes':50,\n",
    "                     '60 - 79 Minutes':70, \n",
    "                     '80 - 100 Minutes':90 }"
   ]
  },
  {
   "cell_type": "code",
   "execution_count": 3,
   "metadata": {},
   "outputs": [
    {
     "name": "stdout",
     "output_type": "stream",
     "text": [
      "Index(['message', 'participant_id', 'timestamp', 'date', 'hour', 'minute',\n",
      "       'day_of_week'],\n",
      "      dtype='object')\n",
      "Index(['status', 'smoke', 'when_smoke', 'eat', 'when_eat', 'drink',\n",
      "       'when_drink', 'urge', 'cheerful', 'happy', 'angry', 'stress', 'sad',\n",
      "       'see_or_smell', 'access', 'smoking_location', 'participant_id',\n",
      "       'timestamp', 'date', 'hour', 'minute', 'day_of_week'],\n",
      "      dtype='object')\n",
      "Index(['timestamp', 'event', 'participant_id', 'date', 'hour', 'minute',\n",
      "       'day_of_week'],\n",
      "      dtype='object')\n"
     ]
    }
   ],
   "source": [
    "# read data\n",
    "selfreport = pd.read_csv(os.path.join(os.path.realpath(dir), 'self-report-smoking-final.csv'))\n",
    "random_ema = pd.read_csv(os.path.join(os.path.realpath(dir), 'random-ema-final.csv'))\n",
    "puffMarker = pd.read_csv(os.path.join(os.path.realpath(dir), 'puff-episode-final.csv'))\n",
    "\n",
    "print(selfreport.columns)\n",
    "print(random_ema.columns)\n",
    "print(puffMarker.columns)"
   ]
  },
  {
   "cell_type": "code",
   "execution_count": 4,
   "metadata": {},
   "outputs": [],
   "source": [
    "# Make a list of all self-report times between 8AM and 8PM\n",
    "# Throw away observations for 'when_smoke' is nan or \n",
    "# 'More than 30 minutes' to ensure we can calculate a meaningful \n",
    "# quantity.\n",
    "days_smoked = {}\n",
    "for index, row in selfreport.iterrows():\n",
    "    try:\n",
    "        time = datetime.datetime.strptime(row['date'], '%m/%d/%y %H:%M')\n",
    "    except:\n",
    "        time = datetime.datetime.strptime(row['date'], '%Y-%m-%d %H:%M:%S')\n",
    "    if row['message'] in sr_accptresponse:\n",
    "        time = time - datetime.timedelta(minutes=sr_dictionary[row['message']])\n",
    "    date = (time.year, time.month, time.day, time.hour, time.minute)\n",
    "    if row['participant_id'] not in days_smoked:\n",
    "        days_smoked[row['participant_id']] = set()\n",
    "    if 8 <= date[3] < 20 and row['message'] in sr_accptresponse:        \n",
    "        days_smoked[row['participant_id']].add(time)\n",
    "\n",
    "# Add all Random EMA times between 8AM and 8PM\n",
    "for index, row in random_ema.iterrows():\n",
    "    try:\n",
    "        time = datetime.datetime.strptime(row['date'], '%m/%d/%y %H:%M')\n",
    "    except:\n",
    "        time = datetime.datetime.strptime(row['date'], '%Y-%m-%d %H:%M:%S')\n",
    "    if row['when_smoke'] in random_accptresponse:\n",
    "        time = time - datetime.timedelta(minutes=random_dictionary[row['when_smoke']])\n",
    "    date = (time.year, time.month, time.day, time.hour,time.minute)\n",
    "    if row['participant_id'] not in days_smoked:\n",
    "        days_smoked[row['participant_id']] = set()\n",
    "    if 8 <= date[3] < 20 and row['when_smoke'] in random_accptresponse:        \n",
    "        days_smoked[row['participant_id']].add(time)"
   ]
  },
  {
   "cell_type": "code",
   "execution_count": 5,
   "metadata": {
    "scrolled": true
   },
   "outputs": [],
   "source": [
    "# Make a list of all puffMarker times between 8AM and 8PM\n",
    "pM_days_smoked = {}\n",
    "for index, row in puffMarker.iterrows():\n",
    "    try:\n",
    "        time = datetime.datetime.strptime(row['date'], '%m/%d/%y %H:%M')\n",
    "    except:\n",
    "        time = datetime.datetime.strptime(row['date'], '%Y-%m-%d %H:%M:%S')\n",
    "    date = (time.year, time.month, time.day, time.hour, time.minute)\n",
    "    if row['participant_id'] not in pM_days_smoked:\n",
    "        pM_days_smoked[row['participant_id']] = set()\n",
    "    if 8 <= date[3] < 20:        \n",
    "        pM_days_smoked[row['participant_id']].add(time)\n",
    "\n"
   ]
  },
  {
   "cell_type": "code",
   "execution_count": 6,
   "metadata": {},
   "outputs": [],
   "source": [
    "'''\n",
    "Adjust so if ID is not in one dictionary, then it is added!\n",
    "'''\n",
    "for id in days_smoked.keys():\n",
    "    if id not in pM_days_smoked:\n",
    "        pM_days_smoked[id] = set()\n",
    "\n",
    "for id in pM_days_smoked.keys():\n",
    "    if id not in days_smoked:\n",
    "        days_smoked[id] = set()\n"
   ]
  },
  {
   "cell_type": "code",
   "execution_count": 7,
   "metadata": {},
   "outputs": [],
   "source": [
    "'''\n",
    "Compute fraction of self-report and random EMA 'Yes' that \n",
    "have a matching puffMarker in a window of length delta\n",
    "around event time.\n",
    "'''\n",
    "\n",
    "def falsenegative(delta):\n",
    "    matching_counts = []\n",
    "    for id in set(days_smoked.keys()):\n",
    "        ema_temp = days_smoked[id]\n",
    "        pM_temp = pM_days_smoked[id]\n",
    "        total_count_id = 0\n",
    "        delta_count_id = 0\n",
    "        for time in ema_temp:\n",
    "            total_count_id+=1\n",
    "            match = 0\n",
    "            for pM_time in pM_temp:\n",
    "                time_diff = abs((time - pM_time).total_seconds() / 60.0)\n",
    "                if time_diff <= delta:\n",
    "                    match = 1\n",
    "            if match == 1:\n",
    "                delta_count_id+=1\n",
    "        if total_count_id > 0:\n",
    "            matching_counts.append(np.array([total_count_id, delta_count_id], dtype='f'))\n",
    "\n",
    "    matching_counts = np.asarray(matching_counts)\n",
    "\n",
    "    # matching_counts = np.delete(matching_counts, (np.where(matching_counts[:,0] == 0)[0][0]), axis=0)\n",
    "\n",
    "    fraction_per_delta = np.divide(matching_counts[:,1],matching_counts[:,0])\n",
    "\n",
    "    aggregate_matching_counts = np.sum(matching_counts, axis=0)\n",
    "\n",
    "    aggregate_frac_delta = aggregate_matching_counts[1]/aggregate_matching_counts[0]\n",
    "\n",
    "    print('In window of length: %s' % delta)\n",
    "    print('Aggregated data, Fraction agreement: %s' % (np.round(1-aggregate_frac_delta,3)))\n",
    "    print('Mean of Fraction agreement across indidivuals: %s' % (np.round(np.mean(1-fraction_per_delta),3)))\n",
    "    print('Standard deviation of Fraction agreement across indidivuals: %s' %  (np.round(np.std(1-fraction_per_delta),3)))"
   ]
  },
  {
   "cell_type": "code",
   "execution_count": 8,
   "metadata": {},
   "outputs": [
    {
     "name": "stdout",
     "output_type": "stream",
     "text": [
      "In window of length: 10\n",
      "Aggregated data, Fraction agreement: 0.897\n",
      "Mean of Fraction agreement across indidivuals: 0.875\n",
      "Standard deviation of Fraction agreement across indidivuals: 0.158\n",
      "In window of length: 15\n",
      "Aggregated data, Fraction agreement: 0.88\n",
      "Mean of Fraction agreement across indidivuals: 0.857\n",
      "Standard deviation of Fraction agreement across indidivuals: 0.172\n",
      "In window of length: 20\n",
      "Aggregated data, Fraction agreement: 0.871\n",
      "Mean of Fraction agreement across indidivuals: 0.848\n",
      "Standard deviation of Fraction agreement across indidivuals: 0.181\n",
      "In window of length: 25\n",
      "Aggregated data, Fraction agreement: 0.864\n",
      "Mean of Fraction agreement across indidivuals: 0.842\n",
      "Standard deviation of Fraction agreement across indidivuals: 0.186\n",
      "In window of length: 30\n",
      "Aggregated data, Fraction agreement: 0.855\n",
      "Mean of Fraction agreement across indidivuals: 0.83\n",
      "Standard deviation of Fraction agreement across indidivuals: 0.198\n"
     ]
    }
   ],
   "source": [
    "falsenegative(10)\n",
    "\n",
    "falsenegative(15)\n",
    "\n",
    "falsenegative(20)\n",
    "\n",
    "falsenegative(25)\n",
    "\n",
    "falsenegative(30)"
   ]
  },
  {
   "cell_type": "code",
   "execution_count": 9,
   "metadata": {},
   "outputs": [],
   "source": [
    "# All Random EMA times where the response was 'No'\n",
    "no_smoked = {}\n",
    "for index, row in random_ema.iterrows():\n",
    "    try:\n",
    "        time = datetime.datetime.strptime(row['date'], '%m/%d/%y %H:%M')\n",
    "    except:\n",
    "        time = datetime.datetime.strptime(row['date'], '%Y-%m-%d %H:%M:%S')\n",
    "    if row['smoke'] == 'No':\n",
    "        if row['participant_id'] not in no_smoked:\n",
    "            no_smoked[row['participant_id']] = set()\n",
    "        if 8 <= time.hour < 20:        \n",
    "            no_smoked[row['participant_id']].add(time)"
   ]
  },
  {
   "cell_type": "code",
   "execution_count": 10,
   "metadata": {},
   "outputs": [],
   "source": [
    "def falsepositive(delta):\n",
    "    matching_counts = []\n",
    "    for id in set(no_smoked.keys()):\n",
    "        ema_temp = no_smoked[id]\n",
    "        pM_temp = pM_days_smoked[id]\n",
    "        total_count_id = 0\n",
    "        delta_count_id = 0\n",
    "        for time in ema_temp:\n",
    "            total_count_id+=1\n",
    "            match = 0\n",
    "            for pM_time in pM_temp:\n",
    "                time_diff = (time - pM_time).total_seconds() / 60.0\n",
    "                if 0 <= time_diff <= delta:\n",
    "                    match = 1\n",
    "            if match == 1:\n",
    "                delta_count_id+=1\n",
    "        if total_count_id > 0:\n",
    "            matching_counts.append(np.array([total_count_id, delta_count_id], dtype='f'))\n",
    "\n",
    "    matching_counts = np.asarray(matching_counts)\n",
    "\n",
    "    # matching_counts = np.delete(matching_counts, (np.where(matching_counts[:,0] == 0)[0][0]), axis=0)\n",
    "\n",
    "    fraction_per_delta = np.divide(matching_counts[:,1],matching_counts[:,0])\n",
    "\n",
    "    aggregate_matching_counts = np.sum(matching_counts, axis=0)\n",
    "\n",
    "    aggregate_frac_delta = aggregate_matching_counts[1]/aggregate_matching_counts[0]\n",
    "\n",
    "    print('In window of length: %s' % delta)\n",
    "    print('Aggregated data, Fraction agreement: %s' % (np.round(aggregate_frac_delta,3)))\n",
    "    print('Mean of Fraction agreement across indidivuals: %s' % (np.round(np.mean(fraction_per_delta),3)))\n",
    "    print('Standard deviation of Fraction agreement across indidivuals: %s' %  (np.round(np.std(fraction_per_delta),3)))"
   ]
  },
  {
   "cell_type": "code",
   "execution_count": 11,
   "metadata": {},
   "outputs": [
    {
     "name": "stdout",
     "output_type": "stream",
     "text": [
      "In window of length: 10\n",
      "Aggregated data, Fraction agreement: 0.009\n",
      "Mean of Fraction agreement across indidivuals: 0.008\n",
      "Standard deviation of Fraction agreement across indidivuals: 0.033\n",
      "In window of length: 15\n",
      "Aggregated data, Fraction agreement: 0.017\n",
      "Mean of Fraction agreement across indidivuals: 0.016\n",
      "Standard deviation of Fraction agreement across indidivuals: 0.048\n",
      "In window of length: 20\n",
      "Aggregated data, Fraction agreement: 0.026\n",
      "Mean of Fraction agreement across indidivuals: 0.028\n",
      "Standard deviation of Fraction agreement across indidivuals: 0.076\n",
      "In window of length: 25\n",
      "Aggregated data, Fraction agreement: 0.029\n",
      "Mean of Fraction agreement across indidivuals: 0.031\n",
      "Standard deviation of Fraction agreement across indidivuals: 0.078\n",
      "In window of length: 30\n",
      "Aggregated data, Fraction agreement: 0.033\n",
      "Mean of Fraction agreement across indidivuals: 0.033\n",
      "Standard deviation of Fraction agreement across indidivuals: 0.08\n",
      "In window of length: 60\n",
      "Aggregated data, Fraction agreement: 0.066\n",
      "Mean of Fraction agreement across indidivuals: 0.065\n",
      "Standard deviation of Fraction agreement across indidivuals: 0.121\n"
     ]
    }
   ],
   "source": [
    "falsepositive(10)\n",
    "\n",
    "falsepositive(15)\n",
    "\n",
    "falsepositive(20)\n",
    "\n",
    "falsepositive(25)\n",
    "\n",
    "falsepositive(30)\n",
    "\n",
    "falsepositive(60)"
   ]
  },
  {
   "cell_type": "code",
   "execution_count": 12,
   "metadata": {},
   "outputs": [
    {
     "data": {
      "text/plain": [
       "array([203, 2017, 8, 16, 0.0, 0.0, 0.0, 0.0, 0.0, 0.0, 0.0, 0.0, 0.0, 0.0,\n",
       "       0.0, 0.0], dtype=object)"
      ]
     },
     "execution_count": 12,
     "metadata": {},
     "output_type": "execute_result"
    }
   ],
   "source": [
    "'''\n",
    "Alternative for false positive rate. \n",
    "Take all EOD where no smoking on a day was reported.\n",
    "How many of such days had a puffMarker go off?\n",
    "'''\n",
    "\n",
    "eod_ema = pd.read_csv(os.path.join(os.path.realpath(dir), 'eod-ema-final.csv'))\n",
    "keys = ['8to9', '9to10', '10to11', '11to12','12to13','13to14','14to15','15to16','16to17','17to18','18to19','19to20']\n",
    "\n",
    "# List of all dates with all 0s\n",
    "eod_dates = []\n",
    "for irow in range(0,eod_ema.shape[0]):\n",
    "    row = eod_ema.iloc[irow]\n",
    "    if row['status'] == \"MISSED\":\n",
    "        continue\n",
    "    if np.count_nonzero(row[keys]) == 0:\n",
    "        try:\n",
    "            time = datetime.datetime.strptime(row['date'], '%m/%d/%Y %H:%M')\n",
    "        except:\n",
    "            time = datetime.datetime.strptime(row['date'], '%Y-%m-%d %H:%M:%S')\n",
    "        if time.hour  == 0 or time.hour == 1:\n",
    "            date = np.array([row['participant_id'], time.year, time.month, time.day-1])\n",
    "            date = np.append(date, np.array(row[keys]))\n",
    "        else:\n",
    "            date = np.array([row['participant_id'], time.year, time.month, time.day])\n",
    "            date = np.append(date, np.array(row[keys]))\n",
    "        eod_dates.append(date)\n",
    "    \n",
    "eod_dates = np.asarray(eod_dates)\n",
    "eod_dates[0,:]"
   ]
  },
  {
   "cell_type": "code",
   "execution_count": 13,
   "metadata": {},
   "outputs": [
    {
     "data": {
      "text/plain": [
       "0.30177514792899407"
      ]
     },
     "execution_count": 13,
     "metadata": {},
     "output_type": "execute_result"
    }
   ],
   "source": [
    "all_day = 0\n",
    "bad_day = 0 \n",
    "for row in range(0,np.shape(eod_dates)[0]):\n",
    "    all_day += 1\n",
    "    is_bad_day = 0\n",
    "    temp = eod_dates[row,:]\n",
    "    pM_temp = pM_days_smoked[temp[0]]\n",
    "    for times in pM_temp:\n",
    "        hour_check = (8.0 <= times.hour <= 20.0)\n",
    "        year_check = (times.year == temp[1])\n",
    "        month_check = (times.month == temp[2])\n",
    "        day_check = (times.day == temp[3])\n",
    "        if all((year_check, month_check, day_check, hour_check)):\n",
    "            is_bad_day = 1\n",
    "    if is_bad_day == 1:\n",
    "        bad_day += 1\n",
    "\n",
    "falsepositive_rate = bad_day/all_day\n",
    "falsepositive_rate"
   ]
  },
  {
   "cell_type": "code",
   "execution_count": 21,
   "metadata": {},
   "outputs": [],
   "source": [
    "'''\n",
    "Cycle through pM times.\n",
    "See if random or self-report within delta window\n",
    "'''\n",
    "\n",
    "def prob_event_given_pM(delta):\n",
    "    pM_days_smoked.keys()\n",
    "\n",
    "    matching_counts = []\n",
    "    for id in set(pM_days_smoked.keys()):\n",
    "        ema_temp = days_smoked[id]\n",
    "        pM_temp = pM_days_smoked[id]\n",
    "        total_count_id = 0\n",
    "        delta_count_id = 0\n",
    "        for time in pM_temp:\n",
    "            total_count_id+=1\n",
    "            match = 0\n",
    "            for ema_time in ema_temp:\n",
    "                time_diff = (time - ema_time).total_seconds() / 60.0\n",
    "                if 0 <= time_diff <= delta:\n",
    "                    match = 1\n",
    "            if match == 1:\n",
    "                delta_count_id+=1\n",
    "        if total_count_id > 0:\n",
    "            matching_counts.append(np.array([total_count_id, delta_count_id], dtype='f'))\n",
    "\n",
    "    matching_counts = np.asarray(matching_counts)\n",
    "\n",
    "    fraction_per_delta = np.divide(matching_counts[:,1],matching_counts[:,0])\n",
    "\n",
    "    aggregate_matching_counts = np.sum(matching_counts, axis=0)\n",
    "\n",
    "    aggregate_frac_delta = aggregate_matching_counts[1]/aggregate_matching_counts[0]\n",
    "\n",
    "    print('In window of length: %s' % delta)\n",
    "    print('Aggregated data, Fraction agreement: %s' % (np.round(aggregate_frac_delta,3)))\n",
    "    print('Mean of Fraction agreement across indidivuals: %s' % (np.round(np.mean(fraction_per_delta),3)))\n",
    "    print('Standard deviation of Fraction agreement across indidivuals: %s' %  (np.round(np.std(fraction_per_delta),3)))"
   ]
  },
  {
   "cell_type": "code",
   "execution_count": 22,
   "metadata": {},
   "outputs": [
    {
     "name": "stdout",
     "output_type": "stream",
     "text": [
      "In window of length: 10\n",
      "Aggregated data, Fraction agreement: 0.067\n",
      "Mean of Fraction agreement across indidivuals: 0.115\n",
      "Standard deviation of Fraction agreement across indidivuals: 0.235\n",
      "In window of length: 15\n",
      "Aggregated data, Fraction agreement: 0.086\n",
      "Mean of Fraction agreement across indidivuals: 0.131\n",
      "Standard deviation of Fraction agreement across indidivuals: 0.239\n",
      "In window of length: 20\n",
      "Aggregated data, Fraction agreement: 0.097\n",
      "Mean of Fraction agreement across indidivuals: 0.142\n",
      "Standard deviation of Fraction agreement across indidivuals: 0.245\n",
      "In window of length: 25\n",
      "Aggregated data, Fraction agreement: 0.103\n",
      "Mean of Fraction agreement across indidivuals: 0.148\n",
      "Standard deviation of Fraction agreement across indidivuals: 0.247\n",
      "In window of length: 30\n",
      "Aggregated data, Fraction agreement: 0.109\n",
      "Mean of Fraction agreement across indidivuals: 0.152\n",
      "Standard deviation of Fraction agreement across indidivuals: 0.252\n",
      "In window of length: 60\n",
      "Aggregated data, Fraction agreement: 0.191\n",
      "Mean of Fraction agreement across indidivuals: 0.218\n",
      "Standard deviation of Fraction agreement across indidivuals: 0.269\n"
     ]
    }
   ],
   "source": [
    "prob_event_given_pM(10)\n",
    "\n",
    "prob_event_given_pM(15)\n",
    "\n",
    "prob_event_given_pM(20)\n",
    "\n",
    "prob_event_given_pM(25)\n",
    "\n",
    "prob_event_given_pM(30)\n",
    "\n",
    "prob_event_given_pM(60)"
   ]
  }
 ],
 "metadata": {
  "kernelspec": {
   "display_name": "Python 3",
   "language": "python",
   "name": "python3"
  },
  "language_info": {
   "codemirror_mode": {
    "name": "ipython",
    "version": 3
   },
   "file_extension": ".py",
   "mimetype": "text/x-python",
   "name": "python",
   "nbconvert_exporter": "python",
   "pygments_lexer": "ipython3",
   "version": "3.7.6"
  }
 },
 "nbformat": 4,
 "nbformat_minor": 2
}
