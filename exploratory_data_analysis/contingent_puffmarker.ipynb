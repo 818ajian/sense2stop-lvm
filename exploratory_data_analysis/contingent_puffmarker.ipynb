{
 "cells": [
  {
   "cell_type": "code",
   "execution_count": 1,
   "metadata": {
    "collapsed": true
   },
   "outputs": [],
   "source": [
    "import pandas as pd\n",
    "import numpy as np\n",
    "import datetime as datetime"
   ]
  },
  {
   "cell_type": "code",
   "execution_count": 20,
   "metadata": {
    "collapsed": true
   },
   "outputs": [],
   "source": [
    "# read data\n",
    "contingent_ema = pd.read_csv('eventcontingent-ema.csv')\n",
    "puff_marker = pd.read_csv('puff-probability.csv')\n",
    "\n",
    "contingent_ema_alternative = pd.read_csv('eventcontingent-ema-alternative.csv')\n",
    "puff_marker_alternative = pd.read_csv('puff-probability-alternative.csv')\n",
    "\n",
    "contingent_ema_backup = pd.read_csv('eventcontingent-ema-backup.csv')\n",
    "puff_marker_backup = pd.read_csv('puff-probability-backup.csv')"
   ]
  },
  {
   "cell_type": "code",
   "execution_count": 24,
   "metadata": {
    "collapsed": false
   },
   "outputs": [
    {
     "name": "stdout",
     "output_type": "stream",
     "text": [
      "201 {'total': 4, 'completed': 4, 'smoked': 4, 'HTM': 4}\n",
      "202 {'total': 9, 'completed': 9, 'smoked': 9, 'HTM': 9}\n",
      "205 {'total': 6, 'completed': 6, 'smoked': 6, 'HTM': 4}\n",
      "208 {'total': 7, 'completed': 7, 'smoked': 7, 'HTM': 6}\n",
      "209 {'total': 4, 'completed': 4, 'smoked': 4, 'HTM': 4}\n",
      "211 {'total': 7, 'completed': 7, 'smoked': 7, 'HTM': 7}\n",
      "212 {'total': 3, 'completed': 3, 'smoked': 3, 'HTM': 2}\n",
      "213 {'total': 7, 'completed': 7, 'smoked': 7, 'HTM': 7}\n",
      "214 {'total': 11, 'completed': 11, 'smoked': 11, 'HTM': 11}\n",
      "215 {'total': 6, 'completed': 6, 'smoked': 6, 'HTM': 6}\n",
      "216 {'total': 2, 'completed': 2, 'smoked': 2, 'HTM': 2}\n",
      "217 {'total': 8, 'completed': 8, 'smoked': 8, 'HTM': 8}\n",
      "218 {'total': 5, 'completed': 5, 'smoked': 5, 'HTM': 4}\n",
      "219 {'total': 23, 'completed': 23, 'smoked': 23, 'HTM': 22}\n",
      "220 {'total': 9, 'completed': 9, 'smoked': 9, 'HTM': 8}\n",
      "221 {'total': 3, 'completed': 3, 'smoked': 3, 'HTM': 3}\n",
      "222 {'total': 5, 'completed': 5, 'smoked': 5, 'HTM': 4}\n",
      "228 {'total': 18, 'completed': 18, 'smoked': 18, 'HTM': 16}\n",
      "229 {'total': 13, 'completed': 12, 'smoked': 13, 'HTM': 12}\n",
      "230 {'total': 4, 'completed': 4, 'smoked': 4, 'HTM': 4}\n",
      "231 {'total': 6, 'completed': 6, 'smoked': 6, 'HTM': 6}\n",
      "233 {'total': 9, 'completed': 9, 'smoked': 9, 'HTM': 9}\n",
      "234 {'total': 4, 'completed': 4, 'smoked': 4, 'HTM': 4}\n",
      "235 {'total': 6, 'completed': 6, 'smoked': 6, 'HTM': 6}\n",
      "237 {'total': 1, 'completed': 1, 'smoked': 1, 'HTM': 0}\n"
     ]
    }
   ],
   "source": [
    "def contingent_puff(contingent_ema, puff_marker):\n",
    "    '''\n",
    "    checks how many smoking events recorded in contingent_ema are covered by at least one HTMG\n",
    "    '''\n",
    "    \n",
    "    ema_stats = {}\n",
    "    ema_times = {}\n",
    "    puff_times = {}\n",
    "    \n",
    "    # store all HTMG\n",
    "    for index, row in puff_marker.iterrows():\n",
    "        user = row['participant_id']\n",
    "        if user not in puff_times:\n",
    "            puff_times[user] = set()\n",
    "\n",
    "        try:\n",
    "            time = datetime.datetime.strptime(row['date'], '%m/%d/%y %H:%M')\n",
    "        except:\n",
    "            continue\n",
    "        date = (time.year, time.month, time.day, int(row['hour']))\n",
    "        puff_times[user].add(date)\n",
    "    \n",
    "    # store smoking events\n",
    "    for index, row in contingent_ema.iterrows():\n",
    "        user = row['participant_id']\n",
    "        if user not in ema_stats:\n",
    "            ema_stats[user] = {'total':0, 'completed':0, 'smoked':0, 'HTM':0}\n",
    "            ema_times[user] = [] \n",
    "        ema_stats[user]['total'] += 1\n",
    "        if row['status'] != \"MISSED\":\n",
    "            ema_stats[user]['completed'] += 1\n",
    "\n",
    "        try:\n",
    "            time = datetime.datetime.strptime(row['date'], '%m/%d/%y %H:%M')\n",
    "        except:\n",
    "            time = datetime.datetime.strptime(row['date'], '%Y-%m-%d %H:%M:%S')\n",
    "\n",
    "        date = (time.year, time.month, time.day, time.hour, time.minute)\n",
    "        \n",
    "        ema_stats[user]['smoked'] += 1 # because every entry in contingent_ema is a smoking event\n",
    "        ema_times[user].append(date)\n",
    "\n",
    "        # check if the smoking event is covered by HTMG within one hour limit\n",
    "        puff_time0 = (time.year, time.month, date[2], date[3]-1)\n",
    "        puff_time1 = (time.year, time.month, date[2], date[3])\n",
    "\n",
    "        if user not in puff_times:\n",
    "            continue\n",
    "        if puff_time0 in puff_times[user] or puff_time1 in puff_times[user]:\n",
    "            ema_stats[user]['HTM']+= 1 # plus one if covered\n",
    "                \n",
    "    return ema_stats\n",
    "\n",
    "ema_stats = contingent_puff(contingent_ema, puff_marker)\n",
    "for user in ema_stats:\n",
    "    print(user, ema_stats[user])"
   ]
  },
  {
   "cell_type": "code",
   "execution_count": 22,
   "metadata": {
    "collapsed": false
   },
   "outputs": [
    {
     "name": "stdout",
     "output_type": "stream",
     "text": [
      "223 {'total': 5, 'completed': 5, 'smoked': 5, 'HTM': 5}\n",
      "224 {'total': 5, 'completed': 5, 'smoked': 5, 'HTM': 5}\n",
      "226 {'total': 12, 'completed': 11, 'smoked': 12, 'HTM': 11}\n",
      "227 {'total': 39, 'completed': 39, 'smoked': 39, 'HTM': 29}\n"
     ]
    }
   ],
   "source": [
    "ema_stats = contingent_puff(contingent_ema_alternative, puff_marker_alternative)\n",
    "for user in ema_stats:\n",
    "    print(user, ema_stats[user])"
   ]
  },
  {
   "cell_type": "code",
   "execution_count": 23,
   "metadata": {
    "collapsed": false
   },
   "outputs": [
    {
     "name": "stdout",
     "output_type": "stream",
     "text": [
      "202 {'total': 9, 'completed': 9, 'smoked': 9, 'HTM': 9}\n",
      "204 {'total': 5, 'completed': 5, 'smoked': 5, 'HTM': 5}\n",
      "205 {'total': 6, 'completed': 6, 'smoked': 6, 'HTM': 4}\n",
      "207 {'total': 9, 'completed': 9, 'smoked': 9, 'HTM': 6}\n",
      "208 {'total': 14, 'completed': 14, 'smoked': 14, 'HTM': 13}\n",
      "209 {'total': 4, 'completed': 4, 'smoked': 4, 'HTM': 4}\n",
      "211 {'total': 7, 'completed': 7, 'smoked': 7, 'HTM': 7}\n",
      "212 {'total': 3, 'completed': 3, 'smoked': 3, 'HTM': 2}\n",
      "213 {'total': 7, 'completed': 7, 'smoked': 7, 'HTM': 7}\n",
      "214 {'total': 11, 'completed': 11, 'smoked': 11, 'HTM': 11}\n",
      "215 {'total': 6, 'completed': 6, 'smoked': 6, 'HTM': 6}\n",
      "216 {'total': 2, 'completed': 2, 'smoked': 2, 'HTM': 2}\n",
      "217 {'total': 8, 'completed': 8, 'smoked': 8, 'HTM': 8}\n",
      "218 {'total': 5, 'completed': 5, 'smoked': 5, 'HTM': 4}\n",
      "219 {'total': 23, 'completed': 23, 'smoked': 23, 'HTM': 22}\n",
      "220 {'total': 10, 'completed': 10, 'smoked': 10, 'HTM': 9}\n",
      "222 {'total': 8, 'completed': 8, 'smoked': 8, 'HTM': 7}\n",
      "228 {'total': 18, 'completed': 18, 'smoked': 18, 'HTM': 16}\n",
      "230 {'total': 4, 'completed': 4, 'smoked': 4, 'HTM': 4}\n",
      "231 {'total': 6, 'completed': 6, 'smoked': 6, 'HTM': 6}\n",
      "233 {'total': 9, 'completed': 9, 'smoked': 9, 'HTM': 9}\n",
      "234 {'total': 4, 'completed': 4, 'smoked': 4, 'HTM': 4}\n",
      "235 {'total': 6, 'completed': 6, 'smoked': 6, 'HTM': 6}\n",
      "237 {'total': 1, 'completed': 1, 'smoked': 1, 'HTM': 0}\n"
     ]
    }
   ],
   "source": [
    "ema_stats = contingent_puff(contingent_ema_backup, puff_marker_backup)\n",
    "for user in ema_stats:\n",
    "    print(user, ema_stats[user])"
   ]
  },
  {
   "cell_type": "code",
   "execution_count": null,
   "metadata": {
    "collapsed": true
   },
   "outputs": [],
   "source": []
  }
 ],
 "metadata": {
  "kernelspec": {
   "display_name": "Python 3",
   "language": "python",
   "name": "python3"
  },
  "language_info": {
   "codemirror_mode": {
    "name": "ipython",
    "version": 3
   },
   "file_extension": ".py",
   "mimetype": "text/x-python",
   "name": "python",
   "nbconvert_exporter": "python",
   "pygments_lexer": "ipython3",
   "version": "3.6.2"
  }
 },
 "nbformat": 4,
 "nbformat_minor": 2
}
